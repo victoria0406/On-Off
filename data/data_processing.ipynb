{
  "cells": [
    {
      "cell_type": "markdown",
      "metadata": {
        "id": "fkPXHdRYh4j4"
      },
      "source": [
        "# Data Processing"
      ]
    },
    {
      "cell_type": "markdown",
      "metadata": {
        "id": "bAu0vdFrGwyq"
      },
      "source": [
        "## Load Data\n"
      ]
    },
    {
      "cell_type": "code",
      "execution_count": null,
      "metadata": {
        "colab": {
          "base_uri": "https://localhost:8080/"
        },
        "id": "G8dR92TeG3cw",
        "outputId": "dc5b0377-184c-4123-dc54-38581bb3f8cd"
      },
      "outputs": [
        {
          "output_type": "stream",
          "name": "stdout",
          "text": [
            "Mounted at /content/drive\n"
          ]
        }
      ],
      "source": [
        "from google.colab import drive\n",
        "drive.mount('/content/drive')"
      ]
    },
    {
      "cell_type": "code",
      "execution_count": null,
      "metadata": {
        "id": "99ksbxzmHyry"
      },
      "outputs": [],
      "source": [
        "import pandas as pd\n",
        "import numpy as np\n",
        "import os\n",
        "import plotly.graph_objects as go"
      ]
    },
    {
      "cell_type": "code",
      "execution_count": null,
      "metadata": {
        "id": "44RKg53fjO6P"
      },
      "outputs": [],
      "source": [
        "user = 'P3016/'\n",
        "route = '/content/drive/My Drive/DP_data processing/'+user\n",
        "# 경로 불러올 때 route+('파일이름.csv') 쓰면 됨"
      ]
    },
    {
      "cell_type": "markdown",
      "source": [],
      "metadata": {
        "id": "dUxvsatDjSHa"
      }
    },
    {
      "cell_type": "code",
      "execution_count": null,
      "metadata": {
        "id": "IwtyFCklEe23"
      },
      "outputs": [],
      "source": [
        "in_folder = os.listdir(route)\n",
        "\n",
        "aUSE_files = []\n",
        "aUSE_ENENT_files = []\n",
        "dEE_files = []\n",
        "for file in in_folder:\n",
        "  if \"AppUsageStatEntity\" in file:\n",
        "    aUSE_files.append(file)\n",
        "  if \"AppUsageEventEntity\" in file:\n",
        "    aUSE_ENENT_files.append(file)\n",
        "  if \"DeviceEventEntity\" in file:\n",
        "    dEE_files.append(file)\n",
        "\n",
        "# 정렬\n",
        "aUSE_files = sorted(aUSE_files)\n",
        "aUSE_ENENT_files = sorted(aUSE_ENENT_files)\n",
        "dEE_files = sorted(dEE_files)"
      ]
    },
    {
      "cell_type": "markdown",
      "source": [
        "# Doyun Data Processing\n",
        "1. app_usage_time.csv\n",
        "2. app_usage_hour.csv"
      ],
      "metadata": {
        "id": "ivESHCtF0tfu"
      }
    },
    {
      "cell_type": "markdown",
      "source": [
        "get_app_usage_df: read_csv 데이터의 preprocessing <br/>\n",
        "i = 몇번째 파일을 사용할 것인가 (0 ~ len(aUSE_files)-1 = 6) <br/>\n",
        "프로세싱 내용\n",
        "1. 중복된 timestamp 제거\n",
        "2. 변화량이 없는 redundant 데이터 제거\n",
        "3. 측정 기준 시간을 00:00 으로 변경\n",
        "4. timestamp를 to_datetime으로 변경"
      ],
      "metadata": {
        "id": "AM6UoZe30tfv"
      }
    },
    {
      "cell_type": "markdown",
      "source": [
        "## app usage data correction"
      ],
      "metadata": {
        "id": "uMDcI-Bv0tfv"
      }
    },
    {
      "cell_type": "code",
      "source": [
        "def get_app_usage_df(i):\n",
        "  app_usage_df = pd.read_csv(route+aUSE_files[i])\n",
        "  app_usage_df = app_usage_df.loc[(app_usage_df.isSystemApp == False) | (app_usage_df.packageName.isin(['com.android.chrome']))] \n",
        "  app_usage_df = app_usage_df.drop(['isUpdatedSystemApp', 'isSystemApp', 'lastTimeUsed'], axis=1)\n",
        "  revised_app_usage_df = pd.DataFrame(columns=app_usage_df.columns)\n",
        "  # 3. 측정 기준 시간을 00:00 으로 변경\n",
        "  for name, group in app_usage_df.groupby('name'):\n",
        "    #1. 중복된 timestamp 제거\n",
        "    group = group.drop_duplicates(subset='timestamp', keep='first')\n",
        "    #2. 변화량이 없는 redundant 데이터 제거\n",
        "    group = group.loc[(group['totalTimeForeground'].diff().fillna(0) != 0) | (group['totalTimeForeground'].diff(-1).fillna(0) != 0)]\n",
        "    diff = group['totalTimeForeground'].diff().fillna(0)\n",
        "    if group.shape[0] == 0 : continue\n",
        "    decreasing_mask = (diff < 0)\n",
        "    max_in_middle = 0\n",
        "    start_total_time = -group.iloc[0]['totalTimeForeground']\n",
        "    is_decrese_detected = False\n",
        "    group_row_len = group.shape[0]\n",
        "    for index, row in group.iterrows():\n",
        "      if decreasing_mask[index]:\n",
        "        start_total_time += max_in_middle\n",
        "        is_decrese_detected = True\n",
        "      elif not is_decrese_detected:\n",
        "        max_in_middle = group.loc[index,'totalTimeForeground']\n",
        "      group.loc[index,'totalTimeForeground'] += start_total_time;\n",
        "    revised_app_usage_df = pd.concat([revised_app_usage_df, group])\n",
        "  # 4. timestamp를 to_datetime으로 변경\n",
        "  revised_app_usage_df['timestamp'] = pd.to_datetime(revised_app_usage_df['timestamp'], unit='ms')\n",
        "  return revised_app_usage_df"
      ],
      "metadata": {
        "id": "kRca9kra0tfv"
      },
      "execution_count": null,
      "outputs": []
    },
    {
      "cell_type": "code",
      "source": [],
      "metadata": {
        "id": "lATa_7s_0tfv"
      },
      "execution_count": null,
      "outputs": []
    },
    {
      "cell_type": "markdown",
      "source": [
        "모든 파일을 preprocessing 된 dataframe list로 변경"
      ],
      "metadata": {
        "id": "DwXcGtxA0tfv"
      }
    },
    {
      "cell_type": "code",
      "source": [
        "app_usage_df_list = [get_app_usage_df(i) for i in range(len(aUSE_files))] "
      ],
      "metadata": {
        "id": "bofUpZxu0tfv"
      },
      "execution_count": null,
      "outputs": []
    },
    {
      "cell_type": "code",
      "source": [
        "app_usage_df_list[0]"
      ],
      "metadata": {
        "colab": {
          "base_uri": "https://localhost:8080/",
          "height": 423
        },
        "id": "Val3LbXc6DtO",
        "outputId": "d0ce63b4-ef6a-4058-b1df-bf07c054ff93"
      },
      "execution_count": 60,
      "outputs": [
        {
          "output_type": "execute_result",
          "data": {
            "text/plain": [
              "                   timestamp    name                  packageName  \\\n",
              "481  2019-04-30 04:01:57.477  Chrome           com.android.chrome   \n",
              "495  2019-04-30 04:06:57.477  Chrome           com.android.chrome   \n",
              "529  2019-04-30 04:16:57.477  Chrome           com.android.chrome   \n",
              "549  2019-04-30 04:21:57.477  Chrome           com.android.chrome   \n",
              "711  2019-04-30 05:01:57.477  Chrome           com.android.chrome   \n",
              "...                      ...     ...                          ...   \n",
              "2961 2019-04-30 13:26:57.477     캘린더  com.google.android.calendar   \n",
              "3111 2019-04-30 14:16:57.477     캘린더  com.google.android.calendar   \n",
              "3129 2019-04-30 14:21:57.477     캘린더  com.google.android.calendar   \n",
              "3371 2019-04-30 15:26:57.477     캘린더  com.google.android.calendar   \n",
              "3392 2019-04-30 15:31:57.477     캘린더  com.google.android.calendar   \n",
              "\n",
              "          startTime        endTime totalTimeForeground  \n",
              "481   1556535340861  1556596886222                   0  \n",
              "495   1556535340861  1556597200467              193689  \n",
              "529   1556535340861  1556597200467              193689  \n",
              "549   1556535340861  1556598143666              195127  \n",
              "711   1556535340861  1556598143666              195127  \n",
              "...             ...            ...                 ...  \n",
              "2961  1556621878318  1556631247623              152862  \n",
              "3111  1556621878318  1556631247623              152862  \n",
              "3129  1556621878318  1556634894342              157340  \n",
              "3371  1556621878318  1556634894342              157340  \n",
              "3392  1556621878318  1556639140590              160403  \n",
              "\n",
              "[343 rows x 6 columns]"
            ],
            "text/html": [
              "\n",
              "  <div id=\"df-fdd9e74a-d814-4509-832f-9978a25c5e03\">\n",
              "    <div class=\"colab-df-container\">\n",
              "      <div>\n",
              "<style scoped>\n",
              "    .dataframe tbody tr th:only-of-type {\n",
              "        vertical-align: middle;\n",
              "    }\n",
              "\n",
              "    .dataframe tbody tr th {\n",
              "        vertical-align: top;\n",
              "    }\n",
              "\n",
              "    .dataframe thead th {\n",
              "        text-align: right;\n",
              "    }\n",
              "</style>\n",
              "<table border=\"1\" class=\"dataframe\">\n",
              "  <thead>\n",
              "    <tr style=\"text-align: right;\">\n",
              "      <th></th>\n",
              "      <th>timestamp</th>\n",
              "      <th>name</th>\n",
              "      <th>packageName</th>\n",
              "      <th>startTime</th>\n",
              "      <th>endTime</th>\n",
              "      <th>totalTimeForeground</th>\n",
              "    </tr>\n",
              "  </thead>\n",
              "  <tbody>\n",
              "    <tr>\n",
              "      <th>481</th>\n",
              "      <td>2019-04-30 04:01:57.477</td>\n",
              "      <td>Chrome</td>\n",
              "      <td>com.android.chrome</td>\n",
              "      <td>1556535340861</td>\n",
              "      <td>1556596886222</td>\n",
              "      <td>0</td>\n",
              "    </tr>\n",
              "    <tr>\n",
              "      <th>495</th>\n",
              "      <td>2019-04-30 04:06:57.477</td>\n",
              "      <td>Chrome</td>\n",
              "      <td>com.android.chrome</td>\n",
              "      <td>1556535340861</td>\n",
              "      <td>1556597200467</td>\n",
              "      <td>193689</td>\n",
              "    </tr>\n",
              "    <tr>\n",
              "      <th>529</th>\n",
              "      <td>2019-04-30 04:16:57.477</td>\n",
              "      <td>Chrome</td>\n",
              "      <td>com.android.chrome</td>\n",
              "      <td>1556535340861</td>\n",
              "      <td>1556597200467</td>\n",
              "      <td>193689</td>\n",
              "    </tr>\n",
              "    <tr>\n",
              "      <th>549</th>\n",
              "      <td>2019-04-30 04:21:57.477</td>\n",
              "      <td>Chrome</td>\n",
              "      <td>com.android.chrome</td>\n",
              "      <td>1556535340861</td>\n",
              "      <td>1556598143666</td>\n",
              "      <td>195127</td>\n",
              "    </tr>\n",
              "    <tr>\n",
              "      <th>711</th>\n",
              "      <td>2019-04-30 05:01:57.477</td>\n",
              "      <td>Chrome</td>\n",
              "      <td>com.android.chrome</td>\n",
              "      <td>1556535340861</td>\n",
              "      <td>1556598143666</td>\n",
              "      <td>195127</td>\n",
              "    </tr>\n",
              "    <tr>\n",
              "      <th>...</th>\n",
              "      <td>...</td>\n",
              "      <td>...</td>\n",
              "      <td>...</td>\n",
              "      <td>...</td>\n",
              "      <td>...</td>\n",
              "      <td>...</td>\n",
              "    </tr>\n",
              "    <tr>\n",
              "      <th>2961</th>\n",
              "      <td>2019-04-30 13:26:57.477</td>\n",
              "      <td>캘린더</td>\n",
              "      <td>com.google.android.calendar</td>\n",
              "      <td>1556621878318</td>\n",
              "      <td>1556631247623</td>\n",
              "      <td>152862</td>\n",
              "    </tr>\n",
              "    <tr>\n",
              "      <th>3111</th>\n",
              "      <td>2019-04-30 14:16:57.477</td>\n",
              "      <td>캘린더</td>\n",
              "      <td>com.google.android.calendar</td>\n",
              "      <td>1556621878318</td>\n",
              "      <td>1556631247623</td>\n",
              "      <td>152862</td>\n",
              "    </tr>\n",
              "    <tr>\n",
              "      <th>3129</th>\n",
              "      <td>2019-04-30 14:21:57.477</td>\n",
              "      <td>캘린더</td>\n",
              "      <td>com.google.android.calendar</td>\n",
              "      <td>1556621878318</td>\n",
              "      <td>1556634894342</td>\n",
              "      <td>157340</td>\n",
              "    </tr>\n",
              "    <tr>\n",
              "      <th>3371</th>\n",
              "      <td>2019-04-30 15:26:57.477</td>\n",
              "      <td>캘린더</td>\n",
              "      <td>com.google.android.calendar</td>\n",
              "      <td>1556621878318</td>\n",
              "      <td>1556634894342</td>\n",
              "      <td>157340</td>\n",
              "    </tr>\n",
              "    <tr>\n",
              "      <th>3392</th>\n",
              "      <td>2019-04-30 15:31:57.477</td>\n",
              "      <td>캘린더</td>\n",
              "      <td>com.google.android.calendar</td>\n",
              "      <td>1556621878318</td>\n",
              "      <td>1556639140590</td>\n",
              "      <td>160403</td>\n",
              "    </tr>\n",
              "  </tbody>\n",
              "</table>\n",
              "<p>343 rows × 6 columns</p>\n",
              "</div>\n",
              "      <button class=\"colab-df-convert\" onclick=\"convertToInteractive('df-fdd9e74a-d814-4509-832f-9978a25c5e03')\"\n",
              "              title=\"Convert this dataframe to an interactive table.\"\n",
              "              style=\"display:none;\">\n",
              "        \n",
              "  <svg xmlns=\"http://www.w3.org/2000/svg\" height=\"24px\"viewBox=\"0 0 24 24\"\n",
              "       width=\"24px\">\n",
              "    <path d=\"M0 0h24v24H0V0z\" fill=\"none\"/>\n",
              "    <path d=\"M18.56 5.44l.94 2.06.94-2.06 2.06-.94-2.06-.94-.94-2.06-.94 2.06-2.06.94zm-11 1L8.5 8.5l.94-2.06 2.06-.94-2.06-.94L8.5 2.5l-.94 2.06-2.06.94zm10 10l.94 2.06.94-2.06 2.06-.94-2.06-.94-.94-2.06-.94 2.06-2.06.94z\"/><path d=\"M17.41 7.96l-1.37-1.37c-.4-.4-.92-.59-1.43-.59-.52 0-1.04.2-1.43.59L10.3 9.45l-7.72 7.72c-.78.78-.78 2.05 0 2.83L4 21.41c.39.39.9.59 1.41.59.51 0 1.02-.2 1.41-.59l7.78-7.78 2.81-2.81c.8-.78.8-2.07 0-2.86zM5.41 20L4 18.59l7.72-7.72 1.47 1.35L5.41 20z\"/>\n",
              "  </svg>\n",
              "      </button>\n",
              "      \n",
              "  <style>\n",
              "    .colab-df-container {\n",
              "      display:flex;\n",
              "      flex-wrap:wrap;\n",
              "      gap: 12px;\n",
              "    }\n",
              "\n",
              "    .colab-df-convert {\n",
              "      background-color: #E8F0FE;\n",
              "      border: none;\n",
              "      border-radius: 50%;\n",
              "      cursor: pointer;\n",
              "      display: none;\n",
              "      fill: #1967D2;\n",
              "      height: 32px;\n",
              "      padding: 0 0 0 0;\n",
              "      width: 32px;\n",
              "    }\n",
              "\n",
              "    .colab-df-convert:hover {\n",
              "      background-color: #E2EBFA;\n",
              "      box-shadow: 0px 1px 2px rgba(60, 64, 67, 0.3), 0px 1px 3px 1px rgba(60, 64, 67, 0.15);\n",
              "      fill: #174EA6;\n",
              "    }\n",
              "\n",
              "    [theme=dark] .colab-df-convert {\n",
              "      background-color: #3B4455;\n",
              "      fill: #D2E3FC;\n",
              "    }\n",
              "\n",
              "    [theme=dark] .colab-df-convert:hover {\n",
              "      background-color: #434B5C;\n",
              "      box-shadow: 0px 1px 3px 1px rgba(0, 0, 0, 0.15);\n",
              "      filter: drop-shadow(0px 1px 2px rgba(0, 0, 0, 0.3));\n",
              "      fill: #FFFFFF;\n",
              "    }\n",
              "  </style>\n",
              "\n",
              "      <script>\n",
              "        const buttonEl =\n",
              "          document.querySelector('#df-fdd9e74a-d814-4509-832f-9978a25c5e03 button.colab-df-convert');\n",
              "        buttonEl.style.display =\n",
              "          google.colab.kernel.accessAllowed ? 'block' : 'none';\n",
              "\n",
              "        async function convertToInteractive(key) {\n",
              "          const element = document.querySelector('#df-fdd9e74a-d814-4509-832f-9978a25c5e03');\n",
              "          const dataTable =\n",
              "            await google.colab.kernel.invokeFunction('convertToInteractive',\n",
              "                                                     [key], {});\n",
              "          if (!dataTable) return;\n",
              "\n",
              "          const docLinkHtml = 'Like what you see? Visit the ' +\n",
              "            '<a target=\"_blank\" href=https://colab.research.google.com/notebooks/data_table.ipynb>data table notebook</a>'\n",
              "            + ' to learn more about interactive tables.';\n",
              "          element.innerHTML = '';\n",
              "          dataTable['output_type'] = 'display_data';\n",
              "          await google.colab.output.renderOutput(dataTable, element);\n",
              "          const docLink = document.createElement('div');\n",
              "          docLink.innerHTML = docLinkHtml;\n",
              "          element.appendChild(docLink);\n",
              "        }\n",
              "      </script>\n",
              "    </div>\n",
              "  </div>\n",
              "  "
            ]
          },
          "metadata": {},
          "execution_count": 60
        }
      ]
    },
    {
      "cell_type": "markdown",
      "source": [
        "## get_app_usage_time\n",
        "- app_usage_time.csv를 위한 dataframe을 만드는 함수\n",
        "- only_top5 = applist 중 top5만 가져올 것인가 (default = False)"
      ],
      "metadata": {
        "id": "wsPapu5m0tfw"
      }
    },
    {
      "cell_type": "code",
      "source": [
        "def get_app_usage_time(only_top5 = False):\n",
        "  app_usage_time_total = pd.DataFrame(columns=['date'])\n",
        "  for app_usage_df_day2 in app_usage_df_list:\n",
        "    today = app_usage_df_day2.iloc[0]['timestamp'].date()\n",
        "    app_usage_df_day2 = app_usage_df_day2.groupby(['name', 'packageName']).agg({'totalTimeForeground': 'max'}).reset_index()\n",
        "    others_total = 0\n",
        "    if (only_top5):\n",
        "      total_time_package_name = app_usage_df_day2.groupby('packageName').agg({'totalTimeForeground': 'max'}).reset_index();\n",
        "      top_package_names = total_time_package_name.nlargest(5, 'totalTimeForeground').packageName.tolist()\n",
        "      top_package_names_global = top_package_names\n",
        "      others_total = app_usage_df_day2.loc[~app_usage_df_day2['packageName'].isin(top_package_names), 'totalTimeForeground'].sum() / 60000\n",
        "      app_usage_df_day2 = app_usage_df_day2[app_usage_df_day2['packageName'].isin(top_package_names)]\n",
        "    app_usage_df_day2.drop('packageName', axis=1)\n",
        "    new_df = pd.DataFrame(columns=app_usage_df_day2['name'].unique())\n",
        "    new_df.loc[0] = app_usage_df_day2['totalTimeForeground'].values / 60000\n",
        "    if (only_top5): new_df['Others'] = others_total\n",
        "    new_df['Total'] = new_df.sum(axis=1);\n",
        "    new_df['date'] = today\n",
        "    app_usage_time_total = pd.concat([app_usage_time_total, new_df], join='outer')\n",
        "  if (not only_top5): app_usage_time_total = app_usage_time_total.fillna(0)\n",
        "  return app_usage_time_total"
      ],
      "metadata": {
        "id": "D_s85wOv0tfw"
      },
      "execution_count": 52,
      "outputs": []
    },
    {
      "cell_type": "code",
      "source": [
        "get_app_usage_time().head()"
      ],
      "metadata": {
        "colab": {
          "base_uri": "https://localhost:8080/",
          "height": 391
        },
        "outputId": "832fbe18-7f95-42db-af8b-a515912fec2f",
        "id": "2D4KUgno0tfw"
      },
      "execution_count": 53,
      "outputs": [
        {
          "output_type": "execute_result",
          "data": {
            "text/plain": [
              "         date     Chrome    Facebook  Instagram  KAIST\\tPortal    Logger  \\\n",
              "0  2019-04-30  11.126850   42.693883   3.612883       1.627200  0.523567   \n",
              "0  2019-05-01   0.758450   42.110617   0.000000       0.000000  0.060233   \n",
              "0  2019-05-02   2.591050   20.049433   0.000000       0.000000  0.633833   \n",
              "0  2019-05-03   1.644467   30.289183   0.000000       0.050133  0.845933   \n",
              "0  2019-05-04   1.121667  500.172833   0.000000       0.000000  0.315283   \n",
              "\n",
              "       Paco  Polar Beat    Puffin     원터치알림        카카오톡       캐시워크       캘린더  \\\n",
              "0  5.504433    3.762150  4.585933  0.063650  131.219600  14.861717  2.673383   \n",
              "0  2.767183    0.930333  0.000000  0.231567   42.041483   8.714517  0.922267   \n",
              "0  5.196333    1.135883  0.000000  0.408383   68.590317  14.356350  1.836967   \n",
              "0  4.756817    4.442217  0.000000  0.377833   70.656483   7.984150  0.359883   \n",
              "0  2.712750    2.682417  0.000000  0.000000   27.079583   6.419883  0.205967   \n",
              "\n",
              "        Total  과학적인 계산기  ABC Logger     원터치개인  \n",
              "0  222.255250  0.000000    0.000000  0.000000  \n",
              "0  102.053267  3.516617    0.000000  0.000000  \n",
              "0  115.651183  0.000000    0.852633  0.000000  \n",
              "0  121.923083  0.000000    0.000000  0.515983  \n",
              "0  540.710383  0.000000    0.000000  0.000000  "
            ],
            "text/html": [
              "\n",
              "  <div id=\"df-b624432e-e6c9-486b-aa68-3a3f16bbe401\">\n",
              "    <div class=\"colab-df-container\">\n",
              "      <div>\n",
              "<style scoped>\n",
              "    .dataframe tbody tr th:only-of-type {\n",
              "        vertical-align: middle;\n",
              "    }\n",
              "\n",
              "    .dataframe tbody tr th {\n",
              "        vertical-align: top;\n",
              "    }\n",
              "\n",
              "    .dataframe thead th {\n",
              "        text-align: right;\n",
              "    }\n",
              "</style>\n",
              "<table border=\"1\" class=\"dataframe\">\n",
              "  <thead>\n",
              "    <tr style=\"text-align: right;\">\n",
              "      <th></th>\n",
              "      <th>date</th>\n",
              "      <th>Chrome</th>\n",
              "      <th>Facebook</th>\n",
              "      <th>Instagram</th>\n",
              "      <th>KAIST\\tPortal</th>\n",
              "      <th>Logger</th>\n",
              "      <th>Paco</th>\n",
              "      <th>Polar Beat</th>\n",
              "      <th>Puffin</th>\n",
              "      <th>원터치알림</th>\n",
              "      <th>카카오톡</th>\n",
              "      <th>캐시워크</th>\n",
              "      <th>캘린더</th>\n",
              "      <th>Total</th>\n",
              "      <th>과학적인 계산기</th>\n",
              "      <th>ABC Logger</th>\n",
              "      <th>원터치개인</th>\n",
              "    </tr>\n",
              "  </thead>\n",
              "  <tbody>\n",
              "    <tr>\n",
              "      <th>0</th>\n",
              "      <td>2019-04-30</td>\n",
              "      <td>11.126850</td>\n",
              "      <td>42.693883</td>\n",
              "      <td>3.612883</td>\n",
              "      <td>1.627200</td>\n",
              "      <td>0.523567</td>\n",
              "      <td>5.504433</td>\n",
              "      <td>3.762150</td>\n",
              "      <td>4.585933</td>\n",
              "      <td>0.063650</td>\n",
              "      <td>131.219600</td>\n",
              "      <td>14.861717</td>\n",
              "      <td>2.673383</td>\n",
              "      <td>222.255250</td>\n",
              "      <td>0.000000</td>\n",
              "      <td>0.000000</td>\n",
              "      <td>0.000000</td>\n",
              "    </tr>\n",
              "    <tr>\n",
              "      <th>0</th>\n",
              "      <td>2019-05-01</td>\n",
              "      <td>0.758450</td>\n",
              "      <td>42.110617</td>\n",
              "      <td>0.000000</td>\n",
              "      <td>0.000000</td>\n",
              "      <td>0.060233</td>\n",
              "      <td>2.767183</td>\n",
              "      <td>0.930333</td>\n",
              "      <td>0.000000</td>\n",
              "      <td>0.231567</td>\n",
              "      <td>42.041483</td>\n",
              "      <td>8.714517</td>\n",
              "      <td>0.922267</td>\n",
              "      <td>102.053267</td>\n",
              "      <td>3.516617</td>\n",
              "      <td>0.000000</td>\n",
              "      <td>0.000000</td>\n",
              "    </tr>\n",
              "    <tr>\n",
              "      <th>0</th>\n",
              "      <td>2019-05-02</td>\n",
              "      <td>2.591050</td>\n",
              "      <td>20.049433</td>\n",
              "      <td>0.000000</td>\n",
              "      <td>0.000000</td>\n",
              "      <td>0.633833</td>\n",
              "      <td>5.196333</td>\n",
              "      <td>1.135883</td>\n",
              "      <td>0.000000</td>\n",
              "      <td>0.408383</td>\n",
              "      <td>68.590317</td>\n",
              "      <td>14.356350</td>\n",
              "      <td>1.836967</td>\n",
              "      <td>115.651183</td>\n",
              "      <td>0.000000</td>\n",
              "      <td>0.852633</td>\n",
              "      <td>0.000000</td>\n",
              "    </tr>\n",
              "    <tr>\n",
              "      <th>0</th>\n",
              "      <td>2019-05-03</td>\n",
              "      <td>1.644467</td>\n",
              "      <td>30.289183</td>\n",
              "      <td>0.000000</td>\n",
              "      <td>0.050133</td>\n",
              "      <td>0.845933</td>\n",
              "      <td>4.756817</td>\n",
              "      <td>4.442217</td>\n",
              "      <td>0.000000</td>\n",
              "      <td>0.377833</td>\n",
              "      <td>70.656483</td>\n",
              "      <td>7.984150</td>\n",
              "      <td>0.359883</td>\n",
              "      <td>121.923083</td>\n",
              "      <td>0.000000</td>\n",
              "      <td>0.000000</td>\n",
              "      <td>0.515983</td>\n",
              "    </tr>\n",
              "    <tr>\n",
              "      <th>0</th>\n",
              "      <td>2019-05-04</td>\n",
              "      <td>1.121667</td>\n",
              "      <td>500.172833</td>\n",
              "      <td>0.000000</td>\n",
              "      <td>0.000000</td>\n",
              "      <td>0.315283</td>\n",
              "      <td>2.712750</td>\n",
              "      <td>2.682417</td>\n",
              "      <td>0.000000</td>\n",
              "      <td>0.000000</td>\n",
              "      <td>27.079583</td>\n",
              "      <td>6.419883</td>\n",
              "      <td>0.205967</td>\n",
              "      <td>540.710383</td>\n",
              "      <td>0.000000</td>\n",
              "      <td>0.000000</td>\n",
              "      <td>0.000000</td>\n",
              "    </tr>\n",
              "  </tbody>\n",
              "</table>\n",
              "</div>\n",
              "      <button class=\"colab-df-convert\" onclick=\"convertToInteractive('df-b624432e-e6c9-486b-aa68-3a3f16bbe401')\"\n",
              "              title=\"Convert this dataframe to an interactive table.\"\n",
              "              style=\"display:none;\">\n",
              "        \n",
              "  <svg xmlns=\"http://www.w3.org/2000/svg\" height=\"24px\"viewBox=\"0 0 24 24\"\n",
              "       width=\"24px\">\n",
              "    <path d=\"M0 0h24v24H0V0z\" fill=\"none\"/>\n",
              "    <path d=\"M18.56 5.44l.94 2.06.94-2.06 2.06-.94-2.06-.94-.94-2.06-.94 2.06-2.06.94zm-11 1L8.5 8.5l.94-2.06 2.06-.94-2.06-.94L8.5 2.5l-.94 2.06-2.06.94zm10 10l.94 2.06.94-2.06 2.06-.94-2.06-.94-.94-2.06-.94 2.06-2.06.94z\"/><path d=\"M17.41 7.96l-1.37-1.37c-.4-.4-.92-.59-1.43-.59-.52 0-1.04.2-1.43.59L10.3 9.45l-7.72 7.72c-.78.78-.78 2.05 0 2.83L4 21.41c.39.39.9.59 1.41.59.51 0 1.02-.2 1.41-.59l7.78-7.78 2.81-2.81c.8-.78.8-2.07 0-2.86zM5.41 20L4 18.59l7.72-7.72 1.47 1.35L5.41 20z\"/>\n",
              "  </svg>\n",
              "      </button>\n",
              "      \n",
              "  <style>\n",
              "    .colab-df-container {\n",
              "      display:flex;\n",
              "      flex-wrap:wrap;\n",
              "      gap: 12px;\n",
              "    }\n",
              "\n",
              "    .colab-df-convert {\n",
              "      background-color: #E8F0FE;\n",
              "      border: none;\n",
              "      border-radius: 50%;\n",
              "      cursor: pointer;\n",
              "      display: none;\n",
              "      fill: #1967D2;\n",
              "      height: 32px;\n",
              "      padding: 0 0 0 0;\n",
              "      width: 32px;\n",
              "    }\n",
              "\n",
              "    .colab-df-convert:hover {\n",
              "      background-color: #E2EBFA;\n",
              "      box-shadow: 0px 1px 2px rgba(60, 64, 67, 0.3), 0px 1px 3px 1px rgba(60, 64, 67, 0.15);\n",
              "      fill: #174EA6;\n",
              "    }\n",
              "\n",
              "    [theme=dark] .colab-df-convert {\n",
              "      background-color: #3B4455;\n",
              "      fill: #D2E3FC;\n",
              "    }\n",
              "\n",
              "    [theme=dark] .colab-df-convert:hover {\n",
              "      background-color: #434B5C;\n",
              "      box-shadow: 0px 1px 3px 1px rgba(0, 0, 0, 0.15);\n",
              "      filter: drop-shadow(0px 1px 2px rgba(0, 0, 0, 0.3));\n",
              "      fill: #FFFFFF;\n",
              "    }\n",
              "  </style>\n",
              "\n",
              "      <script>\n",
              "        const buttonEl =\n",
              "          document.querySelector('#df-b624432e-e6c9-486b-aa68-3a3f16bbe401 button.colab-df-convert');\n",
              "        buttonEl.style.display =\n",
              "          google.colab.kernel.accessAllowed ? 'block' : 'none';\n",
              "\n",
              "        async function convertToInteractive(key) {\n",
              "          const element = document.querySelector('#df-b624432e-e6c9-486b-aa68-3a3f16bbe401');\n",
              "          const dataTable =\n",
              "            await google.colab.kernel.invokeFunction('convertToInteractive',\n",
              "                                                     [key], {});\n",
              "          if (!dataTable) return;\n",
              "\n",
              "          const docLinkHtml = 'Like what you see? Visit the ' +\n",
              "            '<a target=\"_blank\" href=https://colab.research.google.com/notebooks/data_table.ipynb>data table notebook</a>'\n",
              "            + ' to learn more about interactive tables.';\n",
              "          element.innerHTML = '';\n",
              "          dataTable['output_type'] = 'display_data';\n",
              "          await google.colab.output.renderOutput(dataTable, element);\n",
              "          const docLink = document.createElement('div');\n",
              "          docLink.innerHTML = docLinkHtml;\n",
              "          element.appendChild(docLink);\n",
              "        }\n",
              "      </script>\n",
              "    </div>\n",
              "  </div>\n",
              "  "
            ]
          },
          "metadata": {},
          "execution_count": 53
        }
      ]
    },
    {
      "cell_type": "code",
      "source": [
        "get_app_usage_time(True).head()"
      ],
      "metadata": {
        "colab": {
          "base_uri": "https://localhost:8080/",
          "height": 206
        },
        "outputId": "0efec60e-5581-4205-e80e-be8a6276422a",
        "id": "uGvmKlg-0tfw"
      },
      "execution_count": null,
      "outputs": [
        {
          "output_type": "execute_result",
          "data": {
            "text/plain": [
              "         date    Chrome    Facebook      Paco        카카오톡       캐시워크  \\\n",
              "0  2019-04-30  11.12685   42.693883  5.504433  131.219600  14.861717   \n",
              "0  2019-05-01       NaN   42.110617  2.767183   42.041483   8.714517   \n",
              "0  2019-05-02   2.59105   20.049433  5.196333   68.590317  14.356350   \n",
              "0  2019-05-03       NaN   30.289183  4.756817   70.656483   7.984150   \n",
              "0  2019-05-04       NaN  500.172833  2.712750   27.079583   6.419883   \n",
              "\n",
              "      Others       Total  과학적인 계산기  Polar Beat  \n",
              "0  16.848767  222.255250       NaN         NaN  \n",
              "0   2.902850  102.053267  3.516617         NaN  \n",
              "0   4.867700  115.651183       NaN         NaN  \n",
              "0   3.794233  121.923083       NaN    4.442217  \n",
              "0   1.642917  540.710383       NaN    2.682417  "
            ],
            "text/html": [
              "\n",
              "  <div id=\"df-1895b4e1-9228-4dd4-ad33-8f65ee5967ad\">\n",
              "    <div class=\"colab-df-container\">\n",
              "      <div>\n",
              "<style scoped>\n",
              "    .dataframe tbody tr th:only-of-type {\n",
              "        vertical-align: middle;\n",
              "    }\n",
              "\n",
              "    .dataframe tbody tr th {\n",
              "        vertical-align: top;\n",
              "    }\n",
              "\n",
              "    .dataframe thead th {\n",
              "        text-align: right;\n",
              "    }\n",
              "</style>\n",
              "<table border=\"1\" class=\"dataframe\">\n",
              "  <thead>\n",
              "    <tr style=\"text-align: right;\">\n",
              "      <th></th>\n",
              "      <th>date</th>\n",
              "      <th>Chrome</th>\n",
              "      <th>Facebook</th>\n",
              "      <th>Paco</th>\n",
              "      <th>카카오톡</th>\n",
              "      <th>캐시워크</th>\n",
              "      <th>Others</th>\n",
              "      <th>Total</th>\n",
              "      <th>과학적인 계산기</th>\n",
              "      <th>Polar Beat</th>\n",
              "    </tr>\n",
              "  </thead>\n",
              "  <tbody>\n",
              "    <tr>\n",
              "      <th>0</th>\n",
              "      <td>2019-04-30</td>\n",
              "      <td>11.12685</td>\n",
              "      <td>42.693883</td>\n",
              "      <td>5.504433</td>\n",
              "      <td>131.219600</td>\n",
              "      <td>14.861717</td>\n",
              "      <td>16.848767</td>\n",
              "      <td>222.255250</td>\n",
              "      <td>NaN</td>\n",
              "      <td>NaN</td>\n",
              "    </tr>\n",
              "    <tr>\n",
              "      <th>0</th>\n",
              "      <td>2019-05-01</td>\n",
              "      <td>NaN</td>\n",
              "      <td>42.110617</td>\n",
              "      <td>2.767183</td>\n",
              "      <td>42.041483</td>\n",
              "      <td>8.714517</td>\n",
              "      <td>2.902850</td>\n",
              "      <td>102.053267</td>\n",
              "      <td>3.516617</td>\n",
              "      <td>NaN</td>\n",
              "    </tr>\n",
              "    <tr>\n",
              "      <th>0</th>\n",
              "      <td>2019-05-02</td>\n",
              "      <td>2.59105</td>\n",
              "      <td>20.049433</td>\n",
              "      <td>5.196333</td>\n",
              "      <td>68.590317</td>\n",
              "      <td>14.356350</td>\n",
              "      <td>4.867700</td>\n",
              "      <td>115.651183</td>\n",
              "      <td>NaN</td>\n",
              "      <td>NaN</td>\n",
              "    </tr>\n",
              "    <tr>\n",
              "      <th>0</th>\n",
              "      <td>2019-05-03</td>\n",
              "      <td>NaN</td>\n",
              "      <td>30.289183</td>\n",
              "      <td>4.756817</td>\n",
              "      <td>70.656483</td>\n",
              "      <td>7.984150</td>\n",
              "      <td>3.794233</td>\n",
              "      <td>121.923083</td>\n",
              "      <td>NaN</td>\n",
              "      <td>4.442217</td>\n",
              "    </tr>\n",
              "    <tr>\n",
              "      <th>0</th>\n",
              "      <td>2019-05-04</td>\n",
              "      <td>NaN</td>\n",
              "      <td>500.172833</td>\n",
              "      <td>2.712750</td>\n",
              "      <td>27.079583</td>\n",
              "      <td>6.419883</td>\n",
              "      <td>1.642917</td>\n",
              "      <td>540.710383</td>\n",
              "      <td>NaN</td>\n",
              "      <td>2.682417</td>\n",
              "    </tr>\n",
              "  </tbody>\n",
              "</table>\n",
              "</div>\n",
              "      <button class=\"colab-df-convert\" onclick=\"convertToInteractive('df-1895b4e1-9228-4dd4-ad33-8f65ee5967ad')\"\n",
              "              title=\"Convert this dataframe to an interactive table.\"\n",
              "              style=\"display:none;\">\n",
              "        \n",
              "  <svg xmlns=\"http://www.w3.org/2000/svg\" height=\"24px\"viewBox=\"0 0 24 24\"\n",
              "       width=\"24px\">\n",
              "    <path d=\"M0 0h24v24H0V0z\" fill=\"none\"/>\n",
              "    <path d=\"M18.56 5.44l.94 2.06.94-2.06 2.06-.94-2.06-.94-.94-2.06-.94 2.06-2.06.94zm-11 1L8.5 8.5l.94-2.06 2.06-.94-2.06-.94L8.5 2.5l-.94 2.06-2.06.94zm10 10l.94 2.06.94-2.06 2.06-.94-2.06-.94-.94-2.06-.94 2.06-2.06.94z\"/><path d=\"M17.41 7.96l-1.37-1.37c-.4-.4-.92-.59-1.43-.59-.52 0-1.04.2-1.43.59L10.3 9.45l-7.72 7.72c-.78.78-.78 2.05 0 2.83L4 21.41c.39.39.9.59 1.41.59.51 0 1.02-.2 1.41-.59l7.78-7.78 2.81-2.81c.8-.78.8-2.07 0-2.86zM5.41 20L4 18.59l7.72-7.72 1.47 1.35L5.41 20z\"/>\n",
              "  </svg>\n",
              "      </button>\n",
              "      \n",
              "  <style>\n",
              "    .colab-df-container {\n",
              "      display:flex;\n",
              "      flex-wrap:wrap;\n",
              "      gap: 12px;\n",
              "    }\n",
              "\n",
              "    .colab-df-convert {\n",
              "      background-color: #E8F0FE;\n",
              "      border: none;\n",
              "      border-radius: 50%;\n",
              "      cursor: pointer;\n",
              "      display: none;\n",
              "      fill: #1967D2;\n",
              "      height: 32px;\n",
              "      padding: 0 0 0 0;\n",
              "      width: 32px;\n",
              "    }\n",
              "\n",
              "    .colab-df-convert:hover {\n",
              "      background-color: #E2EBFA;\n",
              "      box-shadow: 0px 1px 2px rgba(60, 64, 67, 0.3), 0px 1px 3px 1px rgba(60, 64, 67, 0.15);\n",
              "      fill: #174EA6;\n",
              "    }\n",
              "\n",
              "    [theme=dark] .colab-df-convert {\n",
              "      background-color: #3B4455;\n",
              "      fill: #D2E3FC;\n",
              "    }\n",
              "\n",
              "    [theme=dark] .colab-df-convert:hover {\n",
              "      background-color: #434B5C;\n",
              "      box-shadow: 0px 1px 3px 1px rgba(0, 0, 0, 0.15);\n",
              "      filter: drop-shadow(0px 1px 2px rgba(0, 0, 0, 0.3));\n",
              "      fill: #FFFFFF;\n",
              "    }\n",
              "  </style>\n",
              "\n",
              "      <script>\n",
              "        const buttonEl =\n",
              "          document.querySelector('#df-1895b4e1-9228-4dd4-ad33-8f65ee5967ad button.colab-df-convert');\n",
              "        buttonEl.style.display =\n",
              "          google.colab.kernel.accessAllowed ? 'block' : 'none';\n",
              "\n",
              "        async function convertToInteractive(key) {\n",
              "          const element = document.querySelector('#df-1895b4e1-9228-4dd4-ad33-8f65ee5967ad');\n",
              "          const dataTable =\n",
              "            await google.colab.kernel.invokeFunction('convertToInteractive',\n",
              "                                                     [key], {});\n",
              "          if (!dataTable) return;\n",
              "\n",
              "          const docLinkHtml = 'Like what you see? Visit the ' +\n",
              "            '<a target=\"_blank\" href=https://colab.research.google.com/notebooks/data_table.ipynb>data table notebook</a>'\n",
              "            + ' to learn more about interactive tables.';\n",
              "          element.innerHTML = '';\n",
              "          dataTable['output_type'] = 'display_data';\n",
              "          await google.colab.output.renderOutput(dataTable, element);\n",
              "          const docLink = document.createElement('div');\n",
              "          docLink.innerHTML = docLinkHtml;\n",
              "          element.appendChild(docLink);\n",
              "        }\n",
              "      </script>\n",
              "    </div>\n",
              "  </div>\n",
              "  "
            ]
          },
          "metadata": {},
          "execution_count": 11
        }
      ]
    },
    {
      "cell_type": "markdown",
      "source": [
        "## get_app_usage_weekly\n",
        "- 주간 top5 앱들에 대한 기록을 가져오는 함수"
      ],
      "metadata": {
        "id": "BtXfDgIs0tfw"
      }
    },
    {
      "cell_type": "code",
      "source": [],
      "metadata": {
        "id": "2SqmrP4e2k1k"
      },
      "execution_count": null,
      "outputs": []
    },
    {
      "cell_type": "code",
      "source": [
        "def get_app_usage_weekly():\n",
        "    app_usaeg_time = get_app_usage_time()\n",
        "    weekly_top_apps = app_usaeg_time.drop(['date', 'Total'], axis=1).sum()\n",
        "    # print(weekly_top_apps.nlargest(5))\n",
        "    weekly_top_apps_list = ['date', 'Total'] + weekly_top_apps.nlargest(5).index.to_list()\n",
        "    df_dropped = app_usaeg_time.drop(columns = weekly_top_apps_list)\n",
        "    df_dropped_sum = df_dropped.sum(axis=1)\n",
        "    app_usaeg_time = app_usaeg_time[weekly_top_apps_list]\n",
        "    app_usaeg_time['Others'] = df_dropped_sum\n",
        "    return app_usaeg_time"
      ],
      "metadata": {
        "id": "jUh6od0n0tfw"
      },
      "execution_count": null,
      "outputs": []
    },
    {
      "cell_type": "code",
      "source": [
        "weekly_df = get_app_usage_weekly()\n",
        "weekly_df"
      ],
      "metadata": {
        "colab": {
          "base_uri": "https://localhost:8080/",
          "height": 269
        },
        "outputId": "00b03d0f-be75-49f3-9314-d2a2a3b9bc48",
        "id": "qXol6tZr0tfx"
      },
      "execution_count": null,
      "outputs": [
        {
          "output_type": "execute_result",
          "data": {
            "text/plain": [
              "         date       Total    Facebook        카카오톡       캐시워크     Chrome  \\\n",
              "0  2019-04-30  222.255250   42.693883  131.219600  14.861717  11.126850   \n",
              "0  2019-05-01  102.053267   42.110617   42.041483   8.714517   0.758450   \n",
              "0  2019-05-02  115.651183   20.049433   68.590317  14.356350   2.591050   \n",
              "0  2019-05-03  121.923083   30.289183   70.656483   7.984150   1.644467   \n",
              "0  2019-05-04  540.710383  500.172833   27.079583   6.419883   1.121667   \n",
              "0  2019-05-05  258.607333  130.474117   90.925217  14.521317  12.649700   \n",
              "0  2019-05-06  194.203233  113.392250   56.020683  16.051950   2.966167   \n",
              "\n",
              "       Paco     Others  \n",
              "0  5.504433  16.848767  \n",
              "0  2.767183   5.661017  \n",
              "0  5.196333   4.867700  \n",
              "0  4.756817   6.591983  \n",
              "0  2.712750   3.203667  \n",
              "0  6.008717   4.028267  \n",
              "0  3.067117   2.705067  "
            ],
            "text/html": [
              "\n",
              "  <div id=\"df-373cc5df-5bc4-41b7-b0d8-f5deed9b3479\">\n",
              "    <div class=\"colab-df-container\">\n",
              "      <div>\n",
              "<style scoped>\n",
              "    .dataframe tbody tr th:only-of-type {\n",
              "        vertical-align: middle;\n",
              "    }\n",
              "\n",
              "    .dataframe tbody tr th {\n",
              "        vertical-align: top;\n",
              "    }\n",
              "\n",
              "    .dataframe thead th {\n",
              "        text-align: right;\n",
              "    }\n",
              "</style>\n",
              "<table border=\"1\" class=\"dataframe\">\n",
              "  <thead>\n",
              "    <tr style=\"text-align: right;\">\n",
              "      <th></th>\n",
              "      <th>date</th>\n",
              "      <th>Total</th>\n",
              "      <th>Facebook</th>\n",
              "      <th>카카오톡</th>\n",
              "      <th>캐시워크</th>\n",
              "      <th>Chrome</th>\n",
              "      <th>Paco</th>\n",
              "      <th>Others</th>\n",
              "    </tr>\n",
              "  </thead>\n",
              "  <tbody>\n",
              "    <tr>\n",
              "      <th>0</th>\n",
              "      <td>2019-04-30</td>\n",
              "      <td>222.255250</td>\n",
              "      <td>42.693883</td>\n",
              "      <td>131.219600</td>\n",
              "      <td>14.861717</td>\n",
              "      <td>11.126850</td>\n",
              "      <td>5.504433</td>\n",
              "      <td>16.848767</td>\n",
              "    </tr>\n",
              "    <tr>\n",
              "      <th>0</th>\n",
              "      <td>2019-05-01</td>\n",
              "      <td>102.053267</td>\n",
              "      <td>42.110617</td>\n",
              "      <td>42.041483</td>\n",
              "      <td>8.714517</td>\n",
              "      <td>0.758450</td>\n",
              "      <td>2.767183</td>\n",
              "      <td>5.661017</td>\n",
              "    </tr>\n",
              "    <tr>\n",
              "      <th>0</th>\n",
              "      <td>2019-05-02</td>\n",
              "      <td>115.651183</td>\n",
              "      <td>20.049433</td>\n",
              "      <td>68.590317</td>\n",
              "      <td>14.356350</td>\n",
              "      <td>2.591050</td>\n",
              "      <td>5.196333</td>\n",
              "      <td>4.867700</td>\n",
              "    </tr>\n",
              "    <tr>\n",
              "      <th>0</th>\n",
              "      <td>2019-05-03</td>\n",
              "      <td>121.923083</td>\n",
              "      <td>30.289183</td>\n",
              "      <td>70.656483</td>\n",
              "      <td>7.984150</td>\n",
              "      <td>1.644467</td>\n",
              "      <td>4.756817</td>\n",
              "      <td>6.591983</td>\n",
              "    </tr>\n",
              "    <tr>\n",
              "      <th>0</th>\n",
              "      <td>2019-05-04</td>\n",
              "      <td>540.710383</td>\n",
              "      <td>500.172833</td>\n",
              "      <td>27.079583</td>\n",
              "      <td>6.419883</td>\n",
              "      <td>1.121667</td>\n",
              "      <td>2.712750</td>\n",
              "      <td>3.203667</td>\n",
              "    </tr>\n",
              "    <tr>\n",
              "      <th>0</th>\n",
              "      <td>2019-05-05</td>\n",
              "      <td>258.607333</td>\n",
              "      <td>130.474117</td>\n",
              "      <td>90.925217</td>\n",
              "      <td>14.521317</td>\n",
              "      <td>12.649700</td>\n",
              "      <td>6.008717</td>\n",
              "      <td>4.028267</td>\n",
              "    </tr>\n",
              "    <tr>\n",
              "      <th>0</th>\n",
              "      <td>2019-05-06</td>\n",
              "      <td>194.203233</td>\n",
              "      <td>113.392250</td>\n",
              "      <td>56.020683</td>\n",
              "      <td>16.051950</td>\n",
              "      <td>2.966167</td>\n",
              "      <td>3.067117</td>\n",
              "      <td>2.705067</td>\n",
              "    </tr>\n",
              "  </tbody>\n",
              "</table>\n",
              "</div>\n",
              "      <button class=\"colab-df-convert\" onclick=\"convertToInteractive('df-373cc5df-5bc4-41b7-b0d8-f5deed9b3479')\"\n",
              "              title=\"Convert this dataframe to an interactive table.\"\n",
              "              style=\"display:none;\">\n",
              "        \n",
              "  <svg xmlns=\"http://www.w3.org/2000/svg\" height=\"24px\"viewBox=\"0 0 24 24\"\n",
              "       width=\"24px\">\n",
              "    <path d=\"M0 0h24v24H0V0z\" fill=\"none\"/>\n",
              "    <path d=\"M18.56 5.44l.94 2.06.94-2.06 2.06-.94-2.06-.94-.94-2.06-.94 2.06-2.06.94zm-11 1L8.5 8.5l.94-2.06 2.06-.94-2.06-.94L8.5 2.5l-.94 2.06-2.06.94zm10 10l.94 2.06.94-2.06 2.06-.94-2.06-.94-.94-2.06-.94 2.06-2.06.94z\"/><path d=\"M17.41 7.96l-1.37-1.37c-.4-.4-.92-.59-1.43-.59-.52 0-1.04.2-1.43.59L10.3 9.45l-7.72 7.72c-.78.78-.78 2.05 0 2.83L4 21.41c.39.39.9.59 1.41.59.51 0 1.02-.2 1.41-.59l7.78-7.78 2.81-2.81c.8-.78.8-2.07 0-2.86zM5.41 20L4 18.59l7.72-7.72 1.47 1.35L5.41 20z\"/>\n",
              "  </svg>\n",
              "      </button>\n",
              "      \n",
              "  <style>\n",
              "    .colab-df-container {\n",
              "      display:flex;\n",
              "      flex-wrap:wrap;\n",
              "      gap: 12px;\n",
              "    }\n",
              "\n",
              "    .colab-df-convert {\n",
              "      background-color: #E8F0FE;\n",
              "      border: none;\n",
              "      border-radius: 50%;\n",
              "      cursor: pointer;\n",
              "      display: none;\n",
              "      fill: #1967D2;\n",
              "      height: 32px;\n",
              "      padding: 0 0 0 0;\n",
              "      width: 32px;\n",
              "    }\n",
              "\n",
              "    .colab-df-convert:hover {\n",
              "      background-color: #E2EBFA;\n",
              "      box-shadow: 0px 1px 2px rgba(60, 64, 67, 0.3), 0px 1px 3px 1px rgba(60, 64, 67, 0.15);\n",
              "      fill: #174EA6;\n",
              "    }\n",
              "\n",
              "    [theme=dark] .colab-df-convert {\n",
              "      background-color: #3B4455;\n",
              "      fill: #D2E3FC;\n",
              "    }\n",
              "\n",
              "    [theme=dark] .colab-df-convert:hover {\n",
              "      background-color: #434B5C;\n",
              "      box-shadow: 0px 1px 3px 1px rgba(0, 0, 0, 0.15);\n",
              "      filter: drop-shadow(0px 1px 2px rgba(0, 0, 0, 0.3));\n",
              "      fill: #FFFFFF;\n",
              "    }\n",
              "  </style>\n",
              "\n",
              "      <script>\n",
              "        const buttonEl =\n",
              "          document.querySelector('#df-373cc5df-5bc4-41b7-b0d8-f5deed9b3479 button.colab-df-convert');\n",
              "        buttonEl.style.display =\n",
              "          google.colab.kernel.accessAllowed ? 'block' : 'none';\n",
              "\n",
              "        async function convertToInteractive(key) {\n",
              "          const element = document.querySelector('#df-373cc5df-5bc4-41b7-b0d8-f5deed9b3479');\n",
              "          const dataTable =\n",
              "            await google.colab.kernel.invokeFunction('convertToInteractive',\n",
              "                                                     [key], {});\n",
              "          if (!dataTable) return;\n",
              "\n",
              "          const docLinkHtml = 'Like what you see? Visit the ' +\n",
              "            '<a target=\"_blank\" href=https://colab.research.google.com/notebooks/data_table.ipynb>data table notebook</a>'\n",
              "            + ' to learn more about interactive tables.';\n",
              "          element.innerHTML = '';\n",
              "          dataTable['output_type'] = 'display_data';\n",
              "          await google.colab.output.renderOutput(dataTable, element);\n",
              "          const docLink = document.createElement('div');\n",
              "          docLink.innerHTML = docLinkHtml;\n",
              "          element.appendChild(docLink);\n",
              "        }\n",
              "      </script>\n",
              "    </div>\n",
              "  </div>\n",
              "  "
            ]
          },
          "metadata": {},
          "execution_count": 38
        }
      ]
    },
    {
      "cell_type": "markdown",
      "source": [
        "## get_app_usage_hour\n",
        "- app_usage_hour.csv에 해당하는 df 를 반환하는 함수<br/>\n",
        "- i = 몇번째 파일을 사용할 것인가 (0 ~ len(aUSE_files)-1 = 6)"
      ],
      "metadata": {
        "id": "Q4yk_T3S0tfx"
      }
    },
    {
      "cell_type": "code",
      "source": [
        "import datetime as dt\n",
        "def get_app_usage_hour(i):\n",
        "  app_usage_hour_df= app_usage_df_list[i]\n",
        "  total_time_package_name = app_usage_hour_df.groupby('packageName').agg({'totalTimeForeground': 'max'}).reset_index();\n",
        "  top_package_names = total_time_package_name.nlargest(5, 'totalTimeForeground').packageName.tolist()\n",
        "  print(top_package_names)\n",
        "  app_usage_hour_df = app_usage_hour_df[app_usage_hour_df['packageName'].isin(top_package_names)]\n",
        "  app_usage_hour_df['totalTimeForeground'] /= 60000\n",
        "  app_usage_hour_df_pivot = app_usage_hour_df.pivot(index='timestamp', columns='name', values='totalTimeForeground').reset_index();\n",
        "  return app_usage_hour_df_pivot"
      ],
      "metadata": {
        "id": "dcfeNnAQ0tfx"
      },
      "execution_count": null,
      "outputs": []
    },
    {
      "cell_type": "code",
      "source": [
        "get_app_usage_hour(1).head()"
      ],
      "metadata": {
        "colab": {
          "base_uri": "https://localhost:8080/",
          "height": 333
        },
        "outputId": "eb329711-ca99-490c-8e53-c952dea5ec53",
        "id": "TLoKBzPh0tfx"
      },
      "execution_count": null,
      "outputs": [
        {
          "output_type": "stream",
          "name": "stdout",
          "text": [
            "['com.facebook.katana', 'com.kakao.talk', 'com.cashwalk.cashwalk', 'com.realmax.calc', 'com.pacoapp.paco']\n"
          ]
        },
        {
          "output_type": "stream",
          "name": "stderr",
          "text": [
            "<ipython-input-17-17e80b442337>:8: SettingWithCopyWarning: \n",
            "A value is trying to be set on a copy of a slice from a DataFrame.\n",
            "Try using .loc[row_indexer,col_indexer] = value instead\n",
            "\n",
            "See the caveats in the documentation: https://pandas.pydata.org/pandas-docs/stable/user_guide/indexing.html#returning-a-view-versus-a-copy\n",
            "  app_usage_hour_df['totalTimeForeground'] /= 60000\n"
          ]
        },
        {
          "output_type": "execute_result",
          "data": {
            "text/plain": [
              "name               timestamp  Facebook Paco 과학적인 계산기      카카오톡      캐시워크\n",
              "0    2019-05-01 00:16:57.477       0.0  NaN      NaN       0.0       0.0\n",
              "1    2019-05-01 00:21:57.477  8.886967  NaN      NaN  0.174433  0.257083\n",
              "2    2019-05-01 02:16:57.477       NaN  NaN      NaN  0.174433  0.257083\n",
              "3    2019-05-01 02:21:57.477       NaN  NaN      NaN  0.642717  0.560967\n",
              "4    2019-05-01 03:51:57.477  8.886967  NaN      NaN  0.642717  0.560967"
            ],
            "text/html": [
              "\n",
              "  <div id=\"df-ce5072a8-e673-4c54-bd95-ace3393b25f4\">\n",
              "    <div class=\"colab-df-container\">\n",
              "      <div>\n",
              "<style scoped>\n",
              "    .dataframe tbody tr th:only-of-type {\n",
              "        vertical-align: middle;\n",
              "    }\n",
              "\n",
              "    .dataframe tbody tr th {\n",
              "        vertical-align: top;\n",
              "    }\n",
              "\n",
              "    .dataframe thead th {\n",
              "        text-align: right;\n",
              "    }\n",
              "</style>\n",
              "<table border=\"1\" class=\"dataframe\">\n",
              "  <thead>\n",
              "    <tr style=\"text-align: right;\">\n",
              "      <th>name</th>\n",
              "      <th>timestamp</th>\n",
              "      <th>Facebook</th>\n",
              "      <th>Paco</th>\n",
              "      <th>과학적인 계산기</th>\n",
              "      <th>카카오톡</th>\n",
              "      <th>캐시워크</th>\n",
              "    </tr>\n",
              "  </thead>\n",
              "  <tbody>\n",
              "    <tr>\n",
              "      <th>0</th>\n",
              "      <td>2019-05-01 00:16:57.477</td>\n",
              "      <td>0.0</td>\n",
              "      <td>NaN</td>\n",
              "      <td>NaN</td>\n",
              "      <td>0.0</td>\n",
              "      <td>0.0</td>\n",
              "    </tr>\n",
              "    <tr>\n",
              "      <th>1</th>\n",
              "      <td>2019-05-01 00:21:57.477</td>\n",
              "      <td>8.886967</td>\n",
              "      <td>NaN</td>\n",
              "      <td>NaN</td>\n",
              "      <td>0.174433</td>\n",
              "      <td>0.257083</td>\n",
              "    </tr>\n",
              "    <tr>\n",
              "      <th>2</th>\n",
              "      <td>2019-05-01 02:16:57.477</td>\n",
              "      <td>NaN</td>\n",
              "      <td>NaN</td>\n",
              "      <td>NaN</td>\n",
              "      <td>0.174433</td>\n",
              "      <td>0.257083</td>\n",
              "    </tr>\n",
              "    <tr>\n",
              "      <th>3</th>\n",
              "      <td>2019-05-01 02:21:57.477</td>\n",
              "      <td>NaN</td>\n",
              "      <td>NaN</td>\n",
              "      <td>NaN</td>\n",
              "      <td>0.642717</td>\n",
              "      <td>0.560967</td>\n",
              "    </tr>\n",
              "    <tr>\n",
              "      <th>4</th>\n",
              "      <td>2019-05-01 03:51:57.477</td>\n",
              "      <td>8.886967</td>\n",
              "      <td>NaN</td>\n",
              "      <td>NaN</td>\n",
              "      <td>0.642717</td>\n",
              "      <td>0.560967</td>\n",
              "    </tr>\n",
              "  </tbody>\n",
              "</table>\n",
              "</div>\n",
              "      <button class=\"colab-df-convert\" onclick=\"convertToInteractive('df-ce5072a8-e673-4c54-bd95-ace3393b25f4')\"\n",
              "              title=\"Convert this dataframe to an interactive table.\"\n",
              "              style=\"display:none;\">\n",
              "        \n",
              "  <svg xmlns=\"http://www.w3.org/2000/svg\" height=\"24px\"viewBox=\"0 0 24 24\"\n",
              "       width=\"24px\">\n",
              "    <path d=\"M0 0h24v24H0V0z\" fill=\"none\"/>\n",
              "    <path d=\"M18.56 5.44l.94 2.06.94-2.06 2.06-.94-2.06-.94-.94-2.06-.94 2.06-2.06.94zm-11 1L8.5 8.5l.94-2.06 2.06-.94-2.06-.94L8.5 2.5l-.94 2.06-2.06.94zm10 10l.94 2.06.94-2.06 2.06-.94-2.06-.94-.94-2.06-.94 2.06-2.06.94z\"/><path d=\"M17.41 7.96l-1.37-1.37c-.4-.4-.92-.59-1.43-.59-.52 0-1.04.2-1.43.59L10.3 9.45l-7.72 7.72c-.78.78-.78 2.05 0 2.83L4 21.41c.39.39.9.59 1.41.59.51 0 1.02-.2 1.41-.59l7.78-7.78 2.81-2.81c.8-.78.8-2.07 0-2.86zM5.41 20L4 18.59l7.72-7.72 1.47 1.35L5.41 20z\"/>\n",
              "  </svg>\n",
              "      </button>\n",
              "      \n",
              "  <style>\n",
              "    .colab-df-container {\n",
              "      display:flex;\n",
              "      flex-wrap:wrap;\n",
              "      gap: 12px;\n",
              "    }\n",
              "\n",
              "    .colab-df-convert {\n",
              "      background-color: #E8F0FE;\n",
              "      border: none;\n",
              "      border-radius: 50%;\n",
              "      cursor: pointer;\n",
              "      display: none;\n",
              "      fill: #1967D2;\n",
              "      height: 32px;\n",
              "      padding: 0 0 0 0;\n",
              "      width: 32px;\n",
              "    }\n",
              "\n",
              "    .colab-df-convert:hover {\n",
              "      background-color: #E2EBFA;\n",
              "      box-shadow: 0px 1px 2px rgba(60, 64, 67, 0.3), 0px 1px 3px 1px rgba(60, 64, 67, 0.15);\n",
              "      fill: #174EA6;\n",
              "    }\n",
              "\n",
              "    [theme=dark] .colab-df-convert {\n",
              "      background-color: #3B4455;\n",
              "      fill: #D2E3FC;\n",
              "    }\n",
              "\n",
              "    [theme=dark] .colab-df-convert:hover {\n",
              "      background-color: #434B5C;\n",
              "      box-shadow: 0px 1px 3px 1px rgba(0, 0, 0, 0.15);\n",
              "      filter: drop-shadow(0px 1px 2px rgba(0, 0, 0, 0.3));\n",
              "      fill: #FFFFFF;\n",
              "    }\n",
              "  </style>\n",
              "\n",
              "      <script>\n",
              "        const buttonEl =\n",
              "          document.querySelector('#df-ce5072a8-e673-4c54-bd95-ace3393b25f4 button.colab-df-convert');\n",
              "        buttonEl.style.display =\n",
              "          google.colab.kernel.accessAllowed ? 'block' : 'none';\n",
              "\n",
              "        async function convertToInteractive(key) {\n",
              "          const element = document.querySelector('#df-ce5072a8-e673-4c54-bd95-ace3393b25f4');\n",
              "          const dataTable =\n",
              "            await google.colab.kernel.invokeFunction('convertToInteractive',\n",
              "                                                     [key], {});\n",
              "          if (!dataTable) return;\n",
              "\n",
              "          const docLinkHtml = 'Like what you see? Visit the ' +\n",
              "            '<a target=\"_blank\" href=https://colab.research.google.com/notebooks/data_table.ipynb>data table notebook</a>'\n",
              "            + ' to learn more about interactive tables.';\n",
              "          element.innerHTML = '';\n",
              "          dataTable['output_type'] = 'display_data';\n",
              "          await google.colab.output.renderOutput(dataTable, element);\n",
              "          const docLink = document.createElement('div');\n",
              "          docLink.innerHTML = docLinkHtml;\n",
              "          element.appendChild(docLink);\n",
              "        }\n",
              "      </script>\n",
              "    </div>\n",
              "  </div>\n",
              "  "
            ]
          },
          "metadata": {},
          "execution_count": 18
        }
      ]
    },
    {
      "cell_type": "markdown",
      "source": [],
      "metadata": {
        "id": "sbLz6Ir40tfx"
      }
    },
    {
      "cell_type": "markdown",
      "source": [
        "## csv export"
      ],
      "metadata": {
        "id": "Is-G62uR0tfy"
      }
    },
    {
      "cell_type": "code",
      "source": [
        "user_saved = 'processed_'+user\n",
        "file_saved_route = '/content/drive/My Drive/DP_data processing/'+user_saved\n",
        "os.makedirs(file_saved_route, exist_ok=True)"
      ],
      "metadata": {
        "id": "Dj-_LIRH0tfy"
      },
      "execution_count": null,
      "outputs": []
    },
    {
      "cell_type": "code",
      "source": [
        "def df_to_csv(df, file_name):\n",
        "  df.to_csv(file_saved_route+file_name+'.csv')"
      ],
      "metadata": {
        "id": "VVCzCNJU0tfy"
      },
      "execution_count": null,
      "outputs": []
    },
    {
      "cell_type": "code",
      "source": [
        "date_list = ['2019_04_30', '2019_05_01', '2019_05_02', '2019_05_03', '2019_05_04', '2019_05_05', '2019_05_06']\n",
        "\n",
        "df_to_csv(get_app_usage_time(True), 'app_usage_time')\n",
        "df_to_csv(get_app_usage_weekly(), 'app_usage_weekly')\n",
        "for i in range(len(app_usage_df_list)):\n",
        "  df_to_csv(get_app_usage_hour(i), 'app_usage_hour_'+date_list[i])"
      ],
      "metadata": {
        "colab": {
          "base_uri": "https://localhost:8080/"
        },
        "outputId": "fb760ea9-f047-47f0-f796-6f4c36184aaf",
        "id": "mzgZQqTy0tfy"
      },
      "execution_count": null,
      "outputs": [
        {
          "output_type": "stream",
          "name": "stdout",
          "text": [
            "['com.kakao.talk', 'com.facebook.katana', 'com.cashwalk.cashwalk', 'com.android.chrome', 'com.pacoapp.paco']\n"
          ]
        },
        {
          "output_type": "stream",
          "name": "stderr",
          "text": [
            "<ipython-input-17-17e80b442337>:8: SettingWithCopyWarning: \n",
            "A value is trying to be set on a copy of a slice from a DataFrame.\n",
            "Try using .loc[row_indexer,col_indexer] = value instead\n",
            "\n",
            "See the caveats in the documentation: https://pandas.pydata.org/pandas-docs/stable/user_guide/indexing.html#returning-a-view-versus-a-copy\n",
            "  app_usage_hour_df['totalTimeForeground'] /= 60000\n"
          ]
        },
        {
          "output_type": "stream",
          "name": "stdout",
          "text": [
            "['com.facebook.katana', 'com.kakao.talk', 'com.cashwalk.cashwalk', 'com.realmax.calc', 'com.pacoapp.paco']\n"
          ]
        },
        {
          "output_type": "stream",
          "name": "stderr",
          "text": [
            "<ipython-input-17-17e80b442337>:8: SettingWithCopyWarning: \n",
            "A value is trying to be set on a copy of a slice from a DataFrame.\n",
            "Try using .loc[row_indexer,col_indexer] = value instead\n",
            "\n",
            "See the caveats in the documentation: https://pandas.pydata.org/pandas-docs/stable/user_guide/indexing.html#returning-a-view-versus-a-copy\n",
            "  app_usage_hour_df['totalTimeForeground'] /= 60000\n"
          ]
        },
        {
          "output_type": "stream",
          "name": "stdout",
          "text": [
            "['com.kakao.talk', 'com.facebook.katana', 'com.cashwalk.cashwalk', 'com.pacoapp.paco', 'com.android.chrome']\n"
          ]
        },
        {
          "output_type": "stream",
          "name": "stderr",
          "text": [
            "<ipython-input-17-17e80b442337>:8: SettingWithCopyWarning: \n",
            "A value is trying to be set on a copy of a slice from a DataFrame.\n",
            "Try using .loc[row_indexer,col_indexer] = value instead\n",
            "\n",
            "See the caveats in the documentation: https://pandas.pydata.org/pandas-docs/stable/user_guide/indexing.html#returning-a-view-versus-a-copy\n",
            "  app_usage_hour_df['totalTimeForeground'] /= 60000\n"
          ]
        },
        {
          "output_type": "stream",
          "name": "stdout",
          "text": [
            "['com.kakao.talk', 'com.facebook.katana', 'com.cashwalk.cashwalk', 'com.pacoapp.paco', 'fi.polar.beat']\n"
          ]
        },
        {
          "output_type": "stream",
          "name": "stderr",
          "text": [
            "<ipython-input-17-17e80b442337>:8: SettingWithCopyWarning: \n",
            "A value is trying to be set on a copy of a slice from a DataFrame.\n",
            "Try using .loc[row_indexer,col_indexer] = value instead\n",
            "\n",
            "See the caveats in the documentation: https://pandas.pydata.org/pandas-docs/stable/user_guide/indexing.html#returning-a-view-versus-a-copy\n",
            "  app_usage_hour_df['totalTimeForeground'] /= 60000\n"
          ]
        },
        {
          "output_type": "stream",
          "name": "stdout",
          "text": [
            "['com.facebook.katana', 'com.kakao.talk', 'com.cashwalk.cashwalk', 'com.pacoapp.paco', 'fi.polar.beat']\n"
          ]
        },
        {
          "output_type": "stream",
          "name": "stderr",
          "text": [
            "<ipython-input-17-17e80b442337>:8: SettingWithCopyWarning: \n",
            "A value is trying to be set on a copy of a slice from a DataFrame.\n",
            "Try using .loc[row_indexer,col_indexer] = value instead\n",
            "\n",
            "See the caveats in the documentation: https://pandas.pydata.org/pandas-docs/stable/user_guide/indexing.html#returning-a-view-versus-a-copy\n",
            "  app_usage_hour_df['totalTimeForeground'] /= 60000\n"
          ]
        },
        {
          "output_type": "stream",
          "name": "stdout",
          "text": [
            "['com.facebook.katana', 'com.kakao.talk', 'com.cashwalk.cashwalk', 'com.android.chrome', 'com.pacoapp.paco']\n"
          ]
        },
        {
          "output_type": "stream",
          "name": "stderr",
          "text": [
            "<ipython-input-17-17e80b442337>:8: SettingWithCopyWarning: \n",
            "A value is trying to be set on a copy of a slice from a DataFrame.\n",
            "Try using .loc[row_indexer,col_indexer] = value instead\n",
            "\n",
            "See the caveats in the documentation: https://pandas.pydata.org/pandas-docs/stable/user_guide/indexing.html#returning-a-view-versus-a-copy\n",
            "  app_usage_hour_df['totalTimeForeground'] /= 60000\n"
          ]
        },
        {
          "output_type": "stream",
          "name": "stdout",
          "text": [
            "['com.facebook.katana', 'com.kakao.talk', 'com.cashwalk.cashwalk', 'com.pacoapp.paco', 'com.android.chrome']\n"
          ]
        },
        {
          "output_type": "stream",
          "name": "stderr",
          "text": [
            "<ipython-input-17-17e80b442337>:8: SettingWithCopyWarning: \n",
            "A value is trying to be set on a copy of a slice from a DataFrame.\n",
            "Try using .loc[row_indexer,col_indexer] = value instead\n",
            "\n",
            "See the caveats in the documentation: https://pandas.pydata.org/pandas-docs/stable/user_guide/indexing.html#returning-a-view-versus-a-copy\n",
            "  app_usage_hour_df['totalTimeForeground'] /= 60000\n"
          ]
        }
      ]
    },
    {
      "cell_type": "markdown",
      "source": [
        "# Data Processing Min"
      ],
      "metadata": {
        "id": "zeZIr_cq0Lim"
      }
    },
    {
      "cell_type": "code",
      "source": [
        "def get_app_usage_top5(i):\n",
        "  app_usage_df=pd.read_csv(route+aUSE_files[i])\n",
        "  ## app_usage_df = app_usage_df.loc[app_usage_df.isSystemApp == False] 유튜브도 시스템앱임...\n",
        "  app_usage_df = app_usage_df.drop(['startTime', 'endTime', 'isUpdatedSystemApp', 'isSystemApp', 'lastTimeUsed'], axis=1)\n",
        "  app_usage_df['timestamp'] = pd.to_datetime(app_usage_df['timestamp'], unit='ms')\n",
        "  total_time_package_name = app_usage_df.groupby('packageName').agg({'totalTimeForeground': 'max'}).reset_index()\n",
        "  top_package_names = total_time_package_name.nlargest(5, 'totalTimeForeground').packageName.tolist()\n",
        "  return top_package_names"
      ],
      "metadata": {
        "id": "NC6FGJAD68Nm"
      },
      "execution_count": 82,
      "outputs": []
    },
    {
      "cell_type": "markdown",
      "metadata": {
        "id": "C7eAeWx6mpJa"
      },
      "source": [
        "### 앱 접속횟수"
      ]
    },
    {
      "cell_type": "code",
      "source": [
        "top_package_names =get_app_usage_top5(0)\n",
        "print(top_package_names)"
      ],
      "metadata": {
        "id": "FmHguZsx39rc",
        "colab": {
          "base_uri": "https://localhost:8080/"
        },
        "outputId": "1e3bd7e4-e2d5-43c6-9543-a6a204b0bb6c"
      },
      "execution_count": 83,
      "outputs": [
        {
          "output_type": "stream",
          "name": "stdout",
          "text": [
            "['com.kakao.talk', 'com.facebook.katana', 'com.lge.launcher3', 'com.google.android.apps.docs.editors.docs', 'com.cashwalk.cashwalk']\n"
          ]
        }
      ]
    },
    {
      "cell_type": "code",
      "execution_count": 84,
      "metadata": {
        "id": "uPMFuZ8Umowe"
      },
      "outputs": [],
      "source": [
        "def get_access_app_count_df(i):\n",
        "  access_app_df=pd.read_csv(route+aUSE_ENENT_files[i])\n",
        "  access_app_df = access_app_df.drop(['isSystemApp','isUpdatedSystemApp'], axis=1)\n",
        "  access_app_df.loc[~access_app_df['packageName'].isin(top_package_names), 'name'] = 'others'\n",
        "  access_app_df = access_app_df.loc[access_app_df['type'] == 'MOVE_TO_FOREGROUND']\n",
        "  access_app_count_df = access_app_df.groupby('name').count().reset_index()\n",
        "  access_app_count_df = access_app_count_df.rename(columns={'type': 'number_of_access'}).drop(['timestamp','packageName'], axis=1)\n",
        "  return access_app_count_df"
      ]
    },
    {
      "cell_type": "code",
      "execution_count": 85,
      "metadata": {
        "id": "rDPoIIPWpsR9",
        "colab": {
          "base_uri": "https://localhost:8080/",
          "height": 542
        },
        "outputId": "f32ceac3-8f41-404c-8e1f-509240c90d41"
      },
      "outputs": [
        {
          "output_type": "display_data",
          "data": {
            "text/html": [
              "<html>\n",
              "<head><meta charset=\"utf-8\" /></head>\n",
              "<body>\n",
              "    <div>            <script src=\"https://cdnjs.cloudflare.com/ajax/libs/mathjax/2.7.5/MathJax.js?config=TeX-AMS-MML_SVG\"></script><script type=\"text/javascript\">if (window.MathJax && window.MathJax.Hub && window.MathJax.Hub.Config) {window.MathJax.Hub.Config({SVG: {font: \"STIX-Web\"}});}</script>                <script type=\"text/javascript\">window.PlotlyConfig = {MathJaxConfig: 'local'};</script>\n",
              "        <script src=\"https://cdn.plot.ly/plotly-2.18.2.min.js\"></script>                <div id=\"5eddfe57-da6d-456d-95b1-7aa8598293d5\" class=\"plotly-graph-div\" style=\"height:525px; width:100%;\"></div>            <script type=\"text/javascript\">                                    window.PLOTLYENV=window.PLOTLYENV || {};                                    if (document.getElementById(\"5eddfe57-da6d-456d-95b1-7aa8598293d5\")) {                    Plotly.newPlot(                        \"5eddfe57-da6d-456d-95b1-7aa8598293d5\",                        [{\"x\":[\"Facebook\",\"others\",\"\\uae30\\ubcf8\\ud648\",\"\\uce74\\uce74\\uc624\\ud1a1\",\"\\uce90\\uc2dc\\uc6cc\\ud06c\"],\"y\":[40,193,163,738,536],\"type\":\"bar\"}],                        {\"template\":{\"data\":{\"histogram2dcontour\":[{\"type\":\"histogram2dcontour\",\"colorbar\":{\"outlinewidth\":0,\"ticks\":\"\"},\"colorscale\":[[0.0,\"#0d0887\"],[0.1111111111111111,\"#46039f\"],[0.2222222222222222,\"#7201a8\"],[0.3333333333333333,\"#9c179e\"],[0.4444444444444444,\"#bd3786\"],[0.5555555555555556,\"#d8576b\"],[0.6666666666666666,\"#ed7953\"],[0.7777777777777778,\"#fb9f3a\"],[0.8888888888888888,\"#fdca26\"],[1.0,\"#f0f921\"]]}],\"choropleth\":[{\"type\":\"choropleth\",\"colorbar\":{\"outlinewidth\":0,\"ticks\":\"\"}}],\"histogram2d\":[{\"type\":\"histogram2d\",\"colorbar\":{\"outlinewidth\":0,\"ticks\":\"\"},\"colorscale\":[[0.0,\"#0d0887\"],[0.1111111111111111,\"#46039f\"],[0.2222222222222222,\"#7201a8\"],[0.3333333333333333,\"#9c179e\"],[0.4444444444444444,\"#bd3786\"],[0.5555555555555556,\"#d8576b\"],[0.6666666666666666,\"#ed7953\"],[0.7777777777777778,\"#fb9f3a\"],[0.8888888888888888,\"#fdca26\"],[1.0,\"#f0f921\"]]}],\"heatmap\":[{\"type\":\"heatmap\",\"colorbar\":{\"outlinewidth\":0,\"ticks\":\"\"},\"colorscale\":[[0.0,\"#0d0887\"],[0.1111111111111111,\"#46039f\"],[0.2222222222222222,\"#7201a8\"],[0.3333333333333333,\"#9c179e\"],[0.4444444444444444,\"#bd3786\"],[0.5555555555555556,\"#d8576b\"],[0.6666666666666666,\"#ed7953\"],[0.7777777777777778,\"#fb9f3a\"],[0.8888888888888888,\"#fdca26\"],[1.0,\"#f0f921\"]]}],\"heatmapgl\":[{\"type\":\"heatmapgl\",\"colorbar\":{\"outlinewidth\":0,\"ticks\":\"\"},\"colorscale\":[[0.0,\"#0d0887\"],[0.1111111111111111,\"#46039f\"],[0.2222222222222222,\"#7201a8\"],[0.3333333333333333,\"#9c179e\"],[0.4444444444444444,\"#bd3786\"],[0.5555555555555556,\"#d8576b\"],[0.6666666666666666,\"#ed7953\"],[0.7777777777777778,\"#fb9f3a\"],[0.8888888888888888,\"#fdca26\"],[1.0,\"#f0f921\"]]}],\"contourcarpet\":[{\"type\":\"contourcarpet\",\"colorbar\":{\"outlinewidth\":0,\"ticks\":\"\"}}],\"contour\":[{\"type\":\"contour\",\"colorbar\":{\"outlinewidth\":0,\"ticks\":\"\"},\"colorscale\":[[0.0,\"#0d0887\"],[0.1111111111111111,\"#46039f\"],[0.2222222222222222,\"#7201a8\"],[0.3333333333333333,\"#9c179e\"],[0.4444444444444444,\"#bd3786\"],[0.5555555555555556,\"#d8576b\"],[0.6666666666666666,\"#ed7953\"],[0.7777777777777778,\"#fb9f3a\"],[0.8888888888888888,\"#fdca26\"],[1.0,\"#f0f921\"]]}],\"surface\":[{\"type\":\"surface\",\"colorbar\":{\"outlinewidth\":0,\"ticks\":\"\"},\"colorscale\":[[0.0,\"#0d0887\"],[0.1111111111111111,\"#46039f\"],[0.2222222222222222,\"#7201a8\"],[0.3333333333333333,\"#9c179e\"],[0.4444444444444444,\"#bd3786\"],[0.5555555555555556,\"#d8576b\"],[0.6666666666666666,\"#ed7953\"],[0.7777777777777778,\"#fb9f3a\"],[0.8888888888888888,\"#fdca26\"],[1.0,\"#f0f921\"]]}],\"mesh3d\":[{\"type\":\"mesh3d\",\"colorbar\":{\"outlinewidth\":0,\"ticks\":\"\"}}],\"scatter\":[{\"fillpattern\":{\"fillmode\":\"overlay\",\"size\":10,\"solidity\":0.2},\"type\":\"scatter\"}],\"parcoords\":[{\"type\":\"parcoords\",\"line\":{\"colorbar\":{\"outlinewidth\":0,\"ticks\":\"\"}}}],\"scatterpolargl\":[{\"type\":\"scatterpolargl\",\"marker\":{\"colorbar\":{\"outlinewidth\":0,\"ticks\":\"\"}}}],\"bar\":[{\"error_x\":{\"color\":\"#2a3f5f\"},\"error_y\":{\"color\":\"#2a3f5f\"},\"marker\":{\"line\":{\"color\":\"#E5ECF6\",\"width\":0.5},\"pattern\":{\"fillmode\":\"overlay\",\"size\":10,\"solidity\":0.2}},\"type\":\"bar\"}],\"scattergeo\":[{\"type\":\"scattergeo\",\"marker\":{\"colorbar\":{\"outlinewidth\":0,\"ticks\":\"\"}}}],\"scatterpolar\":[{\"type\":\"scatterpolar\",\"marker\":{\"colorbar\":{\"outlinewidth\":0,\"ticks\":\"\"}}}],\"histogram\":[{\"marker\":{\"pattern\":{\"fillmode\":\"overlay\",\"size\":10,\"solidity\":0.2}},\"type\":\"histogram\"}],\"scattergl\":[{\"type\":\"scattergl\",\"marker\":{\"colorbar\":{\"outlinewidth\":0,\"ticks\":\"\"}}}],\"scatter3d\":[{\"type\":\"scatter3d\",\"line\":{\"colorbar\":{\"outlinewidth\":0,\"ticks\":\"\"}},\"marker\":{\"colorbar\":{\"outlinewidth\":0,\"ticks\":\"\"}}}],\"scattermapbox\":[{\"type\":\"scattermapbox\",\"marker\":{\"colorbar\":{\"outlinewidth\":0,\"ticks\":\"\"}}}],\"scatterternary\":[{\"type\":\"scatterternary\",\"marker\":{\"colorbar\":{\"outlinewidth\":0,\"ticks\":\"\"}}}],\"scattercarpet\":[{\"type\":\"scattercarpet\",\"marker\":{\"colorbar\":{\"outlinewidth\":0,\"ticks\":\"\"}}}],\"carpet\":[{\"aaxis\":{\"endlinecolor\":\"#2a3f5f\",\"gridcolor\":\"white\",\"linecolor\":\"white\",\"minorgridcolor\":\"white\",\"startlinecolor\":\"#2a3f5f\"},\"baxis\":{\"endlinecolor\":\"#2a3f5f\",\"gridcolor\":\"white\",\"linecolor\":\"white\",\"minorgridcolor\":\"white\",\"startlinecolor\":\"#2a3f5f\"},\"type\":\"carpet\"}],\"table\":[{\"cells\":{\"fill\":{\"color\":\"#EBF0F8\"},\"line\":{\"color\":\"white\"}},\"header\":{\"fill\":{\"color\":\"#C8D4E3\"},\"line\":{\"color\":\"white\"}},\"type\":\"table\"}],\"barpolar\":[{\"marker\":{\"line\":{\"color\":\"#E5ECF6\",\"width\":0.5},\"pattern\":{\"fillmode\":\"overlay\",\"size\":10,\"solidity\":0.2}},\"type\":\"barpolar\"}],\"pie\":[{\"automargin\":true,\"type\":\"pie\"}]},\"layout\":{\"autotypenumbers\":\"strict\",\"colorway\":[\"#636efa\",\"#EF553B\",\"#00cc96\",\"#ab63fa\",\"#FFA15A\",\"#19d3f3\",\"#FF6692\",\"#B6E880\",\"#FF97FF\",\"#FECB52\"],\"font\":{\"color\":\"#2a3f5f\"},\"hovermode\":\"closest\",\"hoverlabel\":{\"align\":\"left\"},\"paper_bgcolor\":\"white\",\"plot_bgcolor\":\"#E5ECF6\",\"polar\":{\"bgcolor\":\"#E5ECF6\",\"angularaxis\":{\"gridcolor\":\"white\",\"linecolor\":\"white\",\"ticks\":\"\"},\"radialaxis\":{\"gridcolor\":\"white\",\"linecolor\":\"white\",\"ticks\":\"\"}},\"ternary\":{\"bgcolor\":\"#E5ECF6\",\"aaxis\":{\"gridcolor\":\"white\",\"linecolor\":\"white\",\"ticks\":\"\"},\"baxis\":{\"gridcolor\":\"white\",\"linecolor\":\"white\",\"ticks\":\"\"},\"caxis\":{\"gridcolor\":\"white\",\"linecolor\":\"white\",\"ticks\":\"\"}},\"coloraxis\":{\"colorbar\":{\"outlinewidth\":0,\"ticks\":\"\"}},\"colorscale\":{\"sequential\":[[0.0,\"#0d0887\"],[0.1111111111111111,\"#46039f\"],[0.2222222222222222,\"#7201a8\"],[0.3333333333333333,\"#9c179e\"],[0.4444444444444444,\"#bd3786\"],[0.5555555555555556,\"#d8576b\"],[0.6666666666666666,\"#ed7953\"],[0.7777777777777778,\"#fb9f3a\"],[0.8888888888888888,\"#fdca26\"],[1.0,\"#f0f921\"]],\"sequentialminus\":[[0.0,\"#0d0887\"],[0.1111111111111111,\"#46039f\"],[0.2222222222222222,\"#7201a8\"],[0.3333333333333333,\"#9c179e\"],[0.4444444444444444,\"#bd3786\"],[0.5555555555555556,\"#d8576b\"],[0.6666666666666666,\"#ed7953\"],[0.7777777777777778,\"#fb9f3a\"],[0.8888888888888888,\"#fdca26\"],[1.0,\"#f0f921\"]],\"diverging\":[[0,\"#8e0152\"],[0.1,\"#c51b7d\"],[0.2,\"#de77ae\"],[0.3,\"#f1b6da\"],[0.4,\"#fde0ef\"],[0.5,\"#f7f7f7\"],[0.6,\"#e6f5d0\"],[0.7,\"#b8e186\"],[0.8,\"#7fbc41\"],[0.9,\"#4d9221\"],[1,\"#276419\"]]},\"xaxis\":{\"gridcolor\":\"white\",\"linecolor\":\"white\",\"ticks\":\"\",\"title\":{\"standoff\":15},\"zerolinecolor\":\"white\",\"automargin\":true,\"zerolinewidth\":2},\"yaxis\":{\"gridcolor\":\"white\",\"linecolor\":\"white\",\"ticks\":\"\",\"title\":{\"standoff\":15},\"zerolinecolor\":\"white\",\"automargin\":true,\"zerolinewidth\":2},\"scene\":{\"xaxis\":{\"backgroundcolor\":\"#E5ECF6\",\"gridcolor\":\"white\",\"linecolor\":\"white\",\"showbackground\":true,\"ticks\":\"\",\"zerolinecolor\":\"white\",\"gridwidth\":2},\"yaxis\":{\"backgroundcolor\":\"#E5ECF6\",\"gridcolor\":\"white\",\"linecolor\":\"white\",\"showbackground\":true,\"ticks\":\"\",\"zerolinecolor\":\"white\",\"gridwidth\":2},\"zaxis\":{\"backgroundcolor\":\"#E5ECF6\",\"gridcolor\":\"white\",\"linecolor\":\"white\",\"showbackground\":true,\"ticks\":\"\",\"zerolinecolor\":\"white\",\"gridwidth\":2}},\"shapedefaults\":{\"line\":{\"color\":\"#2a3f5f\"}},\"annotationdefaults\":{\"arrowcolor\":\"#2a3f5f\",\"arrowhead\":0,\"arrowwidth\":1},\"geo\":{\"bgcolor\":\"white\",\"landcolor\":\"#E5ECF6\",\"subunitcolor\":\"white\",\"showland\":true,\"showlakes\":true,\"lakecolor\":\"white\"},\"title\":{\"x\":0.05},\"mapbox\":{\"style\":\"light\"}}},\"title\":{\"text\":\"Number of Access\"}},                        {\"responsive\": true}                    ).then(function(){\n",
              "                            \n",
              "var gd = document.getElementById('5eddfe57-da6d-456d-95b1-7aa8598293d5');\n",
              "var x = new MutationObserver(function (mutations, observer) {{\n",
              "        var display = window.getComputedStyle(gd).display;\n",
              "        if (!display || display === 'none') {{\n",
              "            console.log([gd, 'removed!']);\n",
              "            Plotly.purge(gd);\n",
              "            observer.disconnect();\n",
              "        }}\n",
              "}});\n",
              "\n",
              "// Listen for the removal of the full notebook cells\n",
              "var notebookContainer = gd.closest('#notebook-container');\n",
              "if (notebookContainer) {{\n",
              "    x.observe(notebookContainer, {childList: true});\n",
              "}}\n",
              "\n",
              "// Listen for the clearing of the current output cell\n",
              "var outputEl = gd.closest('.output');\n",
              "if (outputEl) {{\n",
              "    x.observe(outputEl, {childList: true});\n",
              "}}\n",
              "\n",
              "                        })                };                            </script>        </div>\n",
              "</body>\n",
              "</html>"
            ]
          },
          "metadata": {}
        }
      ],
      "source": [
        "access_app_count_df = get_access_app_count_df(1)\n",
        "\n",
        "fig = go.Figure()\n",
        "#Make a basic line plot which shows the trend of Co2 emissions\n",
        "fig.add_trace(go.Bar(x=access_app_count_df['name'], y=access_app_count_df['number_of_access']))\n",
        "\n",
        "\n",
        "fig.update_layout(\n",
        "    title='Number of Access'\n",
        ")"
      ]
    },
    {
      "cell_type": "code",
      "execution_count": 86,
      "metadata": {
        "id": "Q2cM_lV-IXzE",
        "colab": {
          "base_uri": "https://localhost:8080/",
          "height": 1000
        },
        "outputId": "ca448647-2569-48c9-c8ff-7b9e71ca3c89"
      },
      "outputs": [
        {
          "output_type": "execute_result",
          "data": {
            "text/plain": [
              "    Key  level_1      name  number_of_access\n",
              "0     0        0  Facebook                71\n",
              "1     0        1    others               410\n",
              "2     0        2       기본홈               247\n",
              "3     0        3        문서                 9\n",
              "4     0        4      카카오톡              1059\n",
              "5     0        5      캐시워크               568\n",
              "6     1        0  Facebook                40\n",
              "7     1        1    others               193\n",
              "8     1        2       기본홈               163\n",
              "9     1        3      카카오톡               738\n",
              "10    1        4      캐시워크               536\n",
              "11    2        0  Facebook                65\n",
              "12    2        1    others               474\n",
              "13    2        2       기본홈               249\n",
              "14    2        3      카카오톡               901\n",
              "15    2        4      캐시워크               493\n",
              "16    3        0  Facebook                54\n",
              "17    3        1    others               172\n",
              "18    3        2       기본홈                90\n",
              "19    3        3      카카오톡               451\n",
              "20    3        4      캐시워크               227\n",
              "21    4        0  Facebook                43\n",
              "22    4        1    others                93\n",
              "23    4        2       기본홈                41\n",
              "24    4        3      카카오톡               162\n",
              "25    4        4      캐시워크               130\n",
              "26    5        0  Facebook                45\n",
              "27    5        1    others               154\n",
              "28    5        2       기본홈               110\n",
              "29    5        3      카카오톡               627\n",
              "30    5        4      캐시워크               323\n",
              "31    6        0  Facebook               103\n",
              "32    6        1    others               118\n",
              "33    6        2       기본홈               152\n",
              "34    6        3        문서                 3\n",
              "35    6        4      카카오톡               682\n",
              "36    6        5      캐시워크               335"
            ],
            "text/html": [
              "\n",
              "  <div id=\"df-c7756f6c-e7dd-49d3-b08c-82c2c5549fea\">\n",
              "    <div class=\"colab-df-container\">\n",
              "      <div>\n",
              "<style scoped>\n",
              "    .dataframe tbody tr th:only-of-type {\n",
              "        vertical-align: middle;\n",
              "    }\n",
              "\n",
              "    .dataframe tbody tr th {\n",
              "        vertical-align: top;\n",
              "    }\n",
              "\n",
              "    .dataframe thead th {\n",
              "        text-align: right;\n",
              "    }\n",
              "</style>\n",
              "<table border=\"1\" class=\"dataframe\">\n",
              "  <thead>\n",
              "    <tr style=\"text-align: right;\">\n",
              "      <th></th>\n",
              "      <th>Key</th>\n",
              "      <th>level_1</th>\n",
              "      <th>name</th>\n",
              "      <th>number_of_access</th>\n",
              "    </tr>\n",
              "  </thead>\n",
              "  <tbody>\n",
              "    <tr>\n",
              "      <th>0</th>\n",
              "      <td>0</td>\n",
              "      <td>0</td>\n",
              "      <td>Facebook</td>\n",
              "      <td>71</td>\n",
              "    </tr>\n",
              "    <tr>\n",
              "      <th>1</th>\n",
              "      <td>0</td>\n",
              "      <td>1</td>\n",
              "      <td>others</td>\n",
              "      <td>410</td>\n",
              "    </tr>\n",
              "    <tr>\n",
              "      <th>2</th>\n",
              "      <td>0</td>\n",
              "      <td>2</td>\n",
              "      <td>기본홈</td>\n",
              "      <td>247</td>\n",
              "    </tr>\n",
              "    <tr>\n",
              "      <th>3</th>\n",
              "      <td>0</td>\n",
              "      <td>3</td>\n",
              "      <td>문서</td>\n",
              "      <td>9</td>\n",
              "    </tr>\n",
              "    <tr>\n",
              "      <th>4</th>\n",
              "      <td>0</td>\n",
              "      <td>4</td>\n",
              "      <td>카카오톡</td>\n",
              "      <td>1059</td>\n",
              "    </tr>\n",
              "    <tr>\n",
              "      <th>5</th>\n",
              "      <td>0</td>\n",
              "      <td>5</td>\n",
              "      <td>캐시워크</td>\n",
              "      <td>568</td>\n",
              "    </tr>\n",
              "    <tr>\n",
              "      <th>6</th>\n",
              "      <td>1</td>\n",
              "      <td>0</td>\n",
              "      <td>Facebook</td>\n",
              "      <td>40</td>\n",
              "    </tr>\n",
              "    <tr>\n",
              "      <th>7</th>\n",
              "      <td>1</td>\n",
              "      <td>1</td>\n",
              "      <td>others</td>\n",
              "      <td>193</td>\n",
              "    </tr>\n",
              "    <tr>\n",
              "      <th>8</th>\n",
              "      <td>1</td>\n",
              "      <td>2</td>\n",
              "      <td>기본홈</td>\n",
              "      <td>163</td>\n",
              "    </tr>\n",
              "    <tr>\n",
              "      <th>9</th>\n",
              "      <td>1</td>\n",
              "      <td>3</td>\n",
              "      <td>카카오톡</td>\n",
              "      <td>738</td>\n",
              "    </tr>\n",
              "    <tr>\n",
              "      <th>10</th>\n",
              "      <td>1</td>\n",
              "      <td>4</td>\n",
              "      <td>캐시워크</td>\n",
              "      <td>536</td>\n",
              "    </tr>\n",
              "    <tr>\n",
              "      <th>11</th>\n",
              "      <td>2</td>\n",
              "      <td>0</td>\n",
              "      <td>Facebook</td>\n",
              "      <td>65</td>\n",
              "    </tr>\n",
              "    <tr>\n",
              "      <th>12</th>\n",
              "      <td>2</td>\n",
              "      <td>1</td>\n",
              "      <td>others</td>\n",
              "      <td>474</td>\n",
              "    </tr>\n",
              "    <tr>\n",
              "      <th>13</th>\n",
              "      <td>2</td>\n",
              "      <td>2</td>\n",
              "      <td>기본홈</td>\n",
              "      <td>249</td>\n",
              "    </tr>\n",
              "    <tr>\n",
              "      <th>14</th>\n",
              "      <td>2</td>\n",
              "      <td>3</td>\n",
              "      <td>카카오톡</td>\n",
              "      <td>901</td>\n",
              "    </tr>\n",
              "    <tr>\n",
              "      <th>15</th>\n",
              "      <td>2</td>\n",
              "      <td>4</td>\n",
              "      <td>캐시워크</td>\n",
              "      <td>493</td>\n",
              "    </tr>\n",
              "    <tr>\n",
              "      <th>16</th>\n",
              "      <td>3</td>\n",
              "      <td>0</td>\n",
              "      <td>Facebook</td>\n",
              "      <td>54</td>\n",
              "    </tr>\n",
              "    <tr>\n",
              "      <th>17</th>\n",
              "      <td>3</td>\n",
              "      <td>1</td>\n",
              "      <td>others</td>\n",
              "      <td>172</td>\n",
              "    </tr>\n",
              "    <tr>\n",
              "      <th>18</th>\n",
              "      <td>3</td>\n",
              "      <td>2</td>\n",
              "      <td>기본홈</td>\n",
              "      <td>90</td>\n",
              "    </tr>\n",
              "    <tr>\n",
              "      <th>19</th>\n",
              "      <td>3</td>\n",
              "      <td>3</td>\n",
              "      <td>카카오톡</td>\n",
              "      <td>451</td>\n",
              "    </tr>\n",
              "    <tr>\n",
              "      <th>20</th>\n",
              "      <td>3</td>\n",
              "      <td>4</td>\n",
              "      <td>캐시워크</td>\n",
              "      <td>227</td>\n",
              "    </tr>\n",
              "    <tr>\n",
              "      <th>21</th>\n",
              "      <td>4</td>\n",
              "      <td>0</td>\n",
              "      <td>Facebook</td>\n",
              "      <td>43</td>\n",
              "    </tr>\n",
              "    <tr>\n",
              "      <th>22</th>\n",
              "      <td>4</td>\n",
              "      <td>1</td>\n",
              "      <td>others</td>\n",
              "      <td>93</td>\n",
              "    </tr>\n",
              "    <tr>\n",
              "      <th>23</th>\n",
              "      <td>4</td>\n",
              "      <td>2</td>\n",
              "      <td>기본홈</td>\n",
              "      <td>41</td>\n",
              "    </tr>\n",
              "    <tr>\n",
              "      <th>24</th>\n",
              "      <td>4</td>\n",
              "      <td>3</td>\n",
              "      <td>카카오톡</td>\n",
              "      <td>162</td>\n",
              "    </tr>\n",
              "    <tr>\n",
              "      <th>25</th>\n",
              "      <td>4</td>\n",
              "      <td>4</td>\n",
              "      <td>캐시워크</td>\n",
              "      <td>130</td>\n",
              "    </tr>\n",
              "    <tr>\n",
              "      <th>26</th>\n",
              "      <td>5</td>\n",
              "      <td>0</td>\n",
              "      <td>Facebook</td>\n",
              "      <td>45</td>\n",
              "    </tr>\n",
              "    <tr>\n",
              "      <th>27</th>\n",
              "      <td>5</td>\n",
              "      <td>1</td>\n",
              "      <td>others</td>\n",
              "      <td>154</td>\n",
              "    </tr>\n",
              "    <tr>\n",
              "      <th>28</th>\n",
              "      <td>5</td>\n",
              "      <td>2</td>\n",
              "      <td>기본홈</td>\n",
              "      <td>110</td>\n",
              "    </tr>\n",
              "    <tr>\n",
              "      <th>29</th>\n",
              "      <td>5</td>\n",
              "      <td>3</td>\n",
              "      <td>카카오톡</td>\n",
              "      <td>627</td>\n",
              "    </tr>\n",
              "    <tr>\n",
              "      <th>30</th>\n",
              "      <td>5</td>\n",
              "      <td>4</td>\n",
              "      <td>캐시워크</td>\n",
              "      <td>323</td>\n",
              "    </tr>\n",
              "    <tr>\n",
              "      <th>31</th>\n",
              "      <td>6</td>\n",
              "      <td>0</td>\n",
              "      <td>Facebook</td>\n",
              "      <td>103</td>\n",
              "    </tr>\n",
              "    <tr>\n",
              "      <th>32</th>\n",
              "      <td>6</td>\n",
              "      <td>1</td>\n",
              "      <td>others</td>\n",
              "      <td>118</td>\n",
              "    </tr>\n",
              "    <tr>\n",
              "      <th>33</th>\n",
              "      <td>6</td>\n",
              "      <td>2</td>\n",
              "      <td>기본홈</td>\n",
              "      <td>152</td>\n",
              "    </tr>\n",
              "    <tr>\n",
              "      <th>34</th>\n",
              "      <td>6</td>\n",
              "      <td>3</td>\n",
              "      <td>문서</td>\n",
              "      <td>3</td>\n",
              "    </tr>\n",
              "    <tr>\n",
              "      <th>35</th>\n",
              "      <td>6</td>\n",
              "      <td>4</td>\n",
              "      <td>카카오톡</td>\n",
              "      <td>682</td>\n",
              "    </tr>\n",
              "    <tr>\n",
              "      <th>36</th>\n",
              "      <td>6</td>\n",
              "      <td>5</td>\n",
              "      <td>캐시워크</td>\n",
              "      <td>335</td>\n",
              "    </tr>\n",
              "  </tbody>\n",
              "</table>\n",
              "</div>\n",
              "      <button class=\"colab-df-convert\" onclick=\"convertToInteractive('df-c7756f6c-e7dd-49d3-b08c-82c2c5549fea')\"\n",
              "              title=\"Convert this dataframe to an interactive table.\"\n",
              "              style=\"display:none;\">\n",
              "        \n",
              "  <svg xmlns=\"http://www.w3.org/2000/svg\" height=\"24px\"viewBox=\"0 0 24 24\"\n",
              "       width=\"24px\">\n",
              "    <path d=\"M0 0h24v24H0V0z\" fill=\"none\"/>\n",
              "    <path d=\"M18.56 5.44l.94 2.06.94-2.06 2.06-.94-2.06-.94-.94-2.06-.94 2.06-2.06.94zm-11 1L8.5 8.5l.94-2.06 2.06-.94-2.06-.94L8.5 2.5l-.94 2.06-2.06.94zm10 10l.94 2.06.94-2.06 2.06-.94-2.06-.94-.94-2.06-.94 2.06-2.06.94z\"/><path d=\"M17.41 7.96l-1.37-1.37c-.4-.4-.92-.59-1.43-.59-.52 0-1.04.2-1.43.59L10.3 9.45l-7.72 7.72c-.78.78-.78 2.05 0 2.83L4 21.41c.39.39.9.59 1.41.59.51 0 1.02-.2 1.41-.59l7.78-7.78 2.81-2.81c.8-.78.8-2.07 0-2.86zM5.41 20L4 18.59l7.72-7.72 1.47 1.35L5.41 20z\"/>\n",
              "  </svg>\n",
              "      </button>\n",
              "      \n",
              "  <style>\n",
              "    .colab-df-container {\n",
              "      display:flex;\n",
              "      flex-wrap:wrap;\n",
              "      gap: 12px;\n",
              "    }\n",
              "\n",
              "    .colab-df-convert {\n",
              "      background-color: #E8F0FE;\n",
              "      border: none;\n",
              "      border-radius: 50%;\n",
              "      cursor: pointer;\n",
              "      display: none;\n",
              "      fill: #1967D2;\n",
              "      height: 32px;\n",
              "      padding: 0 0 0 0;\n",
              "      width: 32px;\n",
              "    }\n",
              "\n",
              "    .colab-df-convert:hover {\n",
              "      background-color: #E2EBFA;\n",
              "      box-shadow: 0px 1px 2px rgba(60, 64, 67, 0.3), 0px 1px 3px 1px rgba(60, 64, 67, 0.15);\n",
              "      fill: #174EA6;\n",
              "    }\n",
              "\n",
              "    [theme=dark] .colab-df-convert {\n",
              "      background-color: #3B4455;\n",
              "      fill: #D2E3FC;\n",
              "    }\n",
              "\n",
              "    [theme=dark] .colab-df-convert:hover {\n",
              "      background-color: #434B5C;\n",
              "      box-shadow: 0px 1px 3px 1px rgba(0, 0, 0, 0.15);\n",
              "      filter: drop-shadow(0px 1px 2px rgba(0, 0, 0, 0.3));\n",
              "      fill: #FFFFFF;\n",
              "    }\n",
              "  </style>\n",
              "\n",
              "      <script>\n",
              "        const buttonEl =\n",
              "          document.querySelector('#df-c7756f6c-e7dd-49d3-b08c-82c2c5549fea button.colab-df-convert');\n",
              "        buttonEl.style.display =\n",
              "          google.colab.kernel.accessAllowed ? 'block' : 'none';\n",
              "\n",
              "        async function convertToInteractive(key) {\n",
              "          const element = document.querySelector('#df-c7756f6c-e7dd-49d3-b08c-82c2c5549fea');\n",
              "          const dataTable =\n",
              "            await google.colab.kernel.invokeFunction('convertToInteractive',\n",
              "                                                     [key], {});\n",
              "          if (!dataTable) return;\n",
              "\n",
              "          const docLinkHtml = 'Like what you see? Visit the ' +\n",
              "            '<a target=\"_blank\" href=https://colab.research.google.com/notebooks/data_table.ipynb>data table notebook</a>'\n",
              "            + ' to learn more about interactive tables.';\n",
              "          element.innerHTML = '';\n",
              "          dataTable['output_type'] = 'display_data';\n",
              "          await google.colab.output.renderOutput(dataTable, element);\n",
              "          const docLink = document.createElement('div');\n",
              "          docLink.innerHTML = docLinkHtml;\n",
              "          element.appendChild(docLink);\n",
              "        }\n",
              "      </script>\n",
              "    </div>\n",
              "  </div>\n",
              "  "
            ]
          },
          "metadata": {},
          "execution_count": 86
        }
      ],
      "source": [
        "dfs = [get_access_app_count_df(i) for i in range(len(aUSE_ENENT_files))]\n",
        "\n",
        "# 생성된 데이터프레임들을 concat 함수를 사용하여 합치기\n",
        "df_concat = pd.concat(dfs, axis=0, keys=[i for i in range(len(aUSE_ENENT_files))], names=['Key']).reset_index()\n",
        "\n",
        "# 결과 출력\n",
        "df_concat"
      ]
    },
    {
      "cell_type": "code",
      "execution_count": 88,
      "metadata": {
        "id": "WUD9SPizMLTo",
        "colab": {
          "base_uri": "https://localhost:8080/",
          "height": 542
        },
        "outputId": "7f61ca1c-16aa-4db9-e1fa-77622a48d596"
      },
      "outputs": [
        {
          "output_type": "display_data",
          "data": {
            "text/html": [
              "<html>\n",
              "<head><meta charset=\"utf-8\" /></head>\n",
              "<body>\n",
              "    <div>            <script src=\"https://cdnjs.cloudflare.com/ajax/libs/mathjax/2.7.5/MathJax.js?config=TeX-AMS-MML_SVG\"></script><script type=\"text/javascript\">if (window.MathJax && window.MathJax.Hub && window.MathJax.Hub.Config) {window.MathJax.Hub.Config({SVG: {font: \"STIX-Web\"}});}</script>                <script type=\"text/javascript\">window.PlotlyConfig = {MathJaxConfig: 'local'};</script>\n",
              "        <script src=\"https://cdn.plot.ly/plotly-2.18.2.min.js\"></script>                <div id=\"a6536125-cb39-4e21-8837-ae6f57bae5d8\" class=\"plotly-graph-div\" style=\"height:525px; width:100%;\"></div>            <script type=\"text/javascript\">                                    window.PLOTLYENV=window.PLOTLYENV || {};                                    if (document.getElementById(\"a6536125-cb39-4e21-8837-ae6f57bae5d8\")) {                    Plotly.newPlot(                        \"a6536125-cb39-4e21-8837-ae6f57bae5d8\",                        [{\"alignmentgroup\":\"True\",\"hovertemplate\":\"name=Facebook<br>Key=%{x}<br>number_of_access=%{y}<extra></extra>\",\"legendgroup\":\"Facebook\",\"marker\":{\"color\":\"#636efa\",\"pattern\":{\"shape\":\"\"}},\"name\":\"Facebook\",\"offsetgroup\":\"Facebook\",\"orientation\":\"v\",\"showlegend\":true,\"textposition\":\"auto\",\"x\":[0,1,2,3,4,5,6],\"xaxis\":\"x\",\"y\":[71,40,65,54,43,45,103],\"yaxis\":\"y\",\"type\":\"bar\"},{\"alignmentgroup\":\"True\",\"hovertemplate\":\"name=others<br>Key=%{x}<br>number_of_access=%{y}<extra></extra>\",\"legendgroup\":\"others\",\"marker\":{\"color\":\"#EF553B\",\"pattern\":{\"shape\":\"\"}},\"name\":\"others\",\"offsetgroup\":\"others\",\"orientation\":\"v\",\"showlegend\":true,\"textposition\":\"auto\",\"x\":[0,1,2,3,4,5,6],\"xaxis\":\"x\",\"y\":[410,193,474,172,93,154,118],\"yaxis\":\"y\",\"type\":\"bar\"},{\"alignmentgroup\":\"True\",\"hovertemplate\":\"name=\\uae30\\ubcf8\\ud648<br>Key=%{x}<br>number_of_access=%{y}<extra></extra>\",\"legendgroup\":\"\\uae30\\ubcf8\\ud648\",\"marker\":{\"color\":\"#00cc96\",\"pattern\":{\"shape\":\"\"}},\"name\":\"\\uae30\\ubcf8\\ud648\",\"offsetgroup\":\"\\uae30\\ubcf8\\ud648\",\"orientation\":\"v\",\"showlegend\":true,\"textposition\":\"auto\",\"x\":[0,1,2,3,4,5,6],\"xaxis\":\"x\",\"y\":[247,163,249,90,41,110,152],\"yaxis\":\"y\",\"type\":\"bar\"},{\"alignmentgroup\":\"True\",\"hovertemplate\":\"name=\\ubb38\\uc11c<br>Key=%{x}<br>number_of_access=%{y}<extra></extra>\",\"legendgroup\":\"\\ubb38\\uc11c\",\"marker\":{\"color\":\"#ab63fa\",\"pattern\":{\"shape\":\"\"}},\"name\":\"\\ubb38\\uc11c\",\"offsetgroup\":\"\\ubb38\\uc11c\",\"orientation\":\"v\",\"showlegend\":true,\"textposition\":\"auto\",\"x\":[0,6],\"xaxis\":\"x\",\"y\":[9,3],\"yaxis\":\"y\",\"type\":\"bar\"},{\"alignmentgroup\":\"True\",\"hovertemplate\":\"name=\\uce74\\uce74\\uc624\\ud1a1<br>Key=%{x}<br>number_of_access=%{y}<extra></extra>\",\"legendgroup\":\"\\uce74\\uce74\\uc624\\ud1a1\",\"marker\":{\"color\":\"#FFA15A\",\"pattern\":{\"shape\":\"\"}},\"name\":\"\\uce74\\uce74\\uc624\\ud1a1\",\"offsetgroup\":\"\\uce74\\uce74\\uc624\\ud1a1\",\"orientation\":\"v\",\"showlegend\":true,\"textposition\":\"auto\",\"x\":[0,1,2,3,4,5,6],\"xaxis\":\"x\",\"y\":[1059,738,901,451,162,627,682],\"yaxis\":\"y\",\"type\":\"bar\"},{\"alignmentgroup\":\"True\",\"hovertemplate\":\"name=\\uce90\\uc2dc\\uc6cc\\ud06c<br>Key=%{x}<br>number_of_access=%{y}<extra></extra>\",\"legendgroup\":\"\\uce90\\uc2dc\\uc6cc\\ud06c\",\"marker\":{\"color\":\"#19d3f3\",\"pattern\":{\"shape\":\"\"}},\"name\":\"\\uce90\\uc2dc\\uc6cc\\ud06c\",\"offsetgroup\":\"\\uce90\\uc2dc\\uc6cc\\ud06c\",\"orientation\":\"v\",\"showlegend\":true,\"textposition\":\"auto\",\"x\":[0,1,2,3,4,5,6],\"xaxis\":\"x\",\"y\":[568,536,493,227,130,323,335],\"yaxis\":\"y\",\"type\":\"bar\"}],                        {\"template\":{\"data\":{\"histogram2dcontour\":[{\"type\":\"histogram2dcontour\",\"colorbar\":{\"outlinewidth\":0,\"ticks\":\"\"},\"colorscale\":[[0.0,\"#0d0887\"],[0.1111111111111111,\"#46039f\"],[0.2222222222222222,\"#7201a8\"],[0.3333333333333333,\"#9c179e\"],[0.4444444444444444,\"#bd3786\"],[0.5555555555555556,\"#d8576b\"],[0.6666666666666666,\"#ed7953\"],[0.7777777777777778,\"#fb9f3a\"],[0.8888888888888888,\"#fdca26\"],[1.0,\"#f0f921\"]]}],\"choropleth\":[{\"type\":\"choropleth\",\"colorbar\":{\"outlinewidth\":0,\"ticks\":\"\"}}],\"histogram2d\":[{\"type\":\"histogram2d\",\"colorbar\":{\"outlinewidth\":0,\"ticks\":\"\"},\"colorscale\":[[0.0,\"#0d0887\"],[0.1111111111111111,\"#46039f\"],[0.2222222222222222,\"#7201a8\"],[0.3333333333333333,\"#9c179e\"],[0.4444444444444444,\"#bd3786\"],[0.5555555555555556,\"#d8576b\"],[0.6666666666666666,\"#ed7953\"],[0.7777777777777778,\"#fb9f3a\"],[0.8888888888888888,\"#fdca26\"],[1.0,\"#f0f921\"]]}],\"heatmap\":[{\"type\":\"heatmap\",\"colorbar\":{\"outlinewidth\":0,\"ticks\":\"\"},\"colorscale\":[[0.0,\"#0d0887\"],[0.1111111111111111,\"#46039f\"],[0.2222222222222222,\"#7201a8\"],[0.3333333333333333,\"#9c179e\"],[0.4444444444444444,\"#bd3786\"],[0.5555555555555556,\"#d8576b\"],[0.6666666666666666,\"#ed7953\"],[0.7777777777777778,\"#fb9f3a\"],[0.8888888888888888,\"#fdca26\"],[1.0,\"#f0f921\"]]}],\"heatmapgl\":[{\"type\":\"heatmapgl\",\"colorbar\":{\"outlinewidth\":0,\"ticks\":\"\"},\"colorscale\":[[0.0,\"#0d0887\"],[0.1111111111111111,\"#46039f\"],[0.2222222222222222,\"#7201a8\"],[0.3333333333333333,\"#9c179e\"],[0.4444444444444444,\"#bd3786\"],[0.5555555555555556,\"#d8576b\"],[0.6666666666666666,\"#ed7953\"],[0.7777777777777778,\"#fb9f3a\"],[0.8888888888888888,\"#fdca26\"],[1.0,\"#f0f921\"]]}],\"contourcarpet\":[{\"type\":\"contourcarpet\",\"colorbar\":{\"outlinewidth\":0,\"ticks\":\"\"}}],\"contour\":[{\"type\":\"contour\",\"colorbar\":{\"outlinewidth\":0,\"ticks\":\"\"},\"colorscale\":[[0.0,\"#0d0887\"],[0.1111111111111111,\"#46039f\"],[0.2222222222222222,\"#7201a8\"],[0.3333333333333333,\"#9c179e\"],[0.4444444444444444,\"#bd3786\"],[0.5555555555555556,\"#d8576b\"],[0.6666666666666666,\"#ed7953\"],[0.7777777777777778,\"#fb9f3a\"],[0.8888888888888888,\"#fdca26\"],[1.0,\"#f0f921\"]]}],\"surface\":[{\"type\":\"surface\",\"colorbar\":{\"outlinewidth\":0,\"ticks\":\"\"},\"colorscale\":[[0.0,\"#0d0887\"],[0.1111111111111111,\"#46039f\"],[0.2222222222222222,\"#7201a8\"],[0.3333333333333333,\"#9c179e\"],[0.4444444444444444,\"#bd3786\"],[0.5555555555555556,\"#d8576b\"],[0.6666666666666666,\"#ed7953\"],[0.7777777777777778,\"#fb9f3a\"],[0.8888888888888888,\"#fdca26\"],[1.0,\"#f0f921\"]]}],\"mesh3d\":[{\"type\":\"mesh3d\",\"colorbar\":{\"outlinewidth\":0,\"ticks\":\"\"}}],\"scatter\":[{\"fillpattern\":{\"fillmode\":\"overlay\",\"size\":10,\"solidity\":0.2},\"type\":\"scatter\"}],\"parcoords\":[{\"type\":\"parcoords\",\"line\":{\"colorbar\":{\"outlinewidth\":0,\"ticks\":\"\"}}}],\"scatterpolargl\":[{\"type\":\"scatterpolargl\",\"marker\":{\"colorbar\":{\"outlinewidth\":0,\"ticks\":\"\"}}}],\"bar\":[{\"error_x\":{\"color\":\"#2a3f5f\"},\"error_y\":{\"color\":\"#2a3f5f\"},\"marker\":{\"line\":{\"color\":\"#E5ECF6\",\"width\":0.5},\"pattern\":{\"fillmode\":\"overlay\",\"size\":10,\"solidity\":0.2}},\"type\":\"bar\"}],\"scattergeo\":[{\"type\":\"scattergeo\",\"marker\":{\"colorbar\":{\"outlinewidth\":0,\"ticks\":\"\"}}}],\"scatterpolar\":[{\"type\":\"scatterpolar\",\"marker\":{\"colorbar\":{\"outlinewidth\":0,\"ticks\":\"\"}}}],\"histogram\":[{\"marker\":{\"pattern\":{\"fillmode\":\"overlay\",\"size\":10,\"solidity\":0.2}},\"type\":\"histogram\"}],\"scattergl\":[{\"type\":\"scattergl\",\"marker\":{\"colorbar\":{\"outlinewidth\":0,\"ticks\":\"\"}}}],\"scatter3d\":[{\"type\":\"scatter3d\",\"line\":{\"colorbar\":{\"outlinewidth\":0,\"ticks\":\"\"}},\"marker\":{\"colorbar\":{\"outlinewidth\":0,\"ticks\":\"\"}}}],\"scattermapbox\":[{\"type\":\"scattermapbox\",\"marker\":{\"colorbar\":{\"outlinewidth\":0,\"ticks\":\"\"}}}],\"scatterternary\":[{\"type\":\"scatterternary\",\"marker\":{\"colorbar\":{\"outlinewidth\":0,\"ticks\":\"\"}}}],\"scattercarpet\":[{\"type\":\"scattercarpet\",\"marker\":{\"colorbar\":{\"outlinewidth\":0,\"ticks\":\"\"}}}],\"carpet\":[{\"aaxis\":{\"endlinecolor\":\"#2a3f5f\",\"gridcolor\":\"white\",\"linecolor\":\"white\",\"minorgridcolor\":\"white\",\"startlinecolor\":\"#2a3f5f\"},\"baxis\":{\"endlinecolor\":\"#2a3f5f\",\"gridcolor\":\"white\",\"linecolor\":\"white\",\"minorgridcolor\":\"white\",\"startlinecolor\":\"#2a3f5f\"},\"type\":\"carpet\"}],\"table\":[{\"cells\":{\"fill\":{\"color\":\"#EBF0F8\"},\"line\":{\"color\":\"white\"}},\"header\":{\"fill\":{\"color\":\"#C8D4E3\"},\"line\":{\"color\":\"white\"}},\"type\":\"table\"}],\"barpolar\":[{\"marker\":{\"line\":{\"color\":\"#E5ECF6\",\"width\":0.5},\"pattern\":{\"fillmode\":\"overlay\",\"size\":10,\"solidity\":0.2}},\"type\":\"barpolar\"}],\"pie\":[{\"automargin\":true,\"type\":\"pie\"}]},\"layout\":{\"autotypenumbers\":\"strict\",\"colorway\":[\"#636efa\",\"#EF553B\",\"#00cc96\",\"#ab63fa\",\"#FFA15A\",\"#19d3f3\",\"#FF6692\",\"#B6E880\",\"#FF97FF\",\"#FECB52\"],\"font\":{\"color\":\"#2a3f5f\"},\"hovermode\":\"closest\",\"hoverlabel\":{\"align\":\"left\"},\"paper_bgcolor\":\"white\",\"plot_bgcolor\":\"#E5ECF6\",\"polar\":{\"bgcolor\":\"#E5ECF6\",\"angularaxis\":{\"gridcolor\":\"white\",\"linecolor\":\"white\",\"ticks\":\"\"},\"radialaxis\":{\"gridcolor\":\"white\",\"linecolor\":\"white\",\"ticks\":\"\"}},\"ternary\":{\"bgcolor\":\"#E5ECF6\",\"aaxis\":{\"gridcolor\":\"white\",\"linecolor\":\"white\",\"ticks\":\"\"},\"baxis\":{\"gridcolor\":\"white\",\"linecolor\":\"white\",\"ticks\":\"\"},\"caxis\":{\"gridcolor\":\"white\",\"linecolor\":\"white\",\"ticks\":\"\"}},\"coloraxis\":{\"colorbar\":{\"outlinewidth\":0,\"ticks\":\"\"}},\"colorscale\":{\"sequential\":[[0.0,\"#0d0887\"],[0.1111111111111111,\"#46039f\"],[0.2222222222222222,\"#7201a8\"],[0.3333333333333333,\"#9c179e\"],[0.4444444444444444,\"#bd3786\"],[0.5555555555555556,\"#d8576b\"],[0.6666666666666666,\"#ed7953\"],[0.7777777777777778,\"#fb9f3a\"],[0.8888888888888888,\"#fdca26\"],[1.0,\"#f0f921\"]],\"sequentialminus\":[[0.0,\"#0d0887\"],[0.1111111111111111,\"#46039f\"],[0.2222222222222222,\"#7201a8\"],[0.3333333333333333,\"#9c179e\"],[0.4444444444444444,\"#bd3786\"],[0.5555555555555556,\"#d8576b\"],[0.6666666666666666,\"#ed7953\"],[0.7777777777777778,\"#fb9f3a\"],[0.8888888888888888,\"#fdca26\"],[1.0,\"#f0f921\"]],\"diverging\":[[0,\"#8e0152\"],[0.1,\"#c51b7d\"],[0.2,\"#de77ae\"],[0.3,\"#f1b6da\"],[0.4,\"#fde0ef\"],[0.5,\"#f7f7f7\"],[0.6,\"#e6f5d0\"],[0.7,\"#b8e186\"],[0.8,\"#7fbc41\"],[0.9,\"#4d9221\"],[1,\"#276419\"]]},\"xaxis\":{\"gridcolor\":\"white\",\"linecolor\":\"white\",\"ticks\":\"\",\"title\":{\"standoff\":15},\"zerolinecolor\":\"white\",\"automargin\":true,\"zerolinewidth\":2},\"yaxis\":{\"gridcolor\":\"white\",\"linecolor\":\"white\",\"ticks\":\"\",\"title\":{\"standoff\":15},\"zerolinecolor\":\"white\",\"automargin\":true,\"zerolinewidth\":2},\"scene\":{\"xaxis\":{\"backgroundcolor\":\"#E5ECF6\",\"gridcolor\":\"white\",\"linecolor\":\"white\",\"showbackground\":true,\"ticks\":\"\",\"zerolinecolor\":\"white\",\"gridwidth\":2},\"yaxis\":{\"backgroundcolor\":\"#E5ECF6\",\"gridcolor\":\"white\",\"linecolor\":\"white\",\"showbackground\":true,\"ticks\":\"\",\"zerolinecolor\":\"white\",\"gridwidth\":2},\"zaxis\":{\"backgroundcolor\":\"#E5ECF6\",\"gridcolor\":\"white\",\"linecolor\":\"white\",\"showbackground\":true,\"ticks\":\"\",\"zerolinecolor\":\"white\",\"gridwidth\":2}},\"shapedefaults\":{\"line\":{\"color\":\"#2a3f5f\"}},\"annotationdefaults\":{\"arrowcolor\":\"#2a3f5f\",\"arrowhead\":0,\"arrowwidth\":1},\"geo\":{\"bgcolor\":\"white\",\"landcolor\":\"#E5ECF6\",\"subunitcolor\":\"white\",\"showland\":true,\"showlakes\":true,\"lakecolor\":\"white\"},\"title\":{\"x\":0.05},\"mapbox\":{\"style\":\"light\"}}},\"xaxis\":{\"anchor\":\"y\",\"domain\":[0.0,1.0],\"title\":{\"text\":\"Key\"}},\"yaxis\":{\"anchor\":\"x\",\"domain\":[0.0,1.0],\"title\":{\"text\":\"number_of_access\"}},\"legend\":{\"title\":{\"text\":\"name\"},\"tracegroupgap\":0},\"title\":{\"text\":\"Stacked Bar Chart\"},\"barmode\":\"stack\"},                        {\"responsive\": true}                    ).then(function(){\n",
              "                            \n",
              "var gd = document.getElementById('a6536125-cb39-4e21-8837-ae6f57bae5d8');\n",
              "var x = new MutationObserver(function (mutations, observer) {{\n",
              "        var display = window.getComputedStyle(gd).display;\n",
              "        if (!display || display === 'none') {{\n",
              "            console.log([gd, 'removed!']);\n",
              "            Plotly.purge(gd);\n",
              "            observer.disconnect();\n",
              "        }}\n",
              "}});\n",
              "\n",
              "// Listen for the removal of the full notebook cells\n",
              "var notebookContainer = gd.closest('#notebook-container');\n",
              "if (notebookContainer) {{\n",
              "    x.observe(notebookContainer, {childList: true});\n",
              "}}\n",
              "\n",
              "// Listen for the clearing of the current output cell\n",
              "var outputEl = gd.closest('.output');\n",
              "if (outputEl) {{\n",
              "    x.observe(outputEl, {childList: true});\n",
              "}}\n",
              "\n",
              "                        })                };                            </script>        </div>\n",
              "</body>\n",
              "</html>"
            ]
          },
          "metadata": {}
        }
      ],
      "source": [
        "import plotly.express as px\n",
        "\n",
        "\n",
        "#Make a basic line plot which shows the trend of Co2 emissions\n",
        "fig = px.bar(df_concat, x='Key', y='number_of_access', color='name',\n",
        "             title='Stacked Bar Chart',\n",
        "             barmode='stack')\n",
        "\n",
        "fig.show()"
      ]
    },
    {
      "cell_type": "markdown",
      "metadata": {
        "id": "J0aYEOmznGIa"
      },
      "source": [
        "### 일주일 UNLOCK 횟수"
      ]
    },
    {
      "cell_type": "code",
      "execution_count": 89,
      "metadata": {
        "id": "ZfmrojT6t69W",
        "colab": {
          "base_uri": "https://localhost:8080/"
        },
        "outputId": "614cde9c-9b41-4c5b-e2e3-e663a1dabb35"
      },
      "outputs": [
        {
          "output_type": "stream",
          "name": "stdout",
          "text": [
            "149\n",
            "127\n",
            "132\n",
            "86\n",
            "31\n",
            "102\n",
            "111\n"
          ]
        }
      ],
      "source": [
        "for i in range(0, len(dEE_files)):\n",
        "  screen_on_df=pd.read_csv(route+dEE_files[i])\n",
        "  screen_on_df = screen_on_df.groupby('type').count().reset_index()\n",
        "  screen_on_df = screen_on_df.rename(columns={'timestamp': 'count'})\n",
        "  print(screen_on_df[screen_on_df['type'] == 'UNLOCK']['count'].values[0])"
      ]
    },
    {
      "cell_type": "markdown",
      "source": [
        "# Data Processing Taehyeong \n",
        "\n",
        "- 사이즈가 너무 커서 현재 실행 중 종료"
      ],
      "metadata": {
        "id": "oXfB1FoUyXuv"
      }
    },
    {
      "cell_type": "markdown",
      "metadata": {
        "id": "974SZDxkicQj"
      },
      "source": [
        "## Total_user_usage.csv\n",
        "\n"
      ]
    },
    {
      "cell_type": "markdown",
      "metadata": {
        "id": "UAa0tbtxfpxF"
      },
      "source": [
        "DeviceEventEntity 파일들 하나로 합치기\n",
        "\n"
      ]
    },
    {
      "cell_type": "code",
      "execution_count": 90,
      "metadata": {
        "id": "dQs3_9d6ijqh",
        "colab": {
          "base_uri": "https://localhost:8080/"
        },
        "outputId": "4c7270ae-3115-4b97-a3b2-f3ad263c4929"
      },
      "outputs": [
        {
          "output_type": "stream",
          "name": "stderr",
          "text": [
            "<ipython-input-90-11234674a20b>:20: FutureWarning:\n",
            "\n",
            "The frame.append method is deprecated and will be removed from pandas in a future version. Use pandas.concat instead.\n",
            "\n",
            "<ipython-input-90-11234674a20b>:20: FutureWarning:\n",
            "\n",
            "The frame.append method is deprecated and will be removed from pandas in a future version. Use pandas.concat instead.\n",
            "\n",
            "<ipython-input-90-11234674a20b>:20: FutureWarning:\n",
            "\n",
            "The frame.append method is deprecated and will be removed from pandas in a future version. Use pandas.concat instead.\n",
            "\n",
            "<ipython-input-90-11234674a20b>:20: FutureWarning:\n",
            "\n",
            "The frame.append method is deprecated and will be removed from pandas in a future version. Use pandas.concat instead.\n",
            "\n",
            "<ipython-input-90-11234674a20b>:20: FutureWarning:\n",
            "\n",
            "The frame.append method is deprecated and will be removed from pandas in a future version. Use pandas.concat instead.\n",
            "\n",
            "<ipython-input-90-11234674a20b>:20: FutureWarning:\n",
            "\n",
            "The frame.append method is deprecated and will be removed from pandas in a future version. Use pandas.concat instead.\n",
            "\n",
            "<ipython-input-90-11234674a20b>:20: FutureWarning:\n",
            "\n",
            "The frame.append method is deprecated and will be removed from pandas in a future version. Use pandas.concat instead.\n",
            "\n"
          ]
        }
      ],
      "source": [
        "import os\n",
        "import pandas as pd\n",
        "from datetime import timezone, timedelta, datetime\n",
        "\n",
        "utc_timezone = timezone.utc\n",
        "tz = timezone(timedelta(hours=9))\n",
        "in_folder = os.listdir(route)\n",
        "\n",
        "dEE_files = []\n",
        "for file in in_folder:\n",
        "  if \"DeviceEventEntity\" in file:\n",
        "    dEE_files.append(file)\n",
        "\n",
        "# 정렬\n",
        "dEE_files = sorted(dEE_files)\n",
        "df_csv_append = pd.DataFrame()\n",
        "\n",
        "for file in dEE_files:\n",
        "    df = pd.read_csv(route+file)\n",
        "    df_csv_append = df_csv_append.append(df, ignore_index=True)\n"
      ]
    },
    {
      "cell_type": "markdown",
      "source": [
        "\n",
        "### 1. 평균 세션당 사용량 = 하루 사용량 / 세션"
      ],
      "metadata": {
        "id": "K7TIjgVuYL7a"
      }
    },
    {
      "cell_type": "code",
      "source": [
        "# assuming df_csv_append is your DataFrame\n",
        "session_df = df_csv_append\n",
        "# sort values by timestamp\n",
        "session_df = session_df.sort_values('timestamp')\n",
        "\n",
        "# calculate the difference between SCREEN_OFF and the previous UNLOCK\n",
        "session_df['session_time'] = session_df.loc[session_df['type'] == 'SCREEN_OFF', 'timestamp'] - session_df.loc[session_df['type'].shift() == 'UNLOCK', 'timestamp'].shift()\n",
        "\n",
        "# drop null values and remove negative time differences (in case the events are out of order)\n",
        "session_df = session_df.dropna(subset=['session_time'])\n",
        "session_df['timestamp'] = pd.to_datetime(session_df['timestamp'], unit='ms') \n",
        "\n",
        "# resample to daily frequency, calculating the mean of the session_time\n",
        "session_df_daily = session_df.resample('D', on='timestamp').session_time.mean() / 60000\n",
        "session_df_daily = session_df_daily.round().astype(int)\n",
        "\n",
        "# reset the index (which contains the date) and rename the columns for clarity\n",
        "session_df_daily = session_df_daily.reset_index()\n",
        "session_df_daily.columns = ['Date', 'AverageSessionDuration']\n",
        "print(session_df_daily)"
      ],
      "metadata": {
        "id": "cwyHT3ywYNoy",
        "colab": {
          "base_uri": "https://localhost:8080/"
        },
        "outputId": "5141595a-466f-45c3-9edd-45dddc485f08"
      },
      "execution_count": 91,
      "outputs": [
        {
          "output_type": "stream",
          "name": "stdout",
          "text": [
            "        Date  AverageSessionDuration\n",
            "0 2019-04-30                       6\n",
            "1 2019-05-01                       6\n",
            "2 2019-05-02                      14\n",
            "3 2019-05-03                       4\n",
            "4 2019-05-04                      79\n",
            "5 2019-05-05                      14\n",
            "6 2019-05-06                      10\n"
          ]
        }
      ]
    },
    {
      "cell_type": "markdown",
      "source": [
        "### 2. 하루 사용량"
      ],
      "metadata": {
        "id": "z2yH1w7QDwFv"
      }
    },
    {
      "cell_type": "code",
      "source": [
        "# assuming df_csv_append is your DataFrame\n",
        "usage_df = df_csv_append\n",
        "# print(usage_df)\n",
        "# sort values by timestamp\n",
        "usage_df = usage_df.sort_values('timestamp')\n",
        "\n",
        "# calculate the difference between SCREEN_OFF and the previous UNLOCK\n",
        "usage_df['usage_time'] = usage_df.loc[usage_df['type'] == 'SCREEN_OFF', 'timestamp'] - usage_df.loc[usage_df['type'].shift() == 'SCREEN_ON', 'timestamp'].shift()\n",
        "# drop null values and remove negative time differences (in case the events are out of order)\n",
        "usage_df = usage_df.dropna(subset=['usage_time'])\n",
        "usage_df['timestamp'] = pd.to_datetime(usage_df['timestamp'], unit='ms')\n",
        "\n",
        "# resample to daily frequency, summing up the usage_time\n",
        "usage_df_daily = usage_df.resample('D', on='timestamp').usage_time.sum() / 60000\n",
        "# print(usage_df_daily)\n",
        "usage_df_daily = usage_df_daily.round().astype(int)\n",
        "\n",
        "# reset the index (which contains the date) and rename the columns for clarity\n",
        "usage_df_daily = usage_df_daily.reset_index()\n",
        "usage_df_daily.columns = ['Date', 'TotalUsageTime']\n",
        "\n",
        "# print(usage_df_daily)"
      ],
      "metadata": {
        "id": "vh56LX2VJCtQ"
      },
      "execution_count": 92,
      "outputs": []
    },
    {
      "cell_type": "markdown",
      "source": [
        "### 3-1. make a total_usage_time.csv file"
      ],
      "metadata": {
        "id": "NE1QTgcBnefx"
      }
    },
    {
      "cell_type": "code",
      "source": [
        "mean_usage_time = usage_df_daily['TotalUsageTime'].mean().round().astype(int)\n",
        "mean_session_time = session_df_daily['AverageSessionDuration'].mean().round().astype(int)\n",
        "user_id = user.rstrip('/')\n",
        "\n",
        "concat_df = pd.DataFrame({'User': [user_id], 'usage_time': [mean_usage_time], 'session_duration_time': [mean_session_time]})\n",
        "print(concat_df)"
      ],
      "metadata": {
        "id": "QTzvLwnLn_8k",
        "colab": {
          "base_uri": "https://localhost:8080/"
        },
        "outputId": "c87a6bb4-b18b-47ef-bcbe-ee94fa6b78a6"
      },
      "execution_count": 93,
      "outputs": [
        {
          "output_type": "stream",
          "name": "stdout",
          "text": [
            "    User  usage_time  session_duration_time\n",
            "0  P3016        1047                     19\n"
          ]
        }
      ]
    },
    {
      "cell_type": "markdown",
      "source": [
        "iteration for all users(세부 기능은 위의 코드들이랑 같음)"
      ],
      "metadata": {
        "id": "hhhp4JQG13Qi"
      }
    },
    {
      "cell_type": "code",
      "source": [
        "import os\n",
        "import pandas as pd\n",
        "from datetime import timezone, timedelta, datetime\n",
        "\n",
        "utc_timezone = timezone.utc\n",
        "tz = timezone(timedelta(hours=9))\n",
        "\n",
        "folder_route = '/content/drive/My Drive/DP_data processing/'\n",
        "in_main_folder = os.listdir(folder_route)\n",
        "\n",
        "result_dfs = []\n",
        "for folder in in_main_folder:\n",
        "  if folder == 'processed_P3016': continue\n",
        "  user = folder+'/'\n",
        "  print(user)\n",
        "  route = folder_route+user\n",
        "  in_folder = os.listdir(route)\n",
        "\n",
        "  aUSE_files = []\n",
        "  for file in in_folder:\n",
        "    if \"DeviceEventEntity\" in file:\n",
        "      aUSE_files.append(file)\n",
        "\n",
        "  dEE_files = sorted(dEE_files)\n",
        "  df_csv_append = pd.DataFrame()\n",
        "\n",
        "  for file in dEE_files:\n",
        "      df = pd.read_csv(route+file)\n",
        "      df_csv_append = df_csv_append.append(df, ignore_index=True)\n",
        "\n",
        "  session_df = df_csv_append\n",
        "  print(session_df)\n",
        "  session_df = session_df.sort_values('timestamp')\n",
        "  session_df['session_time'] = session_df.loc[session_df['type'] == 'SCREEN_OFF', 'timestamp'] - session_df.loc[session_df['type'].shift() == 'UNLOCK', 'timestamp'].shift()\n",
        "  session_df = session_df.dropna(subset=['session_time'])\n",
        "  session_df['timestamp'] = pd.to_datetime(session_df['timestamp'], unit='ms') \n",
        "\n",
        "  session_df_daily = session_df.resample('D', on='timestamp').session_time.mean() / 60000\n",
        "  session_df_daily = session_df_daily.dropna()\n",
        "  session_df_daily = session_df_daily.round().astype(int)\n",
        "  session_df_daily = session_df_daily.reset_index()\n",
        "  session_df_daily.columns = ['Date', 'AverageSessionDuration']\n",
        "\n",
        "  usage_df = df_csv_append\n",
        "  usage_df = usage_df.sort_values('timestamp')\n",
        "  usage_df['usage_time'] = usage_df.loc[usage_df['type'] == 'SCREEN_OFF', 'timestamp'] - usage_df.loc[usage_df['type'].shift() == 'UNLOCK', 'timestamp'].shift()\n",
        "  usage_df = usage_df.dropna(subset=['usage_time'])\n",
        "  usage_df['timestamp'] = pd.to_datetime(usage_df['timestamp'], unit='ms') \n",
        "\n",
        "  usage_df_daily = usage_df.resample('D', on='timestamp').usage_time.sum() / 60000\n",
        "  # print(usage_df_daily.astype(float).round())\n",
        "  usage_df_daily = usage_df_daily.astype(float).round().astype(int)\n",
        "  usage_df_daily = usage_df_daily.reset_index()\n",
        "  usage_df_daily.columns = ['Date', 'TotalUsageTime']\n",
        "\n",
        "  mean_usage_time = usage_df_daily['TotalUsageTime'].mean().round().astype(int)\n",
        "  mean_session_time = session_df_daily['AverageSessionDuration'].mean().round().astype(int)\n",
        "  user_id = user.rstrip('/')\n",
        "\n",
        "  concat_df = pd.DataFrame({'User': [user_id], 'usage_time': [mean_usage_time], 'session_duration_time': [mean_session_time]})\n",
        "  result_dfs.append(concat_df)\n",
        "\n",
        "final_df = pd.concat(result_dfs)"
      ],
      "metadata": {
        "id": "zGaTPNF12H_g",
        "colab": {
          "base_uri": "https://localhost:8080/",
          "height": 1000
        },
        "outputId": "207e8b19-c4ff-42ff-f2a8-97b2e3a9a8e5"
      },
      "execution_count": 95,
      "outputs": [
        {
          "output_type": "stream",
          "name": "stdout",
          "text": [
            "P3041/\n",
            "          timestamp        type\n",
            "0     1556582644835   SCREEN_ON\n",
            "1     1556583362272  SCREEN_OFF\n",
            "2     1556583542432   SCREEN_ON\n",
            "3     1556583665387  SCREEN_OFF\n",
            "4     1556584204093   SCREEN_ON\n",
            "...             ...         ...\n",
            "1962  1557168735622   SCREEN_ON\n",
            "1963  1557168747405  SCREEN_OFF\n",
            "1964  1557175946783   SCREEN_ON\n",
            "1965  1557175977779      UNLOCK\n",
            "1966  1557177189568  SCREEN_OFF\n",
            "\n",
            "[1967 rows x 2 columns]\n",
            "P3025/\n",
            "          timestamp        type\n",
            "0     1556582638311   SCREEN_ON\n",
            "1     1556582644658      UNLOCK\n",
            "2     1556584045521  SCREEN_OFF\n",
            "3     1556584207349   SCREEN_ON\n",
            "4     1556584209924      UNLOCK\n",
            "...             ...         ...\n",
            "3714  1557146847895   SCREEN_ON\n",
            "3715  1557146849155      UNLOCK\n",
            "3716  1557146889821  SCREEN_OFF\n",
            "3717  1557147654100   SCREEN_ON\n",
            "3718  1557147656962      UNLOCK\n",
            "\n",
            "[3719 rows x 2 columns]\n",
            "P3029/\n",
            "          timestamp        type\n",
            "0     1556582474331   SCREEN_ON\n",
            "1     1556582477667  SCREEN_OFF\n",
            "2     1556582499924   SCREEN_ON\n",
            "3     1556582499968      UNLOCK\n",
            "4     1556582556601  SCREEN_OFF\n",
            "...             ...         ...\n",
            "4514  1557138793804      UNLOCK\n",
            "4515  1557138828823  SCREEN_OFF\n",
            "4516  1557139024557      UNLOCK\n",
            "4517  1557139024844   SCREEN_ON\n",
            "4518  1557139042718  SCREEN_OFF\n",
            "\n",
            "[4519 rows x 2 columns]\n",
            "P3027/\n",
            "          timestamp        type\n",
            "0     1556582434753   SCREEN_ON\n",
            "1     1556582435649  SCREEN_OFF\n",
            "2     1556582436629   SCREEN_ON\n",
            "3     1556582440811  SCREEN_OFF\n",
            "4     1556582528694   SCREEN_ON\n",
            "...             ...         ...\n",
            "1567  1556971518352   SCREEN_ON\n",
            "1568  1556971520357  SCREEN_OFF\n",
            "1569  1556972033637   SCREEN_ON\n",
            "1570  1556972045487  SCREEN_OFF\n",
            "1571  1556973314466   SCREEN_ON\n",
            "\n",
            "[1572 rows x 2 columns]\n"
          ]
        },
        {
          "output_type": "stream",
          "name": "stderr",
          "text": [
            "<ipython-input-95-0685e06bfe3c>:29: FutureWarning:\n",
            "\n",
            "The frame.append method is deprecated and will be removed from pandas in a future version. Use pandas.concat instead.\n",
            "\n",
            "<ipython-input-95-0685e06bfe3c>:29: FutureWarning:\n",
            "\n",
            "The frame.append method is deprecated and will be removed from pandas in a future version. Use pandas.concat instead.\n",
            "\n",
            "<ipython-input-95-0685e06bfe3c>:29: FutureWarning:\n",
            "\n",
            "The frame.append method is deprecated and will be removed from pandas in a future version. Use pandas.concat instead.\n",
            "\n",
            "<ipython-input-95-0685e06bfe3c>:29: FutureWarning:\n",
            "\n",
            "The frame.append method is deprecated and will be removed from pandas in a future version. Use pandas.concat instead.\n",
            "\n",
            "<ipython-input-95-0685e06bfe3c>:29: FutureWarning:\n",
            "\n",
            "The frame.append method is deprecated and will be removed from pandas in a future version. Use pandas.concat instead.\n",
            "\n",
            "<ipython-input-95-0685e06bfe3c>:29: FutureWarning:\n",
            "\n",
            "The frame.append method is deprecated and will be removed from pandas in a future version. Use pandas.concat instead.\n",
            "\n",
            "<ipython-input-95-0685e06bfe3c>:29: FutureWarning:\n",
            "\n",
            "The frame.append method is deprecated and will be removed from pandas in a future version. Use pandas.concat instead.\n",
            "\n",
            "<ipython-input-95-0685e06bfe3c>:29: FutureWarning:\n",
            "\n",
            "The frame.append method is deprecated and will be removed from pandas in a future version. Use pandas.concat instead.\n",
            "\n",
            "<ipython-input-95-0685e06bfe3c>:29: FutureWarning:\n",
            "\n",
            "The frame.append method is deprecated and will be removed from pandas in a future version. Use pandas.concat instead.\n",
            "\n",
            "<ipython-input-95-0685e06bfe3c>:29: FutureWarning:\n",
            "\n",
            "The frame.append method is deprecated and will be removed from pandas in a future version. Use pandas.concat instead.\n",
            "\n",
            "<ipython-input-95-0685e06bfe3c>:29: FutureWarning:\n",
            "\n",
            "The frame.append method is deprecated and will be removed from pandas in a future version. Use pandas.concat instead.\n",
            "\n",
            "<ipython-input-95-0685e06bfe3c>:29: FutureWarning:\n",
            "\n",
            "The frame.append method is deprecated and will be removed from pandas in a future version. Use pandas.concat instead.\n",
            "\n",
            "<ipython-input-95-0685e06bfe3c>:29: FutureWarning:\n",
            "\n",
            "The frame.append method is deprecated and will be removed from pandas in a future version. Use pandas.concat instead.\n",
            "\n",
            "<ipython-input-95-0685e06bfe3c>:29: FutureWarning:\n",
            "\n",
            "The frame.append method is deprecated and will be removed from pandas in a future version. Use pandas.concat instead.\n",
            "\n",
            "<ipython-input-95-0685e06bfe3c>:29: FutureWarning:\n",
            "\n",
            "The frame.append method is deprecated and will be removed from pandas in a future version. Use pandas.concat instead.\n",
            "\n",
            "<ipython-input-95-0685e06bfe3c>:29: FutureWarning:\n",
            "\n",
            "The frame.append method is deprecated and will be removed from pandas in a future version. Use pandas.concat instead.\n",
            "\n",
            "<ipython-input-95-0685e06bfe3c>:29: FutureWarning:\n",
            "\n",
            "The frame.append method is deprecated and will be removed from pandas in a future version. Use pandas.concat instead.\n",
            "\n",
            "<ipython-input-95-0685e06bfe3c>:29: FutureWarning:\n",
            "\n",
            "The frame.append method is deprecated and will be removed from pandas in a future version. Use pandas.concat instead.\n",
            "\n",
            "<ipython-input-95-0685e06bfe3c>:29: FutureWarning:\n",
            "\n",
            "The frame.append method is deprecated and will be removed from pandas in a future version. Use pandas.concat instead.\n",
            "\n",
            "<ipython-input-95-0685e06bfe3c>:29: FutureWarning:\n",
            "\n",
            "The frame.append method is deprecated and will be removed from pandas in a future version. Use pandas.concat instead.\n",
            "\n",
            "<ipython-input-95-0685e06bfe3c>:29: FutureWarning:\n",
            "\n",
            "The frame.append method is deprecated and will be removed from pandas in a future version. Use pandas.concat instead.\n",
            "\n",
            "<ipython-input-95-0685e06bfe3c>:29: FutureWarning:\n",
            "\n",
            "The frame.append method is deprecated and will be removed from pandas in a future version. Use pandas.concat instead.\n",
            "\n",
            "<ipython-input-95-0685e06bfe3c>:29: FutureWarning:\n",
            "\n",
            "The frame.append method is deprecated and will be removed from pandas in a future version. Use pandas.concat instead.\n",
            "\n",
            "<ipython-input-95-0685e06bfe3c>:29: FutureWarning:\n",
            "\n",
            "The frame.append method is deprecated and will be removed from pandas in a future version. Use pandas.concat instead.\n",
            "\n",
            "<ipython-input-95-0685e06bfe3c>:29: FutureWarning:\n",
            "\n",
            "The frame.append method is deprecated and will be removed from pandas in a future version. Use pandas.concat instead.\n",
            "\n",
            "<ipython-input-95-0685e06bfe3c>:29: FutureWarning:\n",
            "\n",
            "The frame.append method is deprecated and will be removed from pandas in a future version. Use pandas.concat instead.\n",
            "\n",
            "<ipython-input-95-0685e06bfe3c>:29: FutureWarning:\n",
            "\n",
            "The frame.append method is deprecated and will be removed from pandas in a future version. Use pandas.concat instead.\n",
            "\n",
            "<ipython-input-95-0685e06bfe3c>:29: FutureWarning:\n",
            "\n",
            "The frame.append method is deprecated and will be removed from pandas in a future version. Use pandas.concat instead.\n",
            "\n"
          ]
        },
        {
          "output_type": "stream",
          "name": "stdout",
          "text": [
            "P3030/\n",
            "          timestamp        type\n",
            "0     1556582442270   SCREEN_ON\n",
            "1     1556582448042      UNLOCK\n",
            "2     1556582460536  SCREEN_OFF\n",
            "3     1556582629806   SCREEN_ON\n",
            "4     1556582633248      UNLOCK\n",
            "...             ...         ...\n",
            "4726  1557149339453   SCREEN_ON\n",
            "4727  1557149339877      UNLOCK\n",
            "4728  1557149500403  SCREEN_OFF\n",
            "4729  1557149521296      UNLOCK\n",
            "4730  1557149521549   SCREEN_ON\n",
            "\n",
            "[4731 rows x 2 columns]\n",
            "P3028/\n",
            "          timestamp        type\n",
            "0     1556582540054   SCREEN_ON\n",
            "1     1556582542012      UNLOCK\n",
            "2     1556582549685  SCREEN_OFF\n",
            "3     1556582704191   SCREEN_ON\n",
            "4     1556582704828      UNLOCK\n",
            "...             ...         ...\n",
            "3879  1557151645304   SCREEN_ON\n",
            "3880  1557151647123      UNLOCK\n",
            "3881  1557151684701  SCREEN_OFF\n",
            "3882  1557151779142   SCREEN_ON\n",
            "3883  1557151780217      UNLOCK\n",
            "\n",
            "[3884 rows x 2 columns]\n",
            "P3018/\n"
          ]
        },
        {
          "output_type": "stream",
          "name": "stderr",
          "text": [
            "<ipython-input-95-0685e06bfe3c>:29: FutureWarning:\n",
            "\n",
            "The frame.append method is deprecated and will be removed from pandas in a future version. Use pandas.concat instead.\n",
            "\n",
            "<ipython-input-95-0685e06bfe3c>:29: FutureWarning:\n",
            "\n",
            "The frame.append method is deprecated and will be removed from pandas in a future version. Use pandas.concat instead.\n",
            "\n",
            "<ipython-input-95-0685e06bfe3c>:29: FutureWarning:\n",
            "\n",
            "The frame.append method is deprecated and will be removed from pandas in a future version. Use pandas.concat instead.\n",
            "\n",
            "<ipython-input-95-0685e06bfe3c>:29: FutureWarning:\n",
            "\n",
            "The frame.append method is deprecated and will be removed from pandas in a future version. Use pandas.concat instead.\n",
            "\n",
            "<ipython-input-95-0685e06bfe3c>:29: FutureWarning:\n",
            "\n",
            "The frame.append method is deprecated and will be removed from pandas in a future version. Use pandas.concat instead.\n",
            "\n",
            "<ipython-input-95-0685e06bfe3c>:29: FutureWarning:\n",
            "\n",
            "The frame.append method is deprecated and will be removed from pandas in a future version. Use pandas.concat instead.\n",
            "\n",
            "<ipython-input-95-0685e06bfe3c>:29: FutureWarning:\n",
            "\n",
            "The frame.append method is deprecated and will be removed from pandas in a future version. Use pandas.concat instead.\n",
            "\n",
            "<ipython-input-95-0685e06bfe3c>:29: FutureWarning:\n",
            "\n",
            "The frame.append method is deprecated and will be removed from pandas in a future version. Use pandas.concat instead.\n",
            "\n",
            "<ipython-input-95-0685e06bfe3c>:29: FutureWarning:\n",
            "\n",
            "The frame.append method is deprecated and will be removed from pandas in a future version. Use pandas.concat instead.\n",
            "\n",
            "<ipython-input-95-0685e06bfe3c>:29: FutureWarning:\n",
            "\n",
            "The frame.append method is deprecated and will be removed from pandas in a future version. Use pandas.concat instead.\n",
            "\n",
            "<ipython-input-95-0685e06bfe3c>:29: FutureWarning:\n",
            "\n",
            "The frame.append method is deprecated and will be removed from pandas in a future version. Use pandas.concat instead.\n",
            "\n",
            "<ipython-input-95-0685e06bfe3c>:29: FutureWarning:\n",
            "\n",
            "The frame.append method is deprecated and will be removed from pandas in a future version. Use pandas.concat instead.\n",
            "\n",
            "<ipython-input-95-0685e06bfe3c>:29: FutureWarning:\n",
            "\n",
            "The frame.append method is deprecated and will be removed from pandas in a future version. Use pandas.concat instead.\n",
            "\n",
            "<ipython-input-95-0685e06bfe3c>:29: FutureWarning:\n",
            "\n",
            "The frame.append method is deprecated and will be removed from pandas in a future version. Use pandas.concat instead.\n",
            "\n",
            "<ipython-input-95-0685e06bfe3c>:36: SettingWithCopyWarning:\n",
            "\n",
            "\n",
            "A value is trying to be set on a copy of a slice from a DataFrame.\n",
            "Try using .loc[row_indexer,col_indexer] = value instead\n",
            "\n",
            "See the caveats in the documentation: https://pandas.pydata.org/pandas-docs/stable/user_guide/indexing.html#returning-a-view-versus-a-copy\n",
            "\n",
            "<ipython-input-95-0685e06bfe3c>:29: FutureWarning:\n",
            "\n",
            "The frame.append method is deprecated and will be removed from pandas in a future version. Use pandas.concat instead.\n",
            "\n",
            "<ipython-input-95-0685e06bfe3c>:29: FutureWarning:\n",
            "\n",
            "The frame.append method is deprecated and will be removed from pandas in a future version. Use pandas.concat instead.\n",
            "\n",
            "<ipython-input-95-0685e06bfe3c>:29: FutureWarning:\n",
            "\n",
            "The frame.append method is deprecated and will be removed from pandas in a future version. Use pandas.concat instead.\n",
            "\n",
            "<ipython-input-95-0685e06bfe3c>:29: FutureWarning:\n",
            "\n",
            "The frame.append method is deprecated and will be removed from pandas in a future version. Use pandas.concat instead.\n",
            "\n",
            "<ipython-input-95-0685e06bfe3c>:29: FutureWarning:\n",
            "\n",
            "The frame.append method is deprecated and will be removed from pandas in a future version. Use pandas.concat instead.\n",
            "\n",
            "<ipython-input-95-0685e06bfe3c>:29: FutureWarning:\n",
            "\n",
            "The frame.append method is deprecated and will be removed from pandas in a future version. Use pandas.concat instead.\n",
            "\n",
            "<ipython-input-95-0685e06bfe3c>:29: FutureWarning:\n",
            "\n",
            "The frame.append method is deprecated and will be removed from pandas in a future version. Use pandas.concat instead.\n",
            "\n",
            "<ipython-input-95-0685e06bfe3c>:29: FutureWarning:\n",
            "\n",
            "The frame.append method is deprecated and will be removed from pandas in a future version. Use pandas.concat instead.\n",
            "\n",
            "<ipython-input-95-0685e06bfe3c>:29: FutureWarning:\n",
            "\n",
            "The frame.append method is deprecated and will be removed from pandas in a future version. Use pandas.concat instead.\n",
            "\n",
            "<ipython-input-95-0685e06bfe3c>:29: FutureWarning:\n",
            "\n",
            "The frame.append method is deprecated and will be removed from pandas in a future version. Use pandas.concat instead.\n",
            "\n",
            "<ipython-input-95-0685e06bfe3c>:29: FutureWarning:\n",
            "\n",
            "The frame.append method is deprecated and will be removed from pandas in a future version. Use pandas.concat instead.\n",
            "\n",
            "<ipython-input-95-0685e06bfe3c>:29: FutureWarning:\n",
            "\n",
            "The frame.append method is deprecated and will be removed from pandas in a future version. Use pandas.concat instead.\n",
            "\n",
            "<ipython-input-95-0685e06bfe3c>:29: FutureWarning:\n",
            "\n",
            "The frame.append method is deprecated and will be removed from pandas in a future version. Use pandas.concat instead.\n",
            "\n",
            "<ipython-input-95-0685e06bfe3c>:29: FutureWarning:\n",
            "\n",
            "The frame.append method is deprecated and will be removed from pandas in a future version. Use pandas.concat instead.\n",
            "\n"
          ]
        },
        {
          "output_type": "stream",
          "name": "stdout",
          "text": [
            "          timestamp                type\n",
            "0     1556583623489           SCREEN_ON\n",
            "1     1556583632551              UNLOCK\n",
            "2     1556583809900  POWER_DISCONNECTED\n",
            "3     1556583812809          SCREEN_OFF\n",
            "4     1556583822389           SCREEN_ON\n",
            "...             ...                 ...\n",
            "3608  1557183013337          SCREEN_OFF\n",
            "3609  1557184846520           SCREEN_ON\n",
            "3610  1557184854211          SCREEN_OFF\n",
            "3611  1557185411546           SCREEN_ON\n",
            "3612  1557185416076          SCREEN_OFF\n",
            "\n",
            "[3613 rows x 2 columns]\n",
            "P3016/\n",
            "          timestamp             type\n",
            "0     1556583033374        SCREEN_ON\n",
            "1     1556583045004       SCREEN_OFF\n",
            "2     1556584354942        SCREEN_ON\n",
            "3     1556584366740       SCREEN_OFF\n",
            "4     1556584769997        SCREEN_ON\n",
            "...             ...              ...\n",
            "2866  1557187155885           UNLOCK\n",
            "2867  1557187156171        SCREEN_ON\n",
            "2868  1557187174641       SCREEN_OFF\n",
            "2869  1557187175531        SCREEN_ON\n",
            "2870  1557187177400  TURN_OFF_DEVICE\n",
            "\n",
            "[2871 rows x 2 columns]\n",
            "P3014/\n"
          ]
        },
        {
          "output_type": "stream",
          "name": "stderr",
          "text": [
            "<ipython-input-95-0685e06bfe3c>:29: FutureWarning:\n",
            "\n",
            "The frame.append method is deprecated and will be removed from pandas in a future version. Use pandas.concat instead.\n",
            "\n",
            "<ipython-input-95-0685e06bfe3c>:29: FutureWarning:\n",
            "\n",
            "The frame.append method is deprecated and will be removed from pandas in a future version. Use pandas.concat instead.\n",
            "\n",
            "<ipython-input-95-0685e06bfe3c>:29: FutureWarning:\n",
            "\n",
            "The frame.append method is deprecated and will be removed from pandas in a future version. Use pandas.concat instead.\n",
            "\n",
            "<ipython-input-95-0685e06bfe3c>:29: FutureWarning:\n",
            "\n",
            "The frame.append method is deprecated and will be removed from pandas in a future version. Use pandas.concat instead.\n",
            "\n",
            "<ipython-input-95-0685e06bfe3c>:29: FutureWarning:\n",
            "\n",
            "The frame.append method is deprecated and will be removed from pandas in a future version. Use pandas.concat instead.\n",
            "\n",
            "<ipython-input-95-0685e06bfe3c>:29: FutureWarning:\n",
            "\n",
            "The frame.append method is deprecated and will be removed from pandas in a future version. Use pandas.concat instead.\n",
            "\n",
            "<ipython-input-95-0685e06bfe3c>:29: FutureWarning:\n",
            "\n",
            "The frame.append method is deprecated and will be removed from pandas in a future version. Use pandas.concat instead.\n",
            "\n"
          ]
        },
        {
          "output_type": "stream",
          "name": "stdout",
          "text": [
            "          timestamp        type\n",
            "0     1556582484694  SCREEN_OFF\n",
            "1     1556582720914   SCREEN_ON\n",
            "2     1556582722669      UNLOCK\n",
            "3     1556582810636  SCREEN_OFF\n",
            "4     1556582811394   SCREEN_ON\n",
            "...             ...         ...\n",
            "2118  1556855847487   SCREEN_ON\n",
            "2119  1556855847793      UNLOCK\n",
            "2120  1556855861989  SCREEN_OFF\n",
            "2121  1556856102297      UNLOCK\n",
            "2122  1556856102321   SCREEN_ON\n",
            "\n",
            "[2123 rows x 2 columns]\n",
            "P3019/\n"
          ]
        },
        {
          "output_type": "stream",
          "name": "stderr",
          "text": [
            "<ipython-input-95-0685e06bfe3c>:29: FutureWarning:\n",
            "\n",
            "The frame.append method is deprecated and will be removed from pandas in a future version. Use pandas.concat instead.\n",
            "\n"
          ]
        },
        {
          "output_type": "error",
          "ename": "ParserError",
          "evalue": "ignored",
          "traceback": [
            "\u001b[0;31m---------------------------------------------------------------------------\u001b[0m",
            "\u001b[0;31mParserError\u001b[0m                               Traceback (most recent call last)",
            "\u001b[0;32m<ipython-input-95-0685e06bfe3c>\u001b[0m in \u001b[0;36m<cell line: 12>\u001b[0;34m()\u001b[0m\n\u001b[1;32m     26\u001b[0m \u001b[0;34m\u001b[0m\u001b[0m\n\u001b[1;32m     27\u001b[0m   \u001b[0;32mfor\u001b[0m \u001b[0mfile\u001b[0m \u001b[0;32min\u001b[0m \u001b[0mdEE_files\u001b[0m\u001b[0;34m:\u001b[0m\u001b[0;34m\u001b[0m\u001b[0;34m\u001b[0m\u001b[0m\n\u001b[0;32m---> 28\u001b[0;31m       \u001b[0mdf\u001b[0m \u001b[0;34m=\u001b[0m \u001b[0mpd\u001b[0m\u001b[0;34m.\u001b[0m\u001b[0mread_csv\u001b[0m\u001b[0;34m(\u001b[0m\u001b[0mroute\u001b[0m\u001b[0;34m+\u001b[0m\u001b[0mfile\u001b[0m\u001b[0;34m)\u001b[0m\u001b[0;34m\u001b[0m\u001b[0;34m\u001b[0m\u001b[0m\n\u001b[0m\u001b[1;32m     29\u001b[0m       \u001b[0mdf_csv_append\u001b[0m \u001b[0;34m=\u001b[0m \u001b[0mdf_csv_append\u001b[0m\u001b[0;34m.\u001b[0m\u001b[0mappend\u001b[0m\u001b[0;34m(\u001b[0m\u001b[0mdf\u001b[0m\u001b[0;34m,\u001b[0m \u001b[0mignore_index\u001b[0m\u001b[0;34m=\u001b[0m\u001b[0;32mTrue\u001b[0m\u001b[0;34m)\u001b[0m\u001b[0;34m\u001b[0m\u001b[0;34m\u001b[0m\u001b[0m\n\u001b[1;32m     30\u001b[0m \u001b[0;34m\u001b[0m\u001b[0m\n",
            "\u001b[0;32m/usr/local/lib/python3.10/dist-packages/pandas/util/_decorators.py\u001b[0m in \u001b[0;36mwrapper\u001b[0;34m(*args, **kwargs)\u001b[0m\n\u001b[1;32m    209\u001b[0m                 \u001b[0;32melse\u001b[0m\u001b[0;34m:\u001b[0m\u001b[0;34m\u001b[0m\u001b[0;34m\u001b[0m\u001b[0m\n\u001b[1;32m    210\u001b[0m                     \u001b[0mkwargs\u001b[0m\u001b[0;34m[\u001b[0m\u001b[0mnew_arg_name\u001b[0m\u001b[0;34m]\u001b[0m \u001b[0;34m=\u001b[0m \u001b[0mnew_arg_value\u001b[0m\u001b[0;34m\u001b[0m\u001b[0;34m\u001b[0m\u001b[0m\n\u001b[0;32m--> 211\u001b[0;31m             \u001b[0;32mreturn\u001b[0m \u001b[0mfunc\u001b[0m\u001b[0;34m(\u001b[0m\u001b[0;34m*\u001b[0m\u001b[0margs\u001b[0m\u001b[0;34m,\u001b[0m \u001b[0;34m**\u001b[0m\u001b[0mkwargs\u001b[0m\u001b[0;34m)\u001b[0m\u001b[0;34m\u001b[0m\u001b[0;34m\u001b[0m\u001b[0m\n\u001b[0m\u001b[1;32m    212\u001b[0m \u001b[0;34m\u001b[0m\u001b[0m\n\u001b[1;32m    213\u001b[0m         \u001b[0;32mreturn\u001b[0m \u001b[0mcast\u001b[0m\u001b[0;34m(\u001b[0m\u001b[0mF\u001b[0m\u001b[0;34m,\u001b[0m \u001b[0mwrapper\u001b[0m\u001b[0;34m)\u001b[0m\u001b[0;34m\u001b[0m\u001b[0;34m\u001b[0m\u001b[0m\n",
            "\u001b[0;32m/usr/local/lib/python3.10/dist-packages/pandas/util/_decorators.py\u001b[0m in \u001b[0;36mwrapper\u001b[0;34m(*args, **kwargs)\u001b[0m\n\u001b[1;32m    329\u001b[0m                     \u001b[0mstacklevel\u001b[0m\u001b[0;34m=\u001b[0m\u001b[0mfind_stack_level\u001b[0m\u001b[0;34m(\u001b[0m\u001b[0;34m)\u001b[0m\u001b[0;34m,\u001b[0m\u001b[0;34m\u001b[0m\u001b[0;34m\u001b[0m\u001b[0m\n\u001b[1;32m    330\u001b[0m                 )\n\u001b[0;32m--> 331\u001b[0;31m             \u001b[0;32mreturn\u001b[0m \u001b[0mfunc\u001b[0m\u001b[0;34m(\u001b[0m\u001b[0;34m*\u001b[0m\u001b[0margs\u001b[0m\u001b[0;34m,\u001b[0m \u001b[0;34m**\u001b[0m\u001b[0mkwargs\u001b[0m\u001b[0;34m)\u001b[0m\u001b[0;34m\u001b[0m\u001b[0;34m\u001b[0m\u001b[0m\n\u001b[0m\u001b[1;32m    332\u001b[0m \u001b[0;34m\u001b[0m\u001b[0m\n\u001b[1;32m    333\u001b[0m         \u001b[0;31m# error: \"Callable[[VarArg(Any), KwArg(Any)], Any]\" has no\u001b[0m\u001b[0;34m\u001b[0m\u001b[0;34m\u001b[0m\u001b[0m\n",
            "\u001b[0;32m/usr/local/lib/python3.10/dist-packages/pandas/io/parsers/readers.py\u001b[0m in \u001b[0;36mread_csv\u001b[0;34m(filepath_or_buffer, sep, delimiter, header, names, index_col, usecols, squeeze, prefix, mangle_dupe_cols, dtype, engine, converters, true_values, false_values, skipinitialspace, skiprows, skipfooter, nrows, na_values, keep_default_na, na_filter, verbose, skip_blank_lines, parse_dates, infer_datetime_format, keep_date_col, date_parser, dayfirst, cache_dates, iterator, chunksize, compression, thousands, decimal, lineterminator, quotechar, quoting, doublequote, escapechar, comment, encoding, encoding_errors, dialect, error_bad_lines, warn_bad_lines, on_bad_lines, delim_whitespace, low_memory, memory_map, float_precision, storage_options)\u001b[0m\n\u001b[1;32m    948\u001b[0m     \u001b[0mkwds\u001b[0m\u001b[0;34m.\u001b[0m\u001b[0mupdate\u001b[0m\u001b[0;34m(\u001b[0m\u001b[0mkwds_defaults\u001b[0m\u001b[0;34m)\u001b[0m\u001b[0;34m\u001b[0m\u001b[0;34m\u001b[0m\u001b[0m\n\u001b[1;32m    949\u001b[0m \u001b[0;34m\u001b[0m\u001b[0m\n\u001b[0;32m--> 950\u001b[0;31m     \u001b[0;32mreturn\u001b[0m \u001b[0m_read\u001b[0m\u001b[0;34m(\u001b[0m\u001b[0mfilepath_or_buffer\u001b[0m\u001b[0;34m,\u001b[0m \u001b[0mkwds\u001b[0m\u001b[0;34m)\u001b[0m\u001b[0;34m\u001b[0m\u001b[0;34m\u001b[0m\u001b[0m\n\u001b[0m\u001b[1;32m    951\u001b[0m \u001b[0;34m\u001b[0m\u001b[0m\n\u001b[1;32m    952\u001b[0m \u001b[0;34m\u001b[0m\u001b[0m\n",
            "\u001b[0;32m/usr/local/lib/python3.10/dist-packages/pandas/io/parsers/readers.py\u001b[0m in \u001b[0;36m_read\u001b[0;34m(filepath_or_buffer, kwds)\u001b[0m\n\u001b[1;32m    603\u001b[0m \u001b[0;34m\u001b[0m\u001b[0m\n\u001b[1;32m    604\u001b[0m     \u001b[0;31m# Create the parser.\u001b[0m\u001b[0;34m\u001b[0m\u001b[0;34m\u001b[0m\u001b[0m\n\u001b[0;32m--> 605\u001b[0;31m     \u001b[0mparser\u001b[0m \u001b[0;34m=\u001b[0m \u001b[0mTextFileReader\u001b[0m\u001b[0;34m(\u001b[0m\u001b[0mfilepath_or_buffer\u001b[0m\u001b[0;34m,\u001b[0m \u001b[0;34m**\u001b[0m\u001b[0mkwds\u001b[0m\u001b[0;34m)\u001b[0m\u001b[0;34m\u001b[0m\u001b[0;34m\u001b[0m\u001b[0m\n\u001b[0m\u001b[1;32m    606\u001b[0m \u001b[0;34m\u001b[0m\u001b[0m\n\u001b[1;32m    607\u001b[0m     \u001b[0;32mif\u001b[0m \u001b[0mchunksize\u001b[0m \u001b[0;32mor\u001b[0m \u001b[0miterator\u001b[0m\u001b[0;34m:\u001b[0m\u001b[0;34m\u001b[0m\u001b[0;34m\u001b[0m\u001b[0m\n",
            "\u001b[0;32m/usr/local/lib/python3.10/dist-packages/pandas/io/parsers/readers.py\u001b[0m in \u001b[0;36m__init__\u001b[0;34m(self, f, engine, **kwds)\u001b[0m\n\u001b[1;32m   1440\u001b[0m \u001b[0;34m\u001b[0m\u001b[0m\n\u001b[1;32m   1441\u001b[0m         \u001b[0mself\u001b[0m\u001b[0;34m.\u001b[0m\u001b[0mhandles\u001b[0m\u001b[0;34m:\u001b[0m \u001b[0mIOHandles\u001b[0m \u001b[0;34m|\u001b[0m \u001b[0;32mNone\u001b[0m \u001b[0;34m=\u001b[0m \u001b[0;32mNone\u001b[0m\u001b[0;34m\u001b[0m\u001b[0;34m\u001b[0m\u001b[0m\n\u001b[0;32m-> 1442\u001b[0;31m         \u001b[0mself\u001b[0m\u001b[0;34m.\u001b[0m\u001b[0m_engine\u001b[0m \u001b[0;34m=\u001b[0m \u001b[0mself\u001b[0m\u001b[0;34m.\u001b[0m\u001b[0m_make_engine\u001b[0m\u001b[0;34m(\u001b[0m\u001b[0mf\u001b[0m\u001b[0;34m,\u001b[0m \u001b[0mself\u001b[0m\u001b[0;34m.\u001b[0m\u001b[0mengine\u001b[0m\u001b[0;34m)\u001b[0m\u001b[0;34m\u001b[0m\u001b[0;34m\u001b[0m\u001b[0m\n\u001b[0m\u001b[1;32m   1443\u001b[0m \u001b[0;34m\u001b[0m\u001b[0m\n\u001b[1;32m   1444\u001b[0m     \u001b[0;32mdef\u001b[0m \u001b[0mclose\u001b[0m\u001b[0;34m(\u001b[0m\u001b[0mself\u001b[0m\u001b[0;34m)\u001b[0m \u001b[0;34m->\u001b[0m \u001b[0;32mNone\u001b[0m\u001b[0;34m:\u001b[0m\u001b[0;34m\u001b[0m\u001b[0;34m\u001b[0m\u001b[0m\n",
            "\u001b[0;32m/usr/local/lib/python3.10/dist-packages/pandas/io/parsers/readers.py\u001b[0m in \u001b[0;36m_make_engine\u001b[0;34m(self, f, engine)\u001b[0m\n\u001b[1;32m   1751\u001b[0m \u001b[0;34m\u001b[0m\u001b[0m\n\u001b[1;32m   1752\u001b[0m         \u001b[0;32mtry\u001b[0m\u001b[0;34m:\u001b[0m\u001b[0;34m\u001b[0m\u001b[0;34m\u001b[0m\u001b[0m\n\u001b[0;32m-> 1753\u001b[0;31m             \u001b[0;32mreturn\u001b[0m \u001b[0mmapping\u001b[0m\u001b[0;34m[\u001b[0m\u001b[0mengine\u001b[0m\u001b[0;34m]\u001b[0m\u001b[0;34m(\u001b[0m\u001b[0mf\u001b[0m\u001b[0;34m,\u001b[0m \u001b[0;34m**\u001b[0m\u001b[0mself\u001b[0m\u001b[0;34m.\u001b[0m\u001b[0moptions\u001b[0m\u001b[0;34m)\u001b[0m\u001b[0;34m\u001b[0m\u001b[0;34m\u001b[0m\u001b[0m\n\u001b[0m\u001b[1;32m   1754\u001b[0m         \u001b[0;32mexcept\u001b[0m \u001b[0mException\u001b[0m\u001b[0;34m:\u001b[0m\u001b[0;34m\u001b[0m\u001b[0;34m\u001b[0m\u001b[0m\n\u001b[1;32m   1755\u001b[0m             \u001b[0;32mif\u001b[0m \u001b[0mself\u001b[0m\u001b[0;34m.\u001b[0m\u001b[0mhandles\u001b[0m \u001b[0;32mis\u001b[0m \u001b[0;32mnot\u001b[0m \u001b[0;32mNone\u001b[0m\u001b[0;34m:\u001b[0m\u001b[0;34m\u001b[0m\u001b[0;34m\u001b[0m\u001b[0m\n",
            "\u001b[0;32m/usr/local/lib/python3.10/dist-packages/pandas/io/parsers/c_parser_wrapper.py\u001b[0m in \u001b[0;36m__init__\u001b[0;34m(self, src, **kwds)\u001b[0m\n\u001b[1;32m     77\u001b[0m \u001b[0;34m\u001b[0m\u001b[0m\n\u001b[1;32m     78\u001b[0m         \u001b[0mkwds\u001b[0m\u001b[0;34m[\u001b[0m\u001b[0;34m\"dtype\"\u001b[0m\u001b[0;34m]\u001b[0m \u001b[0;34m=\u001b[0m \u001b[0mensure_dtype_objs\u001b[0m\u001b[0;34m(\u001b[0m\u001b[0mkwds\u001b[0m\u001b[0;34m.\u001b[0m\u001b[0mget\u001b[0m\u001b[0;34m(\u001b[0m\u001b[0;34m\"dtype\"\u001b[0m\u001b[0;34m,\u001b[0m \u001b[0;32mNone\u001b[0m\u001b[0;34m)\u001b[0m\u001b[0;34m)\u001b[0m\u001b[0;34m\u001b[0m\u001b[0;34m\u001b[0m\u001b[0m\n\u001b[0;32m---> 79\u001b[0;31m         \u001b[0mself\u001b[0m\u001b[0;34m.\u001b[0m\u001b[0m_reader\u001b[0m \u001b[0;34m=\u001b[0m \u001b[0mparsers\u001b[0m\u001b[0;34m.\u001b[0m\u001b[0mTextReader\u001b[0m\u001b[0;34m(\u001b[0m\u001b[0msrc\u001b[0m\u001b[0;34m,\u001b[0m \u001b[0;34m**\u001b[0m\u001b[0mkwds\u001b[0m\u001b[0;34m)\u001b[0m\u001b[0;34m\u001b[0m\u001b[0;34m\u001b[0m\u001b[0m\n\u001b[0m\u001b[1;32m     80\u001b[0m \u001b[0;34m\u001b[0m\u001b[0m\n\u001b[1;32m     81\u001b[0m         \u001b[0mself\u001b[0m\u001b[0;34m.\u001b[0m\u001b[0munnamed_cols\u001b[0m \u001b[0;34m=\u001b[0m \u001b[0mself\u001b[0m\u001b[0;34m.\u001b[0m\u001b[0m_reader\u001b[0m\u001b[0;34m.\u001b[0m\u001b[0munnamed_cols\u001b[0m\u001b[0;34m\u001b[0m\u001b[0;34m\u001b[0m\u001b[0m\n",
            "\u001b[0;32m/usr/local/lib/python3.10/dist-packages/pandas/_libs/parsers.pyx\u001b[0m in \u001b[0;36mpandas._libs.parsers.TextReader.__cinit__\u001b[0;34m()\u001b[0m\n",
            "\u001b[0;32m/usr/local/lib/python3.10/dist-packages/pandas/_libs/parsers.pyx\u001b[0m in \u001b[0;36mpandas._libs.parsers.TextReader._get_header\u001b[0;34m()\u001b[0m\n",
            "\u001b[0;32m/usr/local/lib/python3.10/dist-packages/pandas/_libs/parsers.pyx\u001b[0m in \u001b[0;36mpandas._libs.parsers.TextReader._tokenize_rows\u001b[0;34m()\u001b[0m\n",
            "\u001b[0;32m/usr/local/lib/python3.10/dist-packages/pandas/_libs/parsers.pyx\u001b[0m in \u001b[0;36mpandas._libs.parsers.raise_parser_error\u001b[0;34m()\u001b[0m\n",
            "\u001b[0;31mParserError\u001b[0m: Error tokenizing data. C error: Calling read(nbytes) on source failed. Try engine='python'."
          ]
        }
      ]
    },
    {
      "cell_type": "code",
      "source": [
        "final_df.to_csv('/content/drive/My Drive/total_user_usage.csv', index=False)"
      ],
      "metadata": {
        "id": "1q9X6tE5DamK"
      },
      "execution_count": null,
      "outputs": []
    },
    {
      "cell_type": "markdown",
      "source": [
        "## total_usage_time_whole.csv"
      ],
      "metadata": {
        "id": "0Abe64hq52KU"
      }
    },
    {
      "cell_type": "code",
      "source": [
        "import os\n",
        "import pandas as pd\n",
        "from datetime import timezone, timedelta, datetime\n",
        "\n",
        "utc_timezone = timezone.utc\n",
        "tz = timezone(timedelta(hours=9))\n",
        "\n",
        "folder_route = '/content/drive/My Drive/DP_data processing/'\n",
        "in_main_folder = os.listdir(folder_route)\n",
        "\n",
        "result_dfs = []\n",
        "for folder in in_main_folder:\n",
        "  if folder == 'processed_P3016': continue\n",
        "  user = folder+'/'\n",
        "  print(user)\n",
        "  route = folder_route+user\n",
        "  in_folder = os.listdir(route)\n",
        "\n",
        "  dEE_files = []\n",
        "  for file in in_folder:\n",
        "    if \"DeviceEventEntity\" in file:\n",
        "      dEE_files.append(file)\n",
        "\n",
        "  dEE_files = sorted(dEE_files)\n",
        "  df_csv_append = pd.DataFrame()\n",
        "\n",
        "  for file in dEE_files:\n",
        "      df = pd.read_csv(route+file)\n",
        "      df_csv_append = df_csv_append.append(df, ignore_index=True)\n",
        "\n",
        "  usage_df = df_csv_append\n",
        "  usage_df = usage_df.sort_values('timestamp')\n",
        "  usage_df['usage_time'] = usage_df.loc[usage_df['type'] == 'SCREEN_OFF', 'timestamp'] - usage_df.loc[usage_df['type'].shift() == 'UNLOCK', 'timestamp'].shift()\n",
        "  usage_df = usage_df.dropna(subset=['usage_time'])\n",
        "  usage_df['timestamp'] = pd.to_datetime(usage_df['timestamp'], unit='ms') \n",
        "\n",
        "  usage_df_daily = usage_df.resample('D', on='timestamp').usage_time.sum() / 60000\n",
        "  usage_df_daily = usage_df_daily.astype(float).round().astype(int)\n",
        "  usage_df_daily = usage_df_daily.reset_index()\n",
        "  usage_df_daily.columns = ['Date', 'TotalUsageTime']\n",
        "\n",
        "  user_id = user.rstrip('/')\n",
        "\n",
        "  usage_df_daily['User'] = user_id\n",
        "  result_dfs.append(usage_df_daily)\n",
        "\n",
        "final_df = pd.concat(result_dfs)"
      ],
      "metadata": {
        "id": "g9tdlflFoljP"
      },
      "execution_count": null,
      "outputs": []
    },
    {
      "cell_type": "markdown",
      "source": [
        "### 수정된 whole 코드"
      ],
      "metadata": {
        "id": "RWIfbdRebCrv"
      }
    },
    {
      "cell_type": "code",
      "source": [
        "def get_total_usage_df_with_df(app_usage_df):\n",
        "  app_usage_df = app_usage_df.loc[(app_usage_df.isSystemApp == False) | (app_usage_df.packageName.isin(['com.android.chrome']))] \n",
        "  app_usage_df = app_usage_df.drop(['isUpdatedSystemApp', 'isSystemApp', 'lastTimeUsed'], axis=1)\n",
        "  app_usage_df['totalTimeForeground'] = app_usage_df['totalTimeForeground'].astype('int64')\n",
        "  revised_app_usage_df = pd.DataFrame(columns=app_usage_df.columns)\n",
        "  # 3. 측정 기준 시간을 00:00 으로 변경\n",
        "  for name, group in app_usage_df.groupby('name'):\n",
        "    #1. 중복된 timestamp 제거\n",
        "    group = group.drop_duplicates(subset='timestamp', keep='first')\n",
        "    #2. 변화량이 없는 redundant 데이터 제거\n",
        "    group = group.loc[(group['totalTimeForeground'].diff().fillna(0) != 0) | (group['totalTimeForeground'].diff(-1).fillna(0) != 0)]\n",
        "    diff = group['totalTimeForeground'].diff().fillna(0)\n",
        "    if group.shape[0] == 0 : continue\n",
        "    decreasing_mask = (diff < 0)\n",
        "    max_in_middle = 0\n",
        "    start_total_time = -group.iloc[0]['totalTimeForeground']\n",
        "    is_decrese_detected = False\n",
        "    group_row_len = group.shape[0]\n",
        "    for index, row in group.iterrows():\n",
        "      if decreasing_mask[index]:\n",
        "        start_total_time += max_in_middle\n",
        "        is_decrese_detected = True\n",
        "      elif not is_decrese_detected:\n",
        "        max_in_middle = group.loc[index,'totalTimeForeground']\n",
        "      group.loc[index,'totalTimeForeground'] += start_total_time;\n",
        "    revised_app_usage_df = pd.concat([revised_app_usage_df, group])\n",
        "  # 4. timestamp를 to_datetime으로 변경\n",
        "  revised_app_usage_df['timestamp'] = pd.to_datetime(revised_app_usage_df['timestamp'], unit='ms')\n",
        "  return revised_app_usage_df"
      ],
      "metadata": {
        "id": "7GS8q74jbm_f"
      },
      "execution_count": null,
      "outputs": []
    },
    {
      "cell_type": "code",
      "source": [
        "import os\n",
        "import pandas as pd\n",
        "from datetime import timezone, timedelta, datetime\n",
        "\n",
        "utc_timezone = timezone.utc\n",
        "tz = timezone(timedelta(hours=9))\n",
        "\n",
        "folder_route = '/content/drive/My Drive/DP_data processing/'\n",
        "in_main_folder = os.listdir(folder_route)\n",
        "\n",
        "result_dfs = []\n",
        "passed = 20;\n",
        "error_user = 'P1526/'\n",
        "for folder in in_main_folder:\n",
        "  user = folder+'/'\n",
        "  # if error_user != user:\n",
        "  #   continue;\n",
        "  print(user)\n",
        "  route = folder_route+user\n",
        "  in_folder = os.listdir(route)\n",
        "\n",
        "  files = []\n",
        "  for file in in_folder:\n",
        "    if \"AppUsageStatEntity\" in file:\n",
        "      files.append(file)\n",
        "\n",
        "  files = sorted(files)\n",
        "  df_csv_append = pd.DataFrame()\n",
        "\n",
        "  for file in files:\n",
        "    origin_df = pd.read_csv(route+file);\n",
        "    ## print(df.head())\n",
        "    if origin_df.empty: \n",
        "      print('empty')\n",
        "      print(origin_df.head())\n",
        "      continue\n",
        "    df = get_total_usage_df_with_df(origin_df)\n",
        "    date = df.iloc[0]['timestamp'].date()\n",
        "    total_time_by_app = df.groupby('packageName').agg({'totalTimeForeground': 'max'}).reset_index();\n",
        "    user_id = user.rstrip('/')\n",
        "    data_dict = [[ date, total_time_by_app.sum()['totalTimeForeground'] / 60000, user_id ]]\n",
        "    new_df = pd.DataFrame(data_dict, columns=['Date', 'TotalUsageTime', 'User'])\n",
        "    result_dfs.append(new_df)"
      ],
      "metadata": {
        "id": "kbgmGHEIa1V1"
      },
      "execution_count": null,
      "outputs": []
    },
    {
      "cell_type": "code",
      "source": [
        "final_df = pd.concat(result_dfs)\n",
        "final_df['TotalUsageTime'] = final_df['TotalUsageTime'].round().astype(int)\n",
        "final_df"
      ],
      "metadata": {
        "id": "MQCimun8READ"
      },
      "execution_count": null,
      "outputs": []
    },
    {
      "cell_type": "code",
      "source": [
        "final_df.to_csv('/content/drive/My Drive/DP_data processing/processed_P3016/total_user_usage_whole.csv', index=False)"
      ],
      "metadata": {
        "id": "GAXcVm8tt-bp"
      },
      "execution_count": null,
      "outputs": []
    },
    {
      "cell_type": "code",
      "source": [
        "usage_final_df = pd.concat(result_dfs)\n",
        "usage_final_df['TotalUsageTime'] = final_df['TotalUsageTime'].round()\n",
        "mean_usage_time = usage_final_df.groupby('User')['TotalUsageTime'].mean().round().astype(int)\n",
        "usage_final_df = pd.DataFrame({'User': mean_usage_time.index, 'usage_time': mean_usage_time}).reset_index(drop=True)\n",
        "print(usage_final_df)\n",
        "\n",
        "# final_df"
      ],
      "metadata": {
        "id": "hc0lPpaUzwCF"
      },
      "execution_count": null,
      "outputs": []
    },
    {
      "cell_type": "code",
      "source": [
        "import os\n",
        "import pandas as pd\n",
        "from datetime import timezone, timedelta, datetime\n",
        "\n",
        "utc_timezone = timezone.utc\n",
        "tz = timezone(timedelta(hours=9))\n",
        "\n",
        "folder_route = '/content/drive/My Drive/DP_data processing/'\n",
        "in_main_folder = os.listdir(folder_route)\n",
        "\n",
        "result_dfs = []\n",
        "for folder in in_main_folder:\n",
        "  if folder == 'processed_P3016': continue\n",
        "  user = folder+'/'\n",
        "  print(user)\n",
        "  route = folder_route+user\n",
        "  in_folder = os.listdir(route)\n",
        "\n",
        "  dEE_files = []\n",
        "  for file in in_folder:\n",
        "    if \"DeviceEventEntity\" in file:\n",
        "      dEE_files.append(file)\n",
        "\n",
        "  dEE_files = sorted(dEE_files)\n",
        "  df_csv_append = pd.DataFrame()\n",
        "\n",
        "  for file in dEE_files:\n",
        "      df = pd.read_csv(route+file)\n",
        "      df_csv_append = df_csv_append.append(df, ignore_index=True)\n",
        "\n",
        "  session_df = df_csv_append\n",
        "  # print(session_df)\n",
        "  session_df = session_df.sort_values('timestamp')\n",
        "  session_df['session_time'] = session_df.loc[session_df['type'] == 'SCREEN_OFF', 'timestamp'] - session_df.loc[session_df['type'].shift() == 'UNLOCK', 'timestamp'].shift()\n",
        "  session_df = session_df.dropna(subset=['session_time'])\n",
        "  session_df['timestamp'] = pd.to_datetime(session_df['timestamp'], unit='ms') \n",
        "\n",
        "  session_df_daily = session_df.resample('D', on='timestamp').session_time.mean() / 60000\n",
        "  session_df_daily = session_df_daily.dropna()\n",
        "  session_df_daily = session_df_daily.round().astype(int)\n",
        "  session_df_daily = session_df_daily.reset_index()\n",
        "  session_df_daily.columns = ['Date', 'AverageSessionDuration']\n",
        "\n",
        "  mean_session_time = session_df_daily['AverageSessionDuration'].mean().round().astype(int)\n",
        "  user_id = user.rstrip('/')\n",
        "\n",
        "  concat_df = pd.DataFrame({'User': [user_id], 'session_duration_time': [mean_session_time]})\n",
        "  result_dfs.append(concat_df)\n",
        "\n",
        "session_final_df = pd.concat(result_dfs)"
      ],
      "metadata": {
        "id": "DzC89t-xOrSg"
      },
      "execution_count": null,
      "outputs": []
    },
    {
      "cell_type": "code",
      "source": [
        "session_final_df = session_final_df.reset_index(drop=True)\n",
        "final_df = pd.merge(usage_final_df, session_final_df, on='User')\n",
        "final_df"
      ],
      "metadata": {
        "id": "TpEca1QnP2gr"
      },
      "execution_count": null,
      "outputs": []
    },
    {
      "cell_type": "code",
      "source": [
        "final_df.to_csv('/content/drive/My Drive/DP_data processing/processed_P3016/total_user_usage.csv', index=False)"
      ],
      "metadata": {
        "id": "hBwLQTf0Q_1K"
      },
      "execution_count": null,
      "outputs": []
    },
    {
      "cell_type": "markdown",
      "source": [
        "##goal_states.csv"
      ],
      "metadata": {
        "id": "aI_TcfkAMmvc"
      }
    },
    {
      "cell_type": "code",
      "source": [
        "import os\n",
        "import pandas as pd\n",
        "from datetime import timezone, timedelta, datetime\n",
        "import numpy as np\n",
        "\n",
        "folder_route = '/content/drive/My Drive/DP_data processing/processed_P3016/'\n",
        "# in_main_folder = os.listdir(folder_route)\n",
        "total_usage_df = pd.read_csv(folder_route+'total_user_usage_whole.csv')\n",
        "unlock_df = pd.read_csv(folder_route+'unlocks.csv')\n",
        "app_df = pd.read_csv(folder_route+'app_usage_weekly.csv')\n",
        "\n",
        "group_states = total_usage_df[total_usage_df['User'] == 'P3016']\n",
        "group_states = group_states.drop('User', axis=1)\n",
        "group_states['total_usage_goal'] = [570, 780, 240, 270, 570, 420, 840]\n",
        "unlock_values = unlock_df.iloc[:, 1].tolist()\n",
        "group_states['unlock_real'] = unlock_values\n",
        "group_states['unlock_goal'] = [70, 100, 80, 120, 60, 100, 120]\n",
        "group_states['app_usage_app'] = ['카카오톡', 'Facebook', 'Paco', 'Facebook', 'Facebook', '카카오톡', 'Paco']\n",
        "group_states['app_usage_real'] = [180, 90, 150, 150, 90, 40, 20]\n",
        "group_states['app_usage_goal'] = [180, 90, 150, 150, 90, 40, 20]\n",
        "\n",
        "for index, row in group_states.iterrows():\n",
        "    app_name = row['app_usage_app']\n",
        "    \n",
        "    if app_name in app_df.columns:\n",
        "        app_usage_real = app_df.loc[0, app_name]\n",
        "        group_states.at[index, 'app_usage_real'] = int(app_usage_real.round())\n",
        "\n",
        "group_states = group_states.reset_index(drop=True)\n",
        "# print(group_states)\n",
        "group_states.to_csv('/content/drive/My Drive/DP_data processing/processed_P3016/goal_states.csv', index=False)"
      ],
      "metadata": {
        "id": "iP94MyYOMwFy"
      },
      "execution_count": 96,
      "outputs": []
    },
    {
      "cell_type": "markdown",
      "source": [
        "# Testing or Unusable Code"
      ],
      "metadata": {
        "id": "uG_ZaMrZxxAo"
      }
    },
    {
      "cell_type": "markdown",
      "metadata": {
        "id": "PL3gjjllyn2K"
      },
      "source": [
        "## Task 3\n",
        "1. 하루 전체 사용시간 (task2랑 중복) \n",
        "2. 수면 직전 핸드폰 사용시간\n",
        "3. 특정 어플 목표 사용 시간\n",
        "4. 화면 키는 빈도수 줄이기"
      ]
    },
    {
      "cell_type": "code",
      "execution_count": null,
      "metadata": {
        "id": "mq4-sNXvyn2L"
      },
      "outputs": [],
      "source": [
        "import os\n",
        "import pandas as pd\n",
        "from datetime import timezone, timedelta, datetime\n",
        "\n",
        "utc_timezone = timezone.utc\n",
        "tz = timezone(timedelta(hours=9))\n",
        "in_folder = os.listdir(route)"
      ]
    },
    {
      "cell_type": "markdown",
      "metadata": {
        "id": "SfNLJgiwyn2L"
      },
      "source": [
        "### 1. 하루 전체 사용시간"
      ]
    },
    {
      "cell_type": "markdown",
      "metadata": {
        "id": "qcTqj0vIyn2L"
      },
      "source": [
        "DeviceEventEntity 파일들 불러오기 및 시간 오름차순 정렬\n",
        "\n"
      ]
    },
    {
      "cell_type": "code",
      "execution_count": null,
      "metadata": {
        "id": "ha-enpLmyn2M"
      },
      "outputs": [],
      "source": [
        "dEE_files = []\n",
        "for file in in_folder:\n",
        "  if \"DeviceEventEntity\" in file:\n",
        "    dEE_files.append(file)\n",
        "\n",
        "# 정렬\n",
        "dEE_files = sorted(dEE_files)"
      ]
    },
    {
      "cell_type": "markdown",
      "metadata": {
        "id": "aiVsbqiuyn2M"
      },
      "source": [
        "하루 동안 사용시간"
      ]
    },
    {
      "cell_type": "code",
      "execution_count": null,
      "metadata": {
        "id": "nHRnHXpCyn2M"
      },
      "outputs": [],
      "source": [
        "# 모든 DeviceEventEntity file에 대해해\n",
        "for file in dEE_files: \n",
        "  current_df = pd.read_csv(route+file) # 현재 file\n",
        "  term = 0 # 사용량 저장할 변수(단위: 1000 * sec)\n",
        "  timestamp = 0\n",
        "  is_ON = 0\n",
        "\n",
        "  for index, row in current_df.iterrows():\n",
        "    if row['type'] == 'UNLOCK': # UNLOCK 되면 휴대폰 켜져있음(is_ON -> 1)\n",
        "      is_ON = 1\n",
        "      timestamp = row['timestamp'] \n",
        "    elif row['type'] == 'SCREEN_OFF': # SCREEN_OFF 됐을 때 시간 - UNLOCK 당시 시간을 모두 더함\n",
        "      if is_ON:\n",
        "        term += row['timestamp'] - timestamp\n",
        "        is_ON = 0\n",
        "\n",
        "  term = term // 1000\n",
        "  m, s = divmod(term, 60)\n",
        "  h, m= divmod(m, 60)\n",
        "  \n",
        "  print('하루 동안 사용량: {0:2d}시간 {1:2d}분 {2:2d}초'.format(h, m, s))"
      ]
    },
    {
      "cell_type": "markdown",
      "metadata": {
        "id": "TSZnAPMMyn2M"
      },
      "source": [
        "### 2. 수면 직전 핸드폰 사용시간"
      ]
    },
    {
      "cell_type": "markdown",
      "metadata": {
        "id": "5R_DiMZqyn2N"
      },
      "source": [
        "### SCREEN_ON/UNLOCK"
      ]
    },
    {
      "cell_type": "markdown",
      "metadata": {
        "id": "i9x44hUryn2N"
      },
      "source": [
        "DeviceEventEntity 파일들 불러오기 및 시간 오름차순 정렬\n",
        "\n"
      ]
    },
    {
      "cell_type": "code",
      "source": [],
      "metadata": {
        "id": "Gl8TbIpqyn2N"
      },
      "execution_count": null,
      "outputs": []
    },
    {
      "cell_type": "code",
      "execution_count": null,
      "metadata": {
        "id": "G9oWgXKFyn2N"
      },
      "outputs": [],
      "source": [
        "dEE_files = []\n",
        "for file in in_folder:\n",
        "  if \"DeviceEventEntity\" in file:\n",
        "    dEE_files.append(file)\n",
        "\n",
        "# 정렬\n",
        "dEE_files = sorted(dEE_files)"
      ]
    },
    {
      "cell_type": "markdown",
      "metadata": {
        "id": "0J0aQUYOyn2N"
      },
      "source": [
        "제일 길었던 SCREEN_OFF -> UNLOCK 시간\n",
        "(각 파일이 당일 오전 9시 ~ 익일 오전 8시까지 인 것 같은데 두 파일을 합쳐야할지..)"
      ]
    },
    {
      "cell_type": "code",
      "execution_count": null,
      "metadata": {
        "id": "GPhtIZd9yn2N"
      },
      "outputs": [],
      "source": [
        "for file in dEE_files:\n",
        "  current_df = pd.read_csv(route+file)\n",
        "  term = 0\n",
        "  timestamp = 0\n",
        "  is_OFF = 0\n",
        "  ts_bf_sleep = 0 # 잠들기 전 timestamp\n",
        "  ts_aft_wake = 0 # 깨고 난 후 timestamp\n",
        "\n",
        "  for index, row in current_df.iterrows():\n",
        "    if row['type'] == 'UNLOCK': # screen이 꺼져있는 상태에서 UNLOCK 됐을 때 사이 기간이 제일 긴 구간을 저장장\n",
        "      if (is_OFF and (term < (row['timestamp'] - timestamp))):\n",
        "        term = row['timestamp'] - timestamp\n",
        "        ts_bf_sleep = timestamp\n",
        "        ts_aft_wake = row['timestamp']\n",
        "      is_OFF = 0\n",
        "    elif row['type'] == 'SCREEN_OFF': # SCREEN_OFF 된 시간을 저장장\n",
        "      if not is_OFF:\n",
        "        timestamp = row['timestamp']\n",
        "      is_OFF = 1\n",
        "  \n",
        "  datetime_bf_sleep = datetime.fromtimestamp(ts_bf_sleep/1000, tz)\n",
        "  datetime_aft_wake = datetime.fromtimestamp(ts_aft_wake/1000, tz)\n",
        "  print(term, '자기 전 시간: ', datetime_bf_sleep, ' 깬 시간: ', datetime_aft_wake)"
      ]
    },
    {
      "cell_type": "markdown",
      "metadata": {
        "id": "jGRpKcD5yn2O"
      },
      "source": []
    },
    {
      "cell_type": "markdown",
      "metadata": {
        "id": "lHbqpkS5yn2O"
      },
      "source": [
        "### ENTER_STILL/EXIT_STILL"
      ]
    },
    {
      "cell_type": "markdown",
      "metadata": {
        "id": "H6PfyRgHyn2O"
      },
      "source": [
        "PhysicalActivityTransitionEntity 파일들 불러오기 및 시간 오름차순 정렬\n",
        "\n"
      ]
    },
    {
      "cell_type": "code",
      "execution_count": null,
      "metadata": {
        "id": "OlAlr_qLyn2O"
      },
      "outputs": [],
      "source": [
        "pATE_files = []\n",
        "for file in in_folder:\n",
        "  if \"PhysicalActivityTransitionEntity\" in file:\n",
        "    pATE_files.append(file)\n",
        "\n",
        "# 정렬\n",
        "pATE_files = sorted(pATE_files)"
      ]
    },
    {
      "cell_type": "markdown",
      "metadata": {
        "id": "WV9Zq2eMyn2O"
      },
      "source": [
        "제일 길었던 ENTER_STILL -> EXIT_STILL 시간"
      ]
    },
    {
      "cell_type": "code",
      "execution_count": null,
      "metadata": {
        "id": "ulb91MGPyn2O"
      },
      "outputs": [],
      "source": [
        "for file in pATE_files:\n",
        "  current_df = pd.read_csv(route+file)\n",
        "  term = 0\n",
        "  timestamp = 0\n",
        "  is_STILL = 0\n",
        "  ts_bf_sleep = 0 # 잠들기 전 timestamp\n",
        "  ts_aft_wake = 0 # 깨고 난 후 timestamp\n",
        "\n",
        "  for index, row in current_df.iterrows():\n",
        "    if row['transitionType'] == 'EXIT_STILL': # ENTER_STILL ~ EXIT_STILL이 제일 긴 구간을 저장장\n",
        "      if (is_STILL and (term < (row['timestamp'] - timestamp))): \n",
        "        term = row['timestamp'] - timestamp\n",
        "        ts_bf_sleep = timestamp\n",
        "        ts_aft_wake = row['timestamp']\n",
        "      is_STILL = 0\n",
        "    elif row['transitionType'] == 'ENTER_STILL': # ENTER_STILL에 들어간 시간을 저장장\n",
        "      if not is_STILL:\n",
        "        timestamp = row['timestamp']\n",
        "      is_STILL = 1\n",
        "  \n",
        "  datetime_bf_sleep = datetime.fromtimestamp(ts_bf_sleep/1000, tz)\n",
        "  datetime_aft_wake = datetime.fromtimestamp(ts_aft_wake/1000, tz)\n",
        "  print(term, '자기 전 시간: ', datetime_bf_sleep, ' 깬 시간: ', datetime_aft_wake)"
      ]
    },
    {
      "cell_type": "markdown",
      "metadata": {
        "id": "mJqQBHunyn2O"
      },
      "source": [
        "### STILL 유지 시간"
      ]
    },
    {
      "cell_type": "markdown",
      "metadata": {
        "id": "gPYBXbNRyn2P"
      },
      "source": [
        "PhysicalActivityEventEntity 파일들 불러오기 및 시간 오름차순 정렬\n",
        "\n"
      ]
    },
    {
      "cell_type": "code",
      "execution_count": null,
      "metadata": {
        "id": "X3L9c2Pfyn2P"
      },
      "outputs": [],
      "source": [
        "pAEE_files = []\n",
        "for file in in_folder:\n",
        "  if \"PhysicalActivityEventEntity\" in file:\n",
        "    pAEE_files.append(file)\n",
        "\n",
        "# 정렬\n",
        "pAEE_files = sorted(pAEE_files)\n",
        "# pAEE_files"
      ]
    },
    {
      "cell_type": "markdown",
      "metadata": {
        "id": "L3UBj4k4yn2P"
      },
      "source": [
        "제일 길었던 STILL 구간(적당한 count 기준 수를 모르겠음..)"
      ]
    },
    {
      "cell_type": "code",
      "execution_count": null,
      "metadata": {
        "id": "wHjAOEOEyn2P"
      },
      "outputs": [],
      "source": [
        "for file in pAEE_files:\n",
        "  current_df = pd.read_csv(route+file)\n",
        "  term = 0\n",
        "  timestamp = 0\n",
        "  is_STILL = 0\n",
        "  ts_bf_sleep = 0\n",
        "  ts_aft_wake = 0\n",
        "  count = 0 # STILL 사이에 들어올 다른 type들을 몇개나 허용할건지\n",
        "\n",
        "  for index, row in current_df.iterrows():\n",
        "    if row['confidence'] < 0.5: # confidence 0.5 미만인 것들은 무시\n",
        "      continue\n",
        "    if row['type'] == 'STILL': # STILL 상태\n",
        "      if (is_STILL): # 그 전에도 STILL 이었으면 그대로 유지\n",
        "        is_STILL = 1\n",
        "      else: # 아닌 경우에는 STILL에 들어간 시각을 저장\n",
        "        timestamp = row['timestamp']\n",
        "        is_STILL = 1\n",
        "    else: # STILL 이외 상태\n",
        "      if (is_STILL): # 이 전에 STILL이었으면 count 만큼의 오차는 허용해서 계속 STILL로 인식\n",
        "        if count < 5:\n",
        "          count += 1\n",
        "        else:  # count 오차를 벗어났으면 STILL이 유지된 구간 저장\n",
        "          term = max(term, (row['timestamp'] - timestamp))\n",
        "          ts_bf_sleep = timestamp\n",
        "          ts_aft_wake = row['timestamp']\n",
        "          count = 0\n",
        "          is_STILL = 0\n",
        "      else:\n",
        "        is_STILL = 0\n",
        "\n",
        "  datetime_bf_sleep = datetime.fromtimestamp(ts_bf_sleep/1000, tz)\n",
        "  datetime_aft_wake = datetime.fromtimestamp(ts_aft_wake/1000, tz)\n",
        "  print(term, '자기 전 시간: ', datetime_bf_sleep, ' 깬 시간: ', datetime_aft_wake)"
      ]
    },
    {
      "cell_type": "markdown",
      "metadata": {
        "id": "aNt0IF0Ryn2P"
      },
      "source": [
        "### 3. 특정 어플 목표 사용시간\n",
        "(일단 너꺼 복붙해서 일자별 어플 사용시간만 놔뒀음)"
      ]
    },
    {
      "cell_type": "markdown",
      "metadata": {
        "id": "iaepCz8dyn2Q"
      },
      "source": [
        "AppUsageStatEntity 파일 filter 및 정렬"
      ]
    },
    {
      "cell_type": "code",
      "execution_count": null,
      "metadata": {
        "id": "NaF_vBKKyn2Q"
      },
      "outputs": [],
      "source": [
        "import plotly.graph_objects as go\n",
        "\n",
        "aUSE_files = []\n",
        "for file in in_folder:\n",
        "  if \"AppUsageStatEntity\" in file:\n",
        "    aUSE_files.append(file)\n",
        "\n",
        "# 정렬\n",
        "aUSE_files = sorted(aUSE_files)\n",
        "\n",
        "for file in aUSE_files:\n",
        "  current_df = pd.read_csv(route+file)\n",
        "  app_usage_df = current_df.drop(['startTime', 'endTime', 'isUpdatedSystemApp', 'isSystemApp', 'lastTimeUsed'], axis=1)\n",
        "\n",
        "  total_time_package_name = app_usage_df.groupby('packageName').agg({'totalTimeForeground': 'max'}).reset_index();\n",
        "  top_package_names = total_time_package_name.nlargest(5, 'totalTimeForeground').packageName.tolist()\n",
        "  app_usage_df.loc[~app_usage_df['packageName'].isin(top_package_names), 'name'] = 'others'\n",
        "\n",
        "  total_time_name = app_usage_df.groupby('name').agg({'totalTimeForeground': 'max'}).reset_index();\n",
        "  total_time_name['totalTimeForeground'] /= 3600000\n",
        "\n",
        "  fig = go.Figure()\n",
        "\n",
        "  # 그래프에 데이터 추가\n",
        "  fig.add_trace(go.Bar(x=total_time_name['name'], y=total_time_name['totalTimeForeground']))\n",
        "\n",
        "  # 그래프 레이아웃 설정\n",
        "  fig.update_layout(title='Total Time Foreground by Package Name',\n",
        "                    xaxis_title='Package Name',\n",
        "                    yaxis_title='Total Time Foreground')\n",
        "\n",
        "  # 그래프 출력\n",
        "  fig.show()\n",
        "\n",
        "  app_usage_top1 = app_usage_df.loc[app_usage_df['packageName'] == top_package_names[0]]\n",
        "  app_usage_top1.head()\n",
        "\n",
        "  fig = go.Figure()\n",
        "  #Make a basic line plot which shows the trend of Co2 emissions\n",
        "  fig.add_trace(go.Scatter(x=app_usage_top1['timestamp'], \n",
        "                          y=app_usage_top1['totalTimeForeground'] / 3600000,\n",
        "                          mode='markers',\n",
        "                          ))\n",
        "\n",
        "\n",
        "  fig.update_layout(\n",
        "      title='Screen Time: '+top_package_names[0],\n",
        "  )\n"
      ]
    },
    {
      "cell_type": "markdown",
      "metadata": {
        "id": "A9CAqg3Fyn2Q"
      },
      "source": [
        "### 4. 화면 키는 빈도수 줄이기"
      ]
    },
    {
      "cell_type": "code",
      "execution_count": null,
      "metadata": {
        "id": "D0EE6uECyn2Q"
      },
      "outputs": [],
      "source": [
        "dEE_files = []\n",
        "for file in in_folder:\n",
        "  if \"DeviceEventEntity\" in file:\n",
        "    dEE_files.append(file)\n",
        "\n",
        "# 정렬\n",
        "dEE_files = sorted(dEE_files)\n",
        "\n",
        "for file in dEE_files: \n",
        "  current_df = pd.read_csv(route+file) # 현재 file\n",
        "  screen_on_df = current_df.groupby('type').count().reset_index()\n",
        "  screen_on_df = screen_on_df.rename(columns={'timestamp': 'count'})\n",
        "  screen_on_df = screen_on_df"
      ]
    }
  ],
  "metadata": {
    "colab": {
      "provenance": [],
      "toc_visible": true
    },
    "kernelspec": {
      "display_name": "Python 3",
      "name": "python3"
    },
    "language_info": {
      "name": "python"
    }
  },
  "nbformat": 4,
  "nbformat_minor": 0
}